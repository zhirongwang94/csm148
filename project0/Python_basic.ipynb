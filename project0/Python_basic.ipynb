{
  "nbformat": 4,
  "nbformat_minor": 0,
  "metadata": {
    "anaconda-cloud": {},
    "kernelspec": {
      "display_name": "Python 3",
      "language": "python",
      "name": "python3"
    },
    "language_info": {
      "codemirror_mode": {
        "name": "ipython",
        "version": 3
      },
      "file_extension": ".py",
      "mimetype": "text/x-python",
      "name": "python",
      "nbconvert_exporter": "python",
      "pygments_lexer": "ipython3",
      "version": "3.9.1"
    },
    "colab": {
      "name": "Python_basic.ipynb",
      "provenance": [],
      "include_colab_link": true
    }
  },
  "cells": [
    {
      "cell_type": "markdown",
      "metadata": {
        "id": "view-in-github",
        "colab_type": "text"
      },
      "source": [
        "<a href=\"https://colab.research.google.com/github/zhirongwang94/csm148/blob/main/project0/Python_basic.ipynb\" target=\"_parent\"><img src=\"https://colab.research.google.com/assets/colab-badge.svg\" alt=\"Open In Colab\"/></a>"
      ]
    },
    {
      "cell_type": "markdown",
      "metadata": {
        "id": "PpsshbPEgAbA"
      },
      "source": [
        "# Outline:\n",
        "<ol start=\"1\">\n",
        "<li> Writing short Python code using functions, loops, lists, numpy arrays, and dictionaries </li>\n",
        "<li> Manipulating Python lists and numpy arrays and understanding the difference between them</li>\n",
        "<li> Introducing the stats libraries scipy.stats and statsmodels</li>\n",
        "</ol>"
      ]
    },
    {
      "cell_type": "markdown",
      "metadata": {
        "id": "3VNs4svzgAbC"
      },
      "source": [
        "## Getting Started with Python"
      ]
    },
    {
      "cell_type": "markdown",
      "metadata": {
        "id": "JZTJEkvagAbD"
      },
      "source": [
        "### Importing modules\n",
        "All notebooks should begin with code that imports *modules*, collections of built-in, commonly-used Python functions.  Below we import the Numpy module, a fast numerical programming library for scientific computing.  Future labs will require additional modules, which we'll import with the same syntax.\n",
        "\n",
        "`import MODULE_NAME as MODULE_NICKNAME` "
      ]
    },
    {
      "cell_type": "code",
      "metadata": {
        "id": "6lPbLVT3gAbD"
      },
      "source": [
        "import numpy as np #imports a fast numerical programming library"
      ],
      "execution_count": null,
      "outputs": []
    },
    {
      "cell_type": "markdown",
      "metadata": {
        "id": "oQo3gRnmgAbE"
      },
      "source": [
        "Now that Numpy has been imported, we can access some useful functions.  For example, we can use `mean` to calculate the mean of a set of numbers."
      ]
    },
    {
      "cell_type": "code",
      "metadata": {
        "colab": {
          "base_uri": "https://localhost:8080/"
        },
        "id": "o4dIzbx3gAbE",
        "outputId": "b9236443-5ccc-4005-864c-20f60b2844fb"
      },
      "source": [
        "my_list = [1.2, 2, 3.3]\n",
        "np.mean(my_list)"
      ],
      "execution_count": null,
      "outputs": [
        {
          "output_type": "execute_result",
          "data": {
            "text/plain": [
              "2.1666666666666665"
            ]
          },
          "metadata": {
            "tags": []
          },
          "execution_count": 2
        }
      ]
    },
    {
      "cell_type": "markdown",
      "metadata": {
        "id": "_vjdjG4UgAbF"
      },
      "source": [
        "### Calculations and variables"
      ]
    },
    {
      "cell_type": "code",
      "metadata": {
        "colab": {
          "base_uri": "https://localhost:8080/"
        },
        "id": "ZWsKJ91MgAbF",
        "outputId": "b259bdb0-3a5c-4030-e1e7-b98199ac6ec8"
      },
      "source": [
        "# // is integer division\n",
        "1/2, 1//2, 1.0/2, 3*3.2"
      ],
      "execution_count": null,
      "outputs": [
        {
          "output_type": "execute_result",
          "data": {
            "text/plain": [
              "(0.5, 0, 0.5, 9.600000000000001)"
            ]
          },
          "metadata": {
            "tags": []
          },
          "execution_count": 3
        }
      ]
    },
    {
      "cell_type": "markdown",
      "metadata": {
        "id": "fuS6HIDNgAbG"
      },
      "source": [
        "The last line in a cell is returned as the output value, as above.  For cells with multiple lines of results, we can display results using ``print``, as can be seen below."
      ]
    },
    {
      "cell_type": "code",
      "metadata": {
        "colab": {
          "base_uri": "https://localhost:8080/"
        },
        "id": "6AXdxyNOgAbG",
        "outputId": "3baa9eb3-35ca-4395-e6ab-3084049a5050"
      },
      "source": [
        "print(1 + 3.0, \"\\n\", 9, 7)\n",
        "5/3"
      ],
      "execution_count": null,
      "outputs": [
        {
          "output_type": "stream",
          "text": [
            "4.0 \n",
            " 9 7\n"
          ],
          "name": "stdout"
        },
        {
          "output_type": "execute_result",
          "data": {
            "text/plain": [
              "1.6666666666666667"
            ]
          },
          "metadata": {
            "tags": []
          },
          "execution_count": 4
        }
      ]
    },
    {
      "cell_type": "markdown",
      "metadata": {
        "id": "UlKZnEfwgAbG"
      },
      "source": [
        "We can store integer or floating point values as variables.  The other basic Python data types -- booleans, strings, lists -- can also be stored as variables. "
      ]
    },
    {
      "cell_type": "code",
      "metadata": {
        "id": "QDaqblGugAbH"
      },
      "source": [
        "a = 1\n",
        "b = 2.0"
      ],
      "execution_count": null,
      "outputs": []
    },
    {
      "cell_type": "markdown",
      "metadata": {
        "id": "d6Yp1-jcgAbH"
      },
      "source": [
        "Here is the storing of a list"
      ]
    },
    {
      "cell_type": "code",
      "metadata": {
        "id": "h_ipoU6DgAbH"
      },
      "source": [
        "a = [1, 2, 3]"
      ],
      "execution_count": null,
      "outputs": []
    },
    {
      "cell_type": "markdown",
      "metadata": {
        "id": "VGRnfg-AgAbI"
      },
      "source": [
        "Think of a variable as a label for a value, not a box in which you put the value"
      ]
    },
    {
      "cell_type": "code",
      "metadata": {
        "colab": {
          "base_uri": "https://localhost:8080/"
        },
        "id": "dGBU3lk-gAbI",
        "outputId": "f126acc9-3b79-4610-f2e5-520fe6129dcd"
      },
      "source": [
        "b = a\n",
        "b"
      ],
      "execution_count": null,
      "outputs": [
        {
          "output_type": "execute_result",
          "data": {
            "text/plain": [
              "[1, 2, 3]"
            ]
          },
          "metadata": {
            "tags": []
          },
          "execution_count": 7
        }
      ]
    },
    {
      "cell_type": "markdown",
      "metadata": {
        "id": "_WzY3U2mgAbI"
      },
      "source": [
        "This DOES NOT create a new copy of `a`. It merely puts a new label on the memory at a, as can be seen by the following code:"
      ]
    },
    {
      "cell_type": "code",
      "metadata": {
        "colab": {
          "base_uri": "https://localhost:8080/"
        },
        "id": "L94Cl0tdgAbJ",
        "outputId": "9de34616-ea6b-4e48-d6f6-b517f620d228"
      },
      "source": [
        "print(\"a\", a)\n",
        "print(\"b\", b)\n",
        "a[1] = 7\n",
        "print(\"a after change\", a)\n",
        "print(\"b after change\", b)"
      ],
      "execution_count": null,
      "outputs": [
        {
          "output_type": "stream",
          "text": [
            "a [1, 2, 3]\n",
            "b [1, 2, 3]\n",
            "a after change [1, 7, 3]\n",
            "b after change [1, 7, 3]\n"
          ],
          "name": "stdout"
        }
      ]
    },
    {
      "cell_type": "markdown",
      "metadata": {
        "id": "VNUQWwIWgAbJ"
      },
      "source": [
        "what if we use b=a.copy()?"
      ]
    },
    {
      "cell_type": "markdown",
      "metadata": {
        "id": "ouzMXp5VgAbJ"
      },
      "source": [
        "**Tuples**\n",
        "\n",
        "Multiple items on one line in the interface are returned as a *tuple*, an immutable sequence of Python objects. See the end of this notebook for an interesting use of `tuples`."
      ]
    },
    {
      "cell_type": "code",
      "metadata": {
        "colab": {
          "base_uri": "https://localhost:8080/"
        },
        "id": "w7PyH6Z7gAbK",
        "outputId": "02f6259d-4e63-49ae-cb9b-222db6225d1d"
      },
      "source": [
        "a = 1\n",
        "b = 2.0\n",
        "a + a, a - b, b * b, 10*a"
      ],
      "execution_count": null,
      "outputs": [
        {
          "output_type": "execute_result",
          "data": {
            "text/plain": [
              "(2, -1.0, 4.0, 10)"
            ]
          },
          "metadata": {
            "tags": []
          },
          "execution_count": 9
        }
      ]
    },
    {
      "cell_type": "markdown",
      "metadata": {
        "id": "7-pjO_c-gAbK"
      },
      "source": [
        "#### `type()`\n",
        "\n",
        "We can obtain the type of a variable, and use boolean comparisons to test these types. VERY USEFUL when things go wrong and you cannot understand why this method does not work on a specific variable!"
      ]
    },
    {
      "cell_type": "code",
      "metadata": {
        "colab": {
          "base_uri": "https://localhost:8080/"
        },
        "id": "MqorlUaCgAbK",
        "outputId": "3f863b1c-7940-433d-dfa7-e2dd004a762d"
      },
      "source": [
        "type(a) == float"
      ],
      "execution_count": null,
      "outputs": [
        {
          "output_type": "execute_result",
          "data": {
            "text/plain": [
              "False"
            ]
          },
          "metadata": {
            "tags": []
          },
          "execution_count": 10
        }
      ]
    },
    {
      "cell_type": "code",
      "metadata": {
        "colab": {
          "base_uri": "https://localhost:8080/"
        },
        "id": "a4HywVWwgAbL",
        "outputId": "d8c17934-a380-4be7-dc4e-48db59c343e5"
      },
      "source": [
        "type(a) == int"
      ],
      "execution_count": null,
      "outputs": [
        {
          "output_type": "execute_result",
          "data": {
            "text/plain": [
              "True"
            ]
          },
          "metadata": {
            "tags": []
          },
          "execution_count": 11
        }
      ]
    },
    {
      "cell_type": "code",
      "metadata": {
        "colab": {
          "base_uri": "https://localhost:8080/"
        },
        "id": "rRbwMeRVgAbL",
        "outputId": "fd9497ab-47b7-4577-96a6-a7ecb6d474c2"
      },
      "source": [
        "type(a)"
      ],
      "execution_count": null,
      "outputs": [
        {
          "output_type": "execute_result",
          "data": {
            "text/plain": [
              "int"
            ]
          },
          "metadata": {
            "tags": []
          },
          "execution_count": 12
        }
      ]
    },
    {
      "cell_type": "markdown",
      "metadata": {
        "id": "lFoUT7uSgAbM"
      },
      "source": [
        "<div class='exercise'> <b> EXERCISE 1:  Create a tuple called `tup` with the following seven objects: </div>\n",
        "\n",
        "- The first element is an integer of your choice\n",
        "- The second element is a float of your choice  \n",
        "- The third element is the sum of the first two elements\n",
        "- The fourth element is the difference of the first two elements\n",
        "- The fifth element is the first element divided by the second element\n",
        "\n",
        "- Display the output of `tup`.  What is the type of the variable `tup`? What happens if you try and chage an item in the tuple? "
      ]
    },
    {
      "cell_type": "code",
      "metadata": {
        "colab": {
          "base_uri": "https://localhost:8080/"
        },
        "id": "fUIMcqvRgAbM",
        "outputId": "d05d668a-ef84-4d3c-cf98-458c4985b419"
      },
      "source": [
        "# your code here\n",
        "first = 1\n",
        "second = 2.0\n",
        "third = first + second\n",
        "fourth = first - second\n",
        "fifth = first / second\n",
        "\n",
        "tup = (first, second, third, fourth, fifth)\n",
        "print(\"Display the output of tup: \", tup)\n",
        "print(\"Type of the variable tup : \", type(tup))\n",
        "\n",
        "# uptdate an item in the tuple \n",
        "# tup[0] = \"first updated\"\n",
        "# Output: TypeError: 'tuple' object does not support item assignment\n",
        "# tuple is immutable "
      ],
      "execution_count": null,
      "outputs": [
        {
          "output_type": "stream",
          "text": [
            "Display the output of tup:  (1, 2.0, 3.0, -1.0, 0.5)\n",
            "Type of the variable tup :  <class 'tuple'>\n"
          ],
          "name": "stdout"
        }
      ]
    },
    {
      "cell_type": "markdown",
      "metadata": {
        "id": "j8X9Y-D7gAbM"
      },
      "source": [
        "### Lists\n",
        "\n",
        "Much of Python is based on the notion of a list.  In Python, a list is a sequence of items separated by commas, all within square brackets.  The items can be integers, floating points, or another type.  Unlike in C arrays, items in a Python list can be different types, so Python lists are more versatile than traditional arrays in C or other languages. \n",
        "\n",
        "Let's start out by creating a few lists.  "
      ]
    },
    {
      "cell_type": "code",
      "metadata": {
        "id": "ezjk0sNQgAbM",
        "outputId": "e71da3b0-237a-4d4d-8b9c-820d3618887d"
      },
      "source": [
        "empty_list = []\n",
        "float_list = [1., 3., 5., 4., 2.]\n",
        "int_list = [1, 2, 3, 4, 5, 6, 7, 8, 9, 10]\n",
        "mixed_list = [1, 2., 3, 4., 5]\n",
        "print(empty_list)\n",
        "print(int_list)\n",
        "print(mixed_list, float_list)"
      ],
      "execution_count": null,
      "outputs": [
        {
          "output_type": "stream",
          "text": [
            "[]\n",
            "[1, 2, 3, 4, 5, 6, 7, 8, 9, 10]\n",
            "[1, 2.0, 3, 4.0, 5] [1.0, 3.0, 5.0, 4.0, 2.0]\n"
          ],
          "name": "stdout"
        }
      ]
    },
    {
      "cell_type": "markdown",
      "metadata": {
        "id": "nvQCm2pKgAbN"
      },
      "source": [
        "Lists in Python are zero-indexed, as in C.  The first entry of the list has index 0, the second has index 1, and so on."
      ]
    },
    {
      "cell_type": "code",
      "metadata": {
        "id": "N1MSmXdEgAbN",
        "outputId": "9eaa31ab-f6c0-416f-ab4d-dd28413070d3"
      },
      "source": [
        "print(int_list[0])\n",
        "print(float_list[1])"
      ],
      "execution_count": null,
      "outputs": [
        {
          "output_type": "stream",
          "text": [
            "1\n",
            "3.0\n"
          ],
          "name": "stdout"
        }
      ]
    },
    {
      "cell_type": "markdown",
      "metadata": {
        "id": "M2UQ8TEqgAbN"
      },
      "source": [
        "What happens if we try to use an index that doesn't exist for that list?  Python will complain!"
      ]
    },
    {
      "cell_type": "code",
      "metadata": {
        "id": "vcvQV3SqgAbN",
        "outputId": "f7960bb0-bb88-4f80-f0d8-54ada2d50895"
      },
      "source": [
        "print(float_list[10])"
      ],
      "execution_count": null,
      "outputs": [
        {
          "output_type": "error",
          "ename": "IndexError",
          "evalue": "list index out of range",
          "traceback": [
            "\u001b[0;31m---------------------------------------------------------------------------\u001b[0m",
            "\u001b[0;31mIndexError\u001b[0m                                Traceback (most recent call last)",
            "\u001b[0;32m<ipython-input-39-0138b2c321c5>\u001b[0m in \u001b[0;36m<module>\u001b[0;34m\u001b[0m\n\u001b[0;32m----> 1\u001b[0;31m \u001b[0mprint\u001b[0m\u001b[0;34m(\u001b[0m\u001b[0mfloat_list\u001b[0m\u001b[0;34m[\u001b[0m\u001b[0;36m10\u001b[0m\u001b[0;34m]\u001b[0m\u001b[0;34m)\u001b[0m\u001b[0;34m\u001b[0m\u001b[0;34m\u001b[0m\u001b[0m\n\u001b[0m",
            "\u001b[0;31mIndexError\u001b[0m: list index out of range"
          ]
        }
      ]
    },
    {
      "cell_type": "markdown",
      "metadata": {
        "id": "zwXZhUdRgAbO"
      },
      "source": [
        "You can find the length of a list using the built-in function `len`:"
      ]
    },
    {
      "cell_type": "code",
      "metadata": {
        "id": "kGdq1GvUgAbO",
        "outputId": "e1a0d71e-ffc9-4aff-c524-fa3837eeea11"
      },
      "source": [
        "print(float_list)\n",
        "len(float_list)"
      ],
      "execution_count": null,
      "outputs": [
        {
          "output_type": "stream",
          "text": [
            "[1.0, 3.0, 5.0, 4.0, 2.0]\n"
          ],
          "name": "stdout"
        },
        {
          "output_type": "execute_result",
          "data": {
            "text/plain": [
              "5"
            ]
          },
          "metadata": {
            "tags": []
          },
          "execution_count": 40
        }
      ]
    },
    {
      "cell_type": "markdown",
      "metadata": {
        "id": "6dJue7PxgAbO"
      },
      "source": [
        "### Indexing on lists plus Slicing"
      ]
    },
    {
      "cell_type": "markdown",
      "metadata": {
        "id": "iYkGJAFHgAbP"
      },
      "source": [
        "And since Python is zero-indexed, the last element of `float_list` is"
      ]
    },
    {
      "cell_type": "code",
      "metadata": {
        "id": "yJ3RJU0PgAbP",
        "outputId": "9ea9a52b-e314-414a-fa41-047e819f9d52"
      },
      "source": [
        "float_list[len(float_list)-1]"
      ],
      "execution_count": null,
      "outputs": [
        {
          "output_type": "execute_result",
          "data": {
            "text/plain": [
              "2.0"
            ]
          },
          "metadata": {
            "tags": []
          },
          "execution_count": 41
        }
      ]
    },
    {
      "cell_type": "markdown",
      "metadata": {
        "id": "9DreMRBlgAbP"
      },
      "source": [
        "It is more idiomatic in Python to use -1 for the last element, -2 for the second last, and so on"
      ]
    },
    {
      "cell_type": "code",
      "metadata": {
        "id": "8w0aFc2cgAbP",
        "outputId": "7f824eb7-87bd-458a-cad1-f0f45997d112"
      },
      "source": [
        "float_list[-1]"
      ],
      "execution_count": null,
      "outputs": [
        {
          "output_type": "execute_result",
          "data": {
            "text/plain": [
              "2.0"
            ]
          },
          "metadata": {
            "tags": []
          },
          "execution_count": 42
        }
      ]
    },
    {
      "cell_type": "markdown",
      "metadata": {
        "id": "3UnkclEegAbQ"
      },
      "source": [
        "We can use the ``:`` operator to access a subset of the list.  This is called **slicing.** "
      ]
    },
    {
      "cell_type": "code",
      "metadata": {
        "id": "LpwLp6DHgAbQ",
        "outputId": "36c10eff-2abd-4eb8-b990-376a4c8f1b46"
      },
      "source": [
        "print(float_list[1:5])\n",
        "print(float_list[0:2])"
      ],
      "execution_count": null,
      "outputs": [
        {
          "output_type": "stream",
          "text": [
            "[3.0, 5.0, 4.0, 2.0]\n",
            "[1.0, 3.0]\n"
          ],
          "name": "stdout"
        }
      ]
    },
    {
      "cell_type": "code",
      "metadata": {
        "id": "31uEbeTigAbQ",
        "outputId": "1dd58f9b-2fa4-4bc6-c569-1b2b521bc3fc"
      },
      "source": [
        "lst = ['hi', 7, 'c', 'cat', 'hello', 8]\n",
        "lst[:2]"
      ],
      "execution_count": null,
      "outputs": [
        {
          "output_type": "execute_result",
          "data": {
            "text/plain": [
              "['hi', 7]"
            ]
          },
          "metadata": {
            "tags": []
          },
          "execution_count": 44
        }
      ]
    },
    {
      "cell_type": "markdown",
      "metadata": {
        "id": "6yOxX0CqgAbR"
      },
      "source": [
        "You can slice \"backwards\" as well:"
      ]
    },
    {
      "cell_type": "code",
      "metadata": {
        "id": "F62Z4TpQgAbR",
        "outputId": "c8b1556b-c884-44ee-8bc6-c6a58d7fb212"
      },
      "source": [
        "float_list[:-2] # up to second last"
      ],
      "execution_count": null,
      "outputs": [
        {
          "output_type": "execute_result",
          "data": {
            "text/plain": [
              "[1.0, 3.0, 5.0]"
            ]
          },
          "metadata": {
            "tags": []
          },
          "execution_count": 45
        }
      ]
    },
    {
      "cell_type": "code",
      "metadata": {
        "id": "8CNEVhS6gAbR",
        "outputId": "b998982d-2e46-4400-a3bd-d87bfe4ca049"
      },
      "source": [
        "float_list[:4] # up to but not including 5th element"
      ],
      "execution_count": null,
      "outputs": [
        {
          "output_type": "execute_result",
          "data": {
            "text/plain": [
              "[1.0, 3.0, 5.0, 4.0]"
            ]
          },
          "metadata": {
            "tags": []
          },
          "execution_count": 46
        }
      ]
    },
    {
      "cell_type": "markdown",
      "metadata": {
        "id": "NdNA1pTdgAbR"
      },
      "source": [
        "You can also slice with a stride:"
      ]
    },
    {
      "cell_type": "code",
      "metadata": {
        "id": "z4zFxQoUgAbS",
        "outputId": "60bc0bcb-e408-459a-a249-76ebed6fb749"
      },
      "source": [
        "float_list[:4:2] # above but skipping every second element"
      ],
      "execution_count": null,
      "outputs": [
        {
          "output_type": "execute_result",
          "data": {
            "text/plain": [
              "[1.0, 5.0]"
            ]
          },
          "metadata": {
            "tags": []
          },
          "execution_count": 47
        }
      ]
    },
    {
      "cell_type": "markdown",
      "metadata": {
        "id": "AFJEUU4agAbS"
      },
      "source": [
        "We can iterate through a list using a loop.  Here's a **for loop.**"
      ]
    },
    {
      "cell_type": "code",
      "metadata": {
        "id": "joujVPdBgAbS",
        "outputId": "b68e8608-eed9-4724-f938-f6478609e291"
      },
      "source": [
        "for ele in float_list:\n",
        "    print(ele)"
      ],
      "execution_count": null,
      "outputs": [
        {
          "output_type": "stream",
          "text": [
            "1.0\n",
            "3.0\n",
            "5.0\n",
            "4.0\n",
            "2.0\n"
          ],
          "name": "stdout"
        }
      ]
    },
    {
      "cell_type": "markdown",
      "metadata": {
        "id": "NHTHdW-vgAbS"
      },
      "source": [
        "What if you wanted the index as well?"
      ]
    },
    {
      "cell_type": "markdown",
      "metadata": {
        "id": "DG3jrhWMgAbS"
      },
      "source": [
        "Use the built-in python method `enumerate`,  which can be used to create a list of tuples with each tuple of the form `(index, value)`. "
      ]
    },
    {
      "cell_type": "code",
      "metadata": {
        "scrolled": true,
        "id": "ot6nX4pMgAbT",
        "outputId": "e242151b-9244-485a-bf8e-fb5a772060c3"
      },
      "source": [
        "for i, ele in enumerate(float_list):\n",
        "    print(i, ele)"
      ],
      "execution_count": null,
      "outputs": [
        {
          "output_type": "stream",
          "text": [
            "0 1.0\n",
            "1 3.0\n",
            "2 5.0\n",
            "3 4.0\n",
            "4 2.0\n"
          ],
          "name": "stdout"
        }
      ]
    },
    {
      "cell_type": "markdown",
      "metadata": {
        "id": "6YUEOqczgAbT"
      },
      "source": [
        "### Appending and deleting"
      ]
    },
    {
      "cell_type": "markdown",
      "metadata": {
        "id": "2kbVQO-sgAbT"
      },
      "source": [
        "We can also append items to the end of the list using the `+` operator or with `append`."
      ]
    },
    {
      "cell_type": "code",
      "metadata": {
        "id": "93i5_NcxgAbT",
        "outputId": "ceef41e4-9e1d-4d3b-f2b6-7efcbd5c8968"
      },
      "source": [
        "float_list + [.333]"
      ],
      "execution_count": null,
      "outputs": [
        {
          "output_type": "execute_result",
          "data": {
            "text/plain": [
              "[1.0, 3.0, 5.0, 4.0, 2.0, 0.333]"
            ]
          },
          "metadata": {
            "tags": []
          },
          "execution_count": 50
        }
      ]
    },
    {
      "cell_type": "code",
      "metadata": {
        "id": "0AeiWhjhgAbU"
      },
      "source": [
        "float_list.append(.444)"
      ],
      "execution_count": null,
      "outputs": []
    },
    {
      "cell_type": "code",
      "metadata": {
        "id": "oXvlFQgzgAbU",
        "outputId": "602eb913-f540-4961-a7d7-51cff95abead"
      },
      "source": [
        "print(float_list)\n",
        "len(float_list)"
      ],
      "execution_count": null,
      "outputs": [
        {
          "output_type": "stream",
          "text": [
            "[1.0, 3.0, 5.0, 4.0, 2.0, 0.444]\n"
          ],
          "name": "stdout"
        },
        {
          "output_type": "execute_result",
          "data": {
            "text/plain": [
              "6"
            ]
          },
          "metadata": {
            "tags": []
          },
          "execution_count": 52
        }
      ]
    },
    {
      "cell_type": "markdown",
      "metadata": {
        "id": "CuaPnwJ4gAbU"
      },
      "source": [
        "Now, run the cell with `float_list.append()` a second time. Then run the subsequent cell. What happens?  \n",
        "\n",
        "To remove an item from the list, use `del.`"
      ]
    },
    {
      "cell_type": "code",
      "metadata": {
        "id": "zAzMGnwhgAbU",
        "outputId": "6a00b392-0195-4b61-bbf9-3d176160e519"
      },
      "source": [
        "del(float_list[2])\n",
        "print(float_list)"
      ],
      "execution_count": null,
      "outputs": [
        {
          "output_type": "stream",
          "text": [
            "[1.0, 3.0, 4.0, 2.0, 0.444]\n"
          ],
          "name": "stdout"
        }
      ]
    },
    {
      "cell_type": "markdown",
      "metadata": {
        "id": "BP-n4WDYgAbV"
      },
      "source": [
        "You may also add an element (elem) in a specific position (index) in the list"
      ]
    },
    {
      "cell_type": "code",
      "metadata": {
        "id": "7c966TpOgAbV",
        "outputId": "e5d33aac-0826-4a4b-82a1-302d78f9036c"
      },
      "source": [
        "elem = '3.14'\n",
        "index = 1\n",
        "float_list.insert(index, elem)\n",
        "float_list"
      ],
      "execution_count": null,
      "outputs": [
        {
          "output_type": "execute_result",
          "data": {
            "text/plain": [
              "[1.0, '3.14', 3.0, 4.0, 2.0, 0.444]"
            ]
          },
          "metadata": {
            "tags": []
          },
          "execution_count": 54
        }
      ]
    },
    {
      "cell_type": "markdown",
      "metadata": {
        "id": "Kyo9n72bgAbV"
      },
      "source": [
        "### List Comprehensions\n",
        "\n",
        "Lists can be constructed in a compact way using a *list comprehension*.  Here's a simple example."
      ]
    },
    {
      "cell_type": "code",
      "metadata": {
        "id": "5WWZoiRcgAbV",
        "outputId": "abaceabd-8a58-479a-ffc8-97b067a8e8b4"
      },
      "source": [
        "squaredlist = [i*i for i in int_list]\n",
        "squaredlist"
      ],
      "execution_count": null,
      "outputs": [
        {
          "output_type": "execute_result",
          "data": {
            "text/plain": [
              "[1, 4, 9, 16, 25, 36, 49, 64, 81, 100]"
            ]
          },
          "metadata": {
            "tags": []
          },
          "execution_count": 58
        }
      ]
    },
    {
      "cell_type": "markdown",
      "metadata": {
        "id": "1WpsHCLugAbW"
      },
      "source": [
        "And here's a more complicated one, requiring a conditional."
      ]
    },
    {
      "cell_type": "code",
      "metadata": {
        "id": "4aZ85nISgAbW",
        "outputId": "097680dd-cead-4aea-fe21-9c1f54346000"
      },
      "source": [
        "comp_list1 = [2*i for i in squaredlist if i % 2 == 0]\n",
        "print(comp_list1)"
      ],
      "execution_count": null,
      "outputs": [
        {
          "output_type": "stream",
          "text": [
            "[8, 32, 72, 128, 200]\n"
          ],
          "name": "stdout"
        }
      ]
    },
    {
      "cell_type": "markdown",
      "metadata": {
        "id": "fecwpAL7gAbW"
      },
      "source": [
        "This is entirely equivalent to creating `comp_list1` using a loop with a conditional, as below:"
      ]
    },
    {
      "cell_type": "code",
      "metadata": {
        "id": "qiT5bPangAbX",
        "outputId": "7f40b5dc-f276-4713-a540-6b43362f49d0"
      },
      "source": [
        "comp_list2 = []\n",
        "for i in squaredlist:\n",
        "    if i % 2 == 0:\n",
        "        comp_list2.append(2*i)       \n",
        "print(comp_list2)"
      ],
      "execution_count": null,
      "outputs": [
        {
          "output_type": "stream",
          "text": [
            "[8, 32, 72, 128, 200]\n"
          ],
          "name": "stdout"
        }
      ]
    },
    {
      "cell_type": "markdown",
      "metadata": {
        "id": "Lcn1Bjn_gAbX"
      },
      "source": [
        "The list comprehension syntax\n",
        "\n",
        "```\n",
        "[expression for item in list if conditional]\n",
        "\n",
        "```\n",
        "\n",
        "is equivalent to the syntax\n",
        "\n",
        "```\n",
        "for item in list:\n",
        "    if conditional:\n",
        "        expression\n",
        "```"
      ]
    },
    {
      "cell_type": "markdown",
      "metadata": {
        "id": "liK3fdswgAbY"
      },
      "source": [
        "<div class='exercise'><b> Exercise 2: Build a list that contains every prime number between 1 and 100, in two different ways: </div>\n",
        "    \n",
        "- 2.1 Using for loops and conditional if statements.\n",
        "- 2.2 Using a list comprehension.  You should be able to do this in one line of code. **Hint:** it might help to look up the function `all()` in the documentation."
      ]
    },
    {
      "cell_type": "code",
      "metadata": {
        "colab": {
          "base_uri": "https://localhost:8080/"
        },
        "id": "fBoIKr5WgAbY",
        "outputId": "a1c66c67-a998-43a8-d701-710bead9021c"
      },
      "source": [
        "### Your code here\n",
        "# 2.1 Using for loops and conditional if statements.\n",
        "prime_nums1 = []\n",
        "for Number in range (1, 101):\n",
        "    count = 0\n",
        "    for i in range(2, (Number//2 + 1)):\n",
        "        if(Number % i == 0):\n",
        "            count = count + 1\n",
        "            break\n",
        "\n",
        "    if (count == 0 and Number != 1):\n",
        "        prime_nums1.append(Number)\n",
        "\n",
        "print(prime_nums1)\n",
        "\n",
        "\n",
        "# 2.2 Using a list comprehension. You should be able to do this in one line of code. Hint: it might help to look up the function all() in the documentation.\n",
        "prime_nums2 = [x for x in range(2, 101) if all(x % y != 0 for y in range(2, x))]\n",
        "print(prime_nums2)"
      ],
      "execution_count": null,
      "outputs": [
        {
          "output_type": "stream",
          "text": [
            "[2, 3, 5, 7, 11, 13, 17, 19, 23, 29, 31, 37, 41, 43, 47, 53, 59, 61, 67, 71, 73, 79, 83, 89, 97]\n",
            "[2, 3, 5, 7, 11, 13, 17, 19, 23, 29, 31, 37, 41, 43, 47, 53, 59, 61, 67, 71, 73, 79, 83, 89, 97]\n"
          ],
          "name": "stdout"
        }
      ]
    },
    {
      "cell_type": "markdown",
      "metadata": {
        "id": "YTyPEqnCgAbY"
      },
      "source": [
        "## Simple Functions\n",
        "\n",
        "A *function* object is a reusable block of code that does a specific task.  Functions are commonplace in Python, either on their own or as they belong to other objects. To invoke a function `func`, you call it as `func(arguments)`.\n",
        "\n",
        "We've seen built-in Python functions and methods (details below). For example, `len()` and `print()` are built-in Python functions. And at the beginning, you called `np.mean()` to calculate the mean of three numbers, where `mean()` is a function in the numpy module and numpy was abbreviated as `np`. This syntax allows us to have multiple \"mean\" functions in different modules; calling this one as `np.mean()` guarantees that we will execute numpy's mean function, as opposed to a mean function from a different module."
      ]
    },
    {
      "cell_type": "markdown",
      "metadata": {
        "id": "G-f6QYvGgAbY"
      },
      "source": [
        "### User-defined functions\n",
        "\n",
        "We'll now learn to write our own user-defined functions.  Below is the syntax for defining a basic function with one input argument and one output. You can also define functions with no input or output arguments, or multiple input or output arguments.\n",
        "\n",
        "```\n",
        "def name_of_function(arg):\n",
        "    ...\n",
        "    return(output)\n",
        "```\n",
        "\n",
        "We can write functions with one input and one output argument.  Here are two such functions."
      ]
    },
    {
      "cell_type": "code",
      "metadata": {
        "id": "pbjZ5dEKgAbZ",
        "outputId": "a6a19750-4503-4d65-bf02-81566cc9d9e5"
      },
      "source": [
        "def square(x):\n",
        "    x_sqr = x*x\n",
        "    return(x_sqr)\n",
        "\n",
        "def cube(x):\n",
        "    x_cub = x*x*x\n",
        "    return(x_cub)\n",
        "\n",
        "square(5),cube(5)"
      ],
      "execution_count": null,
      "outputs": [
        {
          "output_type": "execute_result",
          "data": {
            "text/plain": [
              "(25, 125)"
            ]
          },
          "metadata": {
            "tags": []
          },
          "execution_count": 62
        }
      ]
    },
    {
      "cell_type": "markdown",
      "metadata": {
        "id": "9fMkzVCNgAbZ"
      },
      "source": [
        "What if you want to return two variables at a time? The usual way is to return a tuple:"
      ]
    },
    {
      "cell_type": "code",
      "metadata": {
        "id": "wczkvKpcgAbZ",
        "outputId": "015fd547-c555-458d-9378-a0d8feca6dac"
      },
      "source": [
        "def square_and_cube(x):\n",
        "    x_cub = x*x*x\n",
        "    x_sqr = x*x\n",
        "    return(x_sqr, x_cub)\n",
        "\n",
        "square_and_cube(5)"
      ],
      "execution_count": null,
      "outputs": [
        {
          "output_type": "execute_result",
          "data": {
            "text/plain": [
              "(25, 125)"
            ]
          },
          "metadata": {
            "tags": []
          },
          "execution_count": 63
        }
      ]
    },
    {
      "cell_type": "markdown",
      "metadata": {
        "id": "cnninDMugAbZ"
      },
      "source": [
        "### Lambda functions\n",
        "\n",
        "Often we quickly define mathematical functions with a one-line function called a *lambda* function.  Lambda functions are great because they enable us to write functions without having to name them, ie, they're *anonymous*.  \n",
        "No return statement is needed. \n"
      ]
    },
    {
      "cell_type": "code",
      "metadata": {
        "id": "VIBj46r6gAbZ",
        "outputId": "1ae5483d-fc6c-4d0c-c0fd-7acb04ddccc8"
      },
      "source": [
        "# create an anonymous function and assign it to the variable square\n",
        "square = lambda x: x*x\n",
        "print(square(3))\n",
        "\n",
        "hypotenuse = lambda x, y: x*x + y*y\n",
        "\n",
        "## Same as\n",
        "# def hypotenuse(x, y):\n",
        "#     return(x*x + y*y)\n",
        "\n",
        "hypotenuse(3,4)"
      ],
      "execution_count": null,
      "outputs": [
        {
          "output_type": "stream",
          "text": [
            "9\n"
          ],
          "name": "stdout"
        },
        {
          "output_type": "execute_result",
          "data": {
            "text/plain": [
              "25"
            ]
          },
          "metadata": {
            "tags": []
          },
          "execution_count": 64
        }
      ]
    },
    {
      "cell_type": "markdown",
      "metadata": {
        "id": "u2rNllSAgAba"
      },
      "source": [
        "### Methods\n",
        "A function that belongs to an object is called a *method*. By \"object,\" we mean an \"instance\" of a class (e.g., list, integer, or floating point variable).\n",
        "\n",
        "For example, when we invoke `append()` on an existing list, `append()` is a method.\n",
        "\n",
        "In other words, a *method* is a function on a specific *instance* of a class (i.e., *object*). In this example, our class is a list. `float_list` is an instance of a list (thus, an object), and the `append()` function is technically a *method* since it pertains to the specific instance `float_list`."
      ]
    },
    {
      "cell_type": "code",
      "metadata": {
        "id": "knKbu9gFgAba",
        "outputId": "2f3774c9-690b-47d4-b6ce-2e7431e62af2"
      },
      "source": [
        "float_list = [1.0, 2.09, 4.0, 2.0, 0.444]\n",
        "print(float_list)\n",
        "float_list.append(56.7) \n",
        "float_list"
      ],
      "execution_count": null,
      "outputs": [
        {
          "output_type": "stream",
          "text": [
            "[1.0, 2.09, 4.0, 2.0, 0.444]\n"
          ],
          "name": "stdout"
        },
        {
          "output_type": "execute_result",
          "data": {
            "text/plain": [
              "[1.0, 2.09, 4.0, 2.0, 0.444, 56.7]"
            ]
          },
          "metadata": {
            "tags": []
          },
          "execution_count": 65
        }
      ]
    },
    {
      "cell_type": "markdown",
      "metadata": {
        "id": "WuaydFGsgAba"
      },
      "source": [
        "<div class='exercise'><b> Exercise 3: generated a list of the prime numbers between 1 and 100</div>\n",
        "    \n",
        "In Exercise 2, above, you wrote code that generated a list of the prime numbers between 1 and 100. Now, write a function called `isprime()` that takes in a positive integer $N$, and determines whether or not it is prime.  Return `True` if it's prime and return `False` if it isn't. Then, using a list comprehension and `isprime()`, create a list `myprimes` that contains all the prime numbers less than 100.  "
      ]
    },
    {
      "cell_type": "code",
      "metadata": {
        "colab": {
          "base_uri": "https://localhost:8080/"
        },
        "id": "S7TBdFuDgAbb",
        "outputId": "847eed24-b5de-4605-dc83-ed1a84e17dda"
      },
      "source": [
        "def isprime(n):\n",
        "  if n == 1:\n",
        "    return False\n",
        "  if n == 2: \n",
        "    return True\n",
        "\n",
        "  for i in range(2, n//2+1):\n",
        "      if (n % i == 0):\n",
        "        return False; \n",
        "  return True\n",
        "           \n",
        "\n",
        "\n",
        "myprimes = [x for x in range(1,101) if isprime(x)]        \n",
        "print(myprimes)\n",
        "\n",
        "\n",
        "    \n",
        "\n",
        "\n",
        "\n",
        "\n",
        "# your code here\n"
      ],
      "execution_count": null,
      "outputs": [
        {
          "output_type": "stream",
          "text": [
            "[2, 3, 5, 7, 11, 13, 17, 19, 23, 29, 31, 37, 41, 43, 47, 53, 59, 61, 67, 71, 73, 79, 83, 89, 97]\n"
          ],
          "name": "stdout"
        }
      ]
    },
    {
      "cell_type": "markdown",
      "metadata": {
        "id": "NvE_ITIKgAbb"
      },
      "source": [
        "## Introduction to Numpy\n",
        "Scientific Python code uses a fast array structure, called the numpy array. Those who have programmed in Matlab will find this very natural. For reference, the numpy documention can be found [here](https://docs.scipy.org/doc/numpy/reference/).  \n",
        "\n",
        "Let's make a numpy array:"
      ]
    },
    {
      "cell_type": "code",
      "metadata": {
        "id": "Ow3QrqssgAbb",
        "outputId": "d1933bdf-9be0-4b9c-fccb-ad7e70d08486"
      },
      "source": [
        "my_array = np.array([1, 2, 3, 4])\n",
        "my_array"
      ],
      "execution_count": null,
      "outputs": [
        {
          "output_type": "execute_result",
          "data": {
            "text/plain": [
              "array([1, 2, 3, 4])"
            ]
          },
          "metadata": {
            "tags": []
          },
          "execution_count": 68
        }
      ]
    },
    {
      "cell_type": "code",
      "metadata": {
        "id": "g0z9sWGXgAbb",
        "outputId": "744dcf45-71e5-41c3-fe93-7cba833b6d10"
      },
      "source": [
        "# works as it would with a standard list\n",
        "len(my_array)"
      ],
      "execution_count": null,
      "outputs": [
        {
          "output_type": "execute_result",
          "data": {
            "text/plain": [
              "4"
            ]
          },
          "metadata": {
            "tags": []
          },
          "execution_count": 69
        }
      ]
    },
    {
      "cell_type": "markdown",
      "metadata": {
        "id": "0YxbITIAgAbb"
      },
      "source": [
        "The shape array of an array is very useful (we'll see more of it later when we talk about 2D arrays -- matrices -- and higher-dimensional arrays)."
      ]
    },
    {
      "cell_type": "code",
      "metadata": {
        "id": "P2HgvN_-gAbc",
        "outputId": "4537cf4f-b5b6-47bd-90c2-01f98d8f7988"
      },
      "source": [
        "my_array.shape"
      ],
      "execution_count": null,
      "outputs": [
        {
          "output_type": "execute_result",
          "data": {
            "text/plain": [
              "(4,)"
            ]
          },
          "metadata": {
            "tags": []
          },
          "execution_count": 70
        }
      ]
    },
    {
      "cell_type": "markdown",
      "metadata": {
        "id": "_YdCDv51gAbc"
      },
      "source": [
        "Numpy arrays are **typed**. This means that by default, all the elements will be assumed to be of the same type (e.g., integer, float, String)."
      ]
    },
    {
      "cell_type": "code",
      "metadata": {
        "id": "a7DZVrXDgAbc",
        "outputId": "fdacf3f0-1130-495c-db96-9eba3637eafc"
      },
      "source": [
        "my_array.dtype"
      ],
      "execution_count": null,
      "outputs": [
        {
          "output_type": "execute_result",
          "data": {
            "text/plain": [
              "dtype('int64')"
            ]
          },
          "metadata": {
            "tags": []
          },
          "execution_count": 71
        }
      ]
    },
    {
      "cell_type": "markdown",
      "metadata": {
        "id": "fFr1SOzygAbc"
      },
      "source": [
        "Numpy arrays have similar functionality as lists! Below, we compute the length, slice the array, and iterate through it (one could identically perform the same with a list)."
      ]
    },
    {
      "cell_type": "code",
      "metadata": {
        "id": "NF4YwS3ogAbc",
        "outputId": "02ed01c5-5ba7-4b6f-aca3-c696fed977ce"
      },
      "source": [
        "print(len(my_array))\n",
        "print(my_array[2:4])\n",
        "for ele in my_array:\n",
        "    print(ele)"
      ],
      "execution_count": null,
      "outputs": [
        {
          "output_type": "stream",
          "text": [
            "4\n",
            "[3 4]\n",
            "1\n",
            "2\n",
            "3\n",
            "4\n"
          ],
          "name": "stdout"
        }
      ]
    },
    {
      "cell_type": "markdown",
      "metadata": {
        "id": "-3QMGG5HgAbd"
      },
      "source": [
        "There are two ways to manipulate numpy arrays a) by using the numpy module's methods (e.g., `np.mean()`) or b) by applying the function np.mean() with the numpy array as an argument."
      ]
    },
    {
      "cell_type": "code",
      "metadata": {
        "id": "2tfD2jIDgAbd",
        "outputId": "7f7a33cb-399f-4f1c-f220-c643f928f9a9"
      },
      "source": [
        "print(my_array.mean())\n",
        "print(np.mean(my_array))"
      ],
      "execution_count": null,
      "outputs": [
        {
          "output_type": "stream",
          "text": [
            "2.5\n",
            "2.5\n"
          ],
          "name": "stdout"
        }
      ]
    },
    {
      "cell_type": "markdown",
      "metadata": {
        "id": "KnSpMmPsgAbd"
      },
      "source": [
        "A ``constructor`` is a general programming term that refers to the mechanism for creating a new object (e.g., list, array, String).\n",
        "\n",
        "There are many other efficient ways to construct numpy arrays. Here are some commonly used numpy array constructors. Read more details in the numpy documentation."
      ]
    },
    {
      "cell_type": "code",
      "metadata": {
        "id": "DnWiFvy-gAbd",
        "outputId": "bc12a969-92d9-4d5e-b356-e898138095df"
      },
      "source": [
        "np.ones(10) # generates 10 floating point ones"
      ],
      "execution_count": null,
      "outputs": [
        {
          "output_type": "execute_result",
          "data": {
            "text/plain": [
              "array([1., 1., 1., 1., 1., 1., 1., 1., 1., 1.])"
            ]
          },
          "metadata": {
            "tags": []
          },
          "execution_count": 74
        }
      ]
    },
    {
      "cell_type": "markdown",
      "metadata": {
        "id": "VUOBiII4gAbd"
      },
      "source": [
        "Numpy gains a lot of its efficiency from being typed. That is, all elements in the array have the same type, such as integer or floating point. The default type, as can be seen above, is a float. (Each float uses either 32 or 64 bits of memory, depending on if the code is running a 32-bit or 64-bit machine, respectively)."
      ]
    },
    {
      "cell_type": "code",
      "metadata": {
        "id": "SCeHtNAigAbd",
        "outputId": "f52ee2aa-aa09-4abd-8be1-5b05a776f8c5"
      },
      "source": [
        "np.dtype(float).itemsize # in bytes (remember, 1 byte = 8 bits)"
      ],
      "execution_count": null,
      "outputs": [
        {
          "output_type": "execute_result",
          "data": {
            "text/plain": [
              "8"
            ]
          },
          "metadata": {
            "tags": []
          },
          "execution_count": 75
        }
      ]
    },
    {
      "cell_type": "code",
      "metadata": {
        "id": "rDiIAvWJgAbe",
        "outputId": "bf074760-1b93-411e-bdad-e570462c6798"
      },
      "source": [
        "np.ones(10, dtype='int') # generates 10 integer ones"
      ],
      "execution_count": null,
      "outputs": [
        {
          "output_type": "execute_result",
          "data": {
            "text/plain": [
              "array([1, 1, 1, 1, 1, 1, 1, 1, 1, 1])"
            ]
          },
          "metadata": {
            "tags": []
          },
          "execution_count": 76
        }
      ]
    },
    {
      "cell_type": "code",
      "metadata": {
        "id": "YTbPB00NgAbe",
        "outputId": "7bcefa3d-1ed7-4026-d5d3-c26fa06fa21e"
      },
      "source": [
        "np.zeros(10)"
      ],
      "execution_count": null,
      "outputs": [
        {
          "output_type": "execute_result",
          "data": {
            "text/plain": [
              "array([0., 0., 0., 0., 0., 0., 0., 0., 0., 0.])"
            ]
          },
          "metadata": {
            "tags": []
          },
          "execution_count": 77
        }
      ]
    },
    {
      "cell_type": "markdown",
      "metadata": {
        "id": "HVxP4p0_gAbe"
      },
      "source": [
        "Often, you will want random numbers. Use the `random` constructor!"
      ]
    },
    {
      "cell_type": "code",
      "metadata": {
        "id": "xXNEugdegAbe",
        "outputId": "cccec54f-7049-4e52-b329-161e9b148342"
      },
      "source": [
        "np.random.random(10) # uniform from [0,1]"
      ],
      "execution_count": null,
      "outputs": [
        {
          "output_type": "execute_result",
          "data": {
            "text/plain": [
              "array([0.7254794 , 0.40039298, 0.90255586, 0.03074202, 0.69475585,\n",
              "       0.44016651, 0.75535727, 0.29852052, 0.25828829, 0.88460848])"
            ]
          },
          "metadata": {
            "tags": []
          },
          "execution_count": 78
        }
      ]
    },
    {
      "cell_type": "markdown",
      "metadata": {
        "id": "aMX3WEZ-gAbf"
      },
      "source": [
        "You can generate random numbers from a normal distribution with mean 0 and variance 1:"
      ]
    },
    {
      "cell_type": "code",
      "metadata": {
        "id": "nMTCdJkhgAbf",
        "outputId": "0064a47f-f323-4851-87fd-b600f292a0b6"
      },
      "source": [
        "normal_array = np.random.randn(1000)\n",
        "print(\"The sample mean and standard devation are %f and %f, respectively.\" %(np.mean(normal_array), np.std(normal_array)))"
      ],
      "execution_count": null,
      "outputs": [
        {
          "output_type": "stream",
          "text": [
            "The sample mean and standard devation are 0.020059 and 0.993012, respectively.\n"
          ],
          "name": "stdout"
        }
      ]
    },
    {
      "cell_type": "code",
      "metadata": {
        "id": "Rm9TLjLWgAbf",
        "outputId": "3c492602-68d5-4925-cb53-59d21f5f237c"
      },
      "source": [
        "len(normal_array)"
      ],
      "execution_count": null,
      "outputs": [
        {
          "output_type": "execute_result",
          "data": {
            "text/plain": [
              "1000"
            ]
          },
          "metadata": {
            "tags": []
          },
          "execution_count": 80
        }
      ]
    },
    {
      "cell_type": "markdown",
      "metadata": {
        "id": "t8ErqQJTgAbf"
      },
      "source": [
        "You can sample with and without replacement from an array. Let's first construct a list with evenly-spaced values:"
      ]
    },
    {
      "cell_type": "code",
      "metadata": {
        "id": "EHP9NBgigAbf",
        "outputId": "c95c83a3-c8e4-43db-b144-32b1c3cd11cc"
      },
      "source": [
        "grid = np.arange(0., 1.01, 0.1)\n",
        "grid"
      ],
      "execution_count": null,
      "outputs": [
        {
          "output_type": "execute_result",
          "data": {
            "text/plain": [
              "array([0. , 0.1, 0.2, 0.3, 0.4, 0.5, 0.6, 0.7, 0.8, 0.9, 1. ])"
            ]
          },
          "metadata": {
            "tags": []
          },
          "execution_count": 106
        }
      ]
    },
    {
      "cell_type": "markdown",
      "metadata": {
        "id": "l2SxVwnhgAbf"
      },
      "source": [
        "Without replacement"
      ]
    },
    {
      "cell_type": "code",
      "metadata": {
        "id": "KP6zxqHHgAbg",
        "outputId": "318658f7-9fdf-487a-8c7e-12561b632f2f"
      },
      "source": [
        "np.random.choice(grid, 5, replace=False)"
      ],
      "execution_count": null,
      "outputs": [
        {
          "output_type": "execute_result",
          "data": {
            "text/plain": [
              "array([0.1, 0.6, 0.5, 0. , 0.8])"
            ]
          },
          "metadata": {
            "tags": []
          },
          "execution_count": 107
        }
      ]
    },
    {
      "cell_type": "code",
      "metadata": {
        "id": "x_6dH8M7gAbg",
        "outputId": "25148a52-6b78-49f5-8ccd-b7acb0b8ddeb"
      },
      "source": [
        "np.random.choice(grid, 20, replace=False)"
      ],
      "execution_count": null,
      "outputs": [
        {
          "output_type": "error",
          "ename": "ValueError",
          "evalue": "Cannot take a larger sample than population when 'replace=False'",
          "traceback": [
            "\u001b[0;31m---------------------------------------------------------------------------\u001b[0m",
            "\u001b[0;31mValueError\u001b[0m                                Traceback (most recent call last)",
            "\u001b[0;32m<ipython-input-108-9eae7c9e97b5>\u001b[0m in \u001b[0;36m<module>\u001b[0;34m\u001b[0m\n\u001b[0;32m----> 1\u001b[0;31m \u001b[0mnp\u001b[0m\u001b[0;34m.\u001b[0m\u001b[0mrandom\u001b[0m\u001b[0;34m.\u001b[0m\u001b[0mchoice\u001b[0m\u001b[0;34m(\u001b[0m\u001b[0mgrid\u001b[0m\u001b[0;34m,\u001b[0m \u001b[0;36m20\u001b[0m\u001b[0;34m,\u001b[0m \u001b[0mreplace\u001b[0m\u001b[0;34m=\u001b[0m\u001b[0;32mFalse\u001b[0m\u001b[0;34m)\u001b[0m\u001b[0;34m\u001b[0m\u001b[0;34m\u001b[0m\u001b[0m\n\u001b[0m",
            "\u001b[0;32mmtrand.pyx\u001b[0m in \u001b[0;36mnumpy.random.mtrand.RandomState.choice\u001b[0;34m()\u001b[0m\n",
            "\u001b[0;31mValueError\u001b[0m: Cannot take a larger sample than population when 'replace=False'"
          ]
        }
      ]
    },
    {
      "cell_type": "markdown",
      "metadata": {
        "id": "tVgZqlN5gAbg"
      },
      "source": [
        "With replacement:"
      ]
    },
    {
      "cell_type": "code",
      "metadata": {
        "id": "UVTj9O4SgAbg",
        "outputId": "9e02aae1-bea0-489b-a76f-7d89e5d1819e"
      },
      "source": [
        "np.random.choice(grid, 20, replace=True)"
      ],
      "execution_count": null,
      "outputs": [
        {
          "output_type": "execute_result",
          "data": {
            "text/plain": [
              "array([0.6, 0.5, 0.5, 0.9, 0.2, 0.1, 0.6, 0. , 0.4, 0.2, 0.4, 0.7, 0.2,\n",
              "       0.7, 0.5, 0. , 0.6, 0.8, 0.2, 0.5])"
            ]
          },
          "metadata": {
            "tags": []
          },
          "execution_count": 84
        }
      ]
    },
    {
      "cell_type": "markdown",
      "metadata": {
        "id": "eqW2VVkbgAbg"
      },
      "source": [
        "#### Numpy supports vector operations\n",
        "\n",
        "What does this mean? It means that instead of adding two arrays, element by element, you can just say: add the two arrays. "
      ]
    },
    {
      "cell_type": "code",
      "metadata": {
        "id": "ut6Wv-XlgAbg",
        "outputId": "c96763b5-06f8-4def-c87d-0d16e5593d10"
      },
      "source": [
        "first = np.ones(5)\n",
        "second = np.ones(5)\n",
        "first + second # adds in-place"
      ],
      "execution_count": null,
      "outputs": [
        {
          "output_type": "execute_result",
          "data": {
            "text/plain": [
              "array([2., 2., 2., 2., 2.])"
            ]
          },
          "metadata": {
            "tags": []
          },
          "execution_count": 85
        }
      ]
    },
    {
      "cell_type": "markdown",
      "metadata": {
        "id": "O98cJONHgAbh"
      },
      "source": [
        "Note that this behavior is very different from python lists where concatenation happens."
      ]
    },
    {
      "cell_type": "code",
      "metadata": {
        "id": "kHSuzPltgAbh",
        "outputId": "ae2d240b-7448-4afb-91bf-7a00c6bc6589"
      },
      "source": [
        "first_list = [1., 1., 1., 1., 1.]\n",
        "second_list = [1., 1., 1., 1., 1.]\n",
        "first_list + second_list # concatenation"
      ],
      "execution_count": null,
      "outputs": [
        {
          "output_type": "execute_result",
          "data": {
            "text/plain": [
              "[1.0, 1.0, 1.0, 1.0, 1.0, 1.0, 1.0, 1.0, 1.0, 1.0]"
            ]
          },
          "metadata": {
            "tags": []
          },
          "execution_count": 86
        }
      ]
    },
    {
      "cell_type": "markdown",
      "metadata": {
        "id": "lhy8K7m4gAbh"
      },
      "source": [
        "On some computer chips, this numpy addition actually happens in parallel and can yield significant increases in speed. But even on regular chips, the advantage of greater readability is important."
      ]
    },
    {
      "cell_type": "markdown",
      "metadata": {
        "id": "IexSq_dpgAbh"
      },
      "source": [
        "#### Broadcasting\n",
        "\n",
        "Numpy supports a concept known as *broadcasting*, which dictates how arrays of different sizes are combined together. There are too many rules to list here, but importantly, multiplying an array by a number multiplies each element by the number. Adding a number adds the number to each element."
      ]
    },
    {
      "cell_type": "code",
      "metadata": {
        "id": "ueDocgSwgAbh",
        "outputId": "c9cccb90-7fb1-4a5d-975f-89919f9024f1"
      },
      "source": [
        "first + 1"
      ],
      "execution_count": null,
      "outputs": [
        {
          "output_type": "execute_result",
          "data": {
            "text/plain": [
              "array([2., 2., 2., 2., 2.])"
            ]
          },
          "metadata": {
            "tags": []
          },
          "execution_count": 87
        }
      ]
    },
    {
      "cell_type": "code",
      "metadata": {
        "id": "LkZzys_JgAbi",
        "outputId": "95475224-7489-4869-be97-8af3e5dad3a9"
      },
      "source": [
        "first*5"
      ],
      "execution_count": null,
      "outputs": [
        {
          "output_type": "execute_result",
          "data": {
            "text/plain": [
              "array([5., 5., 5., 5., 5.])"
            ]
          },
          "metadata": {
            "tags": []
          },
          "execution_count": 88
        }
      ]
    },
    {
      "cell_type": "markdown",
      "metadata": {
        "id": "ykEcMYUigAbi"
      },
      "source": [
        "This means that if you wanted the distribution $N(5, 7)$ you could do:"
      ]
    },
    {
      "cell_type": "code",
      "metadata": {
        "id": "PFusb-z9gAbi",
        "outputId": "cbd408f6-ea76-4c52-f3fa-d77cc8571711"
      },
      "source": [
        "normal_5_7 = 5 + 7*normal_array\n",
        "np.mean(normal_5_7), np.std(normal_5_7)"
      ],
      "execution_count": null,
      "outputs": [
        {
          "output_type": "execute_result",
          "data": {
            "text/plain": [
              "(5.140412599297983, 6.951087096571897)"
            ]
          },
          "metadata": {
            "tags": []
          },
          "execution_count": 89
        }
      ]
    },
    {
      "cell_type": "markdown",
      "metadata": {
        "id": "bsZw4OiegAbi"
      },
      "source": [
        "Multiplying two arrays multiplies them element-by-element"
      ]
    },
    {
      "cell_type": "code",
      "metadata": {
        "id": "hoR-VfctgAbi",
        "outputId": "92896adc-0f6d-4ac0-a8c2-46c972b969f5"
      },
      "source": [
        "(first +1) * (first*5)"
      ],
      "execution_count": null,
      "outputs": [
        {
          "output_type": "execute_result",
          "data": {
            "text/plain": [
              "array([10., 10., 10., 10., 10.])"
            ]
          },
          "metadata": {
            "tags": []
          },
          "execution_count": 90
        }
      ]
    },
    {
      "cell_type": "markdown",
      "metadata": {
        "id": "iSqIJ-gagAbi"
      },
      "source": [
        "You might have wanted to compute the dot product instead:"
      ]
    },
    {
      "cell_type": "code",
      "metadata": {
        "id": "tTWEG3UdgAbi",
        "outputId": "ceb136b9-4541-49b2-905c-87faf36427fe"
      },
      "source": [
        "np.dot((first +1) , (first*5))"
      ],
      "execution_count": null,
      "outputs": [
        {
          "output_type": "execute_result",
          "data": {
            "text/plain": [
              "50.0"
            ]
          },
          "metadata": {
            "tags": []
          },
          "execution_count": 91
        }
      ]
    },
    {
      "cell_type": "markdown",
      "metadata": {
        "id": "MgF-g1MtgAbj"
      },
      "source": [
        "#<div class='exercise'><b> Exercise 4: Matrix multiplication </div>\n",
        "    Using numpy, create a random 5X5 matrix and multiply is by the 5X5 unit matrix"
      ]
    },
    {
      "cell_type": "code",
      "metadata": {
        "colab": {
          "base_uri": "https://localhost:8080/"
        },
        "id": "P4GNZR7JgAbj",
        "outputId": "9a276c8c-beaa-4488-eda4-825c6e909856"
      },
      "source": [
        "### Your code here\n",
        "import numpy as np\n",
        "randomMatrix = np.random.random((5,5))\n",
        "unitMatrix =  np.identity(5)\n",
        "productMatrix = np.matmul(randomMatrix, unitMatrix)\n",
        "\n",
        "print(\"Random Matrix:\")\n",
        "print(randomMatrix)\n",
        "\n",
        "print(\"Unit Matrix:\")\n",
        "print(unitMatrix)\n",
        "\n",
        "print(\"Product Matrix:\")\n",
        "print(productMatrix)\n",
        "\n"
      ],
      "execution_count": null,
      "outputs": [
        {
          "output_type": "stream",
          "text": [
            "Random Matrix:\n",
            "[[0.79703239 0.53778255 0.23676865 0.40844029 0.58893061]\n",
            " [0.35387409 0.94917519 0.22580905 0.58551544 0.87155582]\n",
            " [0.13409773 0.60409796 0.17442179 0.38770237 0.0604519 ]\n",
            " [0.38270256 0.71002307 0.58291174 0.35253083 0.67311668]\n",
            " [0.53773362 0.78128022 0.10113762 0.49368499 0.53236811]]\n",
            "Unit Matrix:\n",
            "[[1. 0. 0. 0. 0.]\n",
            " [0. 1. 0. 0. 0.]\n",
            " [0. 0. 1. 0. 0.]\n",
            " [0. 0. 0. 1. 0.]\n",
            " [0. 0. 0. 0. 1.]]\n",
            "Product Matrix:\n",
            "[[0.79703239 0.53778255 0.23676865 0.40844029 0.58893061]\n",
            " [0.35387409 0.94917519 0.22580905 0.58551544 0.87155582]\n",
            " [0.13409773 0.60409796 0.17442179 0.38770237 0.0604519 ]\n",
            " [0.38270256 0.71002307 0.58291174 0.35253083 0.67311668]\n",
            " [0.53773362 0.78128022 0.10113762 0.49368499 0.53236811]]\n"
          ],
          "name": "stdout"
        }
      ]
    },
    {
      "cell_type": "markdown",
      "metadata": {
        "id": "LkBVdoZPgAbj"
      },
      "source": [
        "## Probabilitiy Distributions from `scipy.stats` and `statsmodels`\n",
        "\n",
        "Two useful statistics libraries in python are `scipy` and `statsmodels`.\n",
        "\n",
        "For example to load the z_test:"
      ]
    },
    {
      "cell_type": "code",
      "metadata": {
        "id": "j3UWM0ESgAbj"
      },
      "source": [
        "import statsmodels\n",
        "from statsmodels.stats.proportion import proportions_ztest"
      ],
      "execution_count": null,
      "outputs": []
    },
    {
      "cell_type": "code",
      "metadata": {
        "id": "vM3T1wMtgAbj",
        "outputId": "7ba9ff2c-21e5-4011-a062-c219a2e645c2"
      },
      "source": [
        "x = np.array([74,100])\n",
        "n = np.array([152,266])\n",
        "\n",
        "zstat, pvalue = statsmodels.stats.proportion.proportions_ztest(x, n)    \n",
        "print(\"Two-sided z-test for proportions: \\n\",\"z =\",zstat,\", pvalue =\",pvalue)"
      ],
      "execution_count": null,
      "outputs": [
        {
          "output_type": "stream",
          "text": [
            "Two-sided z-test for proportions: \n",
            " z = 2.212695207500177 , pvalue = 0.026918666032452288\n"
          ],
          "name": "stdout"
        }
      ]
    },
    {
      "cell_type": "code",
      "metadata": {
        "id": "gl7f6OF7gAbk"
      },
      "source": [
        "#The `%matplotlib inline` ensures that plots are rendered inline in the browser.\n",
        "%matplotlib inline\n",
        "import matplotlib.pyplot as plt"
      ],
      "execution_count": null,
      "outputs": []
    },
    {
      "cell_type": "markdown",
      "metadata": {
        "id": "uIZjf-6ugAbk"
      },
      "source": [
        "Let's get the normal distribution namespace from `scipy.stats`. See here for [Documentation](https://docs.scipy.org/doc/scipy/reference/generated/scipy.stats.norm.html)."
      ]
    },
    {
      "cell_type": "code",
      "metadata": {
        "id": "AyXVKxNKgAbk"
      },
      "source": [
        "from scipy.stats import norm"
      ],
      "execution_count": null,
      "outputs": []
    },
    {
      "cell_type": "markdown",
      "metadata": {
        "id": "t_os_LZdgAbk"
      },
      "source": [
        "Let's create 1,000 points between -10 and 10"
      ]
    },
    {
      "cell_type": "code",
      "metadata": {
        "id": "AUtsRt52gAbl",
        "outputId": "06602936-a064-48de-abd1-ca5eb5539d5a"
      },
      "source": [
        "x = np.linspace(-10, 10, 1000) # linspace() returns evenly-spaced numbers over a specified interval\n",
        "x[0:10], x[-10:]"
      ],
      "execution_count": null,
      "outputs": [
        {
          "output_type": "execute_result",
          "data": {
            "text/plain": [
              "(array([-10.        ,  -9.97997998,  -9.95995996,  -9.93993994,\n",
              "         -9.91991992,  -9.8998999 ,  -9.87987988,  -9.85985986,\n",
              "         -9.83983984,  -9.81981982]),\n",
              " array([ 9.81981982,  9.83983984,  9.85985986,  9.87987988,  9.8998999 ,\n",
              "         9.91991992,  9.93993994,  9.95995996,  9.97997998, 10.        ]))"
            ]
          },
          "metadata": {
            "tags": []
          },
          "execution_count": 116
        }
      ]
    },
    {
      "cell_type": "markdown",
      "metadata": {
        "id": "jq1eHeu2gAbm"
      },
      "source": [
        "Let's get the pdf of a normal distribution with a mean of 1 and standard deviation 3, and plot it using the grid points computed before:"
      ]
    },
    {
      "cell_type": "code",
      "metadata": {
        "scrolled": true,
        "id": "zObN0KS9gAbm",
        "outputId": "0fb52048-6fa0-4731-e071-f0237232e551"
      },
      "source": [
        "pdf_x = norm.pdf(x, 1, 3)\n",
        "plt.plot(x, pdf_x);"
      ],
      "execution_count": null,
      "outputs": [
        {
          "output_type": "display_data",
          "data": {
            "image/png": "[encoded data removed]",
            "text/plain": [
              "<Figure size 432x288 with 1 Axes>"
            ]
          },
          "metadata": {
            "tags": [],
            "needs_background": "light"
          }
        }
      ]
    },
    {
      "cell_type": "markdown",
      "metadata": {
        "id": "CJQJkTM4gAbn"
      },
      "source": [
        "And you can get random variables using the `rvs` function."
      ]
    },
    {
      "cell_type": "markdown",
      "metadata": {
        "id": "KkyikA4ggAbn"
      },
      "source": [
        "### Referencies\n",
        "\n",
        "A useful book by Jake Vanderplas:  [PythonDataScienceHandbook](https://jakevdp.github.io/PythonDataScienceHandbook/).\n",
        "\n",
        "You may also benefit from using [Chris Albon's web site](https://chrisalbon.com) as a reference. It contains lots of useful information."
      ]
    },
    {
      "cell_type": "markdown",
      "metadata": {
        "id": "Ng2EFcz9gAbn"
      },
      "source": [
        "## Dictionaries\n",
        "A dictionary is another data structure (aka storage container) -- arguably the most powerful. Like a list, a dictionary is a sequence of items. Unlike a list, a dictionary is unordered and its items are accessed with keys and not integer positions.  \n",
        "\n",
        "Dictionaries are the closest data structure we have to a database.\n",
        "\n",
        "Let's make a dictionary with a course number and their corresponding enrollment numbers."
      ]
    },
    {
      "cell_type": "code",
      "metadata": {
        "id": "XdqAeBgCgAbn",
        "outputId": "e9042bc4-2a78-4ed6-b4f8-ceccf6dd59ae"
      },
      "source": [
        "enroll2020_dict = {'CS1': 500, 'CS2': 400, 'Stat1': 300, 'Stat2': 300, 'EE1': 400}\n",
        "enroll2020_dict"
      ],
      "execution_count": null,
      "outputs": [
        {
          "output_type": "execute_result",
          "data": {
            "text/plain": [
              "{'CS1': 500, 'CS2': 400, 'Stat1': 300, 'Stat2': 300, 'EE1': 400}"
            ]
          },
          "metadata": {
            "tags": []
          },
          "execution_count": 118
        }
      ]
    },
    {
      "cell_type": "markdown",
      "metadata": {
        "id": "hC7aSIfFgAbn"
      },
      "source": [
        "One can obtain the value corresponding to a key via:"
      ]
    },
    {
      "cell_type": "code",
      "metadata": {
        "id": "cuyOxB4MgAbn",
        "outputId": "f908e342-3b18-443b-ddfd-4415a7d32b74"
      },
      "source": [
        "enroll2020_dict['CS1']"
      ],
      "execution_count": null,
      "outputs": [
        {
          "output_type": "execute_result",
          "data": {
            "text/plain": [
              "500"
            ]
          },
          "metadata": {
            "tags": []
          },
          "execution_count": 119
        }
      ]
    },
    {
      "cell_type": "markdown",
      "metadata": {
        "id": "msDH5abAgAbo"
      },
      "source": [
        "If you try to access a key that isn't present, your code will yield an error:"
      ]
    },
    {
      "cell_type": "code",
      "metadata": {
        "id": "4KNqTuI4gAbo",
        "outputId": "435c5b6e-536b-48d4-ebce-d620b80bb81b"
      },
      "source": [
        "enroll2020_dict['CS188']"
      ],
      "execution_count": null,
      "outputs": [
        {
          "output_type": "error",
          "ename": "KeyError",
          "evalue": "'CS188'",
          "traceback": [
            "\u001b[0;31m---------------------------------------------------------------------------\u001b[0m",
            "\u001b[0;31mKeyError\u001b[0m                                  Traceback (most recent call last)",
            "\u001b[0;32m<ipython-input-120-dc682c599b74>\u001b[0m in \u001b[0;36m<module>\u001b[0;34m\u001b[0m\n\u001b[0;32m----> 1\u001b[0;31m \u001b[0menroll2020_dict\u001b[0m\u001b[0;34m[\u001b[0m\u001b[0;34m'CS188'\u001b[0m\u001b[0;34m]\u001b[0m\u001b[0;34m\u001b[0m\u001b[0;34m\u001b[0m\u001b[0m\n\u001b[0m",
            "\u001b[0;31mKeyError\u001b[0m: 'CS188'"
          ]
        }
      ]
    },
    {
      "cell_type": "markdown",
      "metadata": {
        "id": "rVeVR3cRgAbo"
      },
      "source": [
        "Alternatively, the `.get()` function allows one to gracefully handle these situations by providing a default value if the key isn't found:"
      ]
    },
    {
      "cell_type": "code",
      "metadata": {
        "id": "YXSaP79VgAbp",
        "outputId": "4473f885-0d6e-436a-9e02-b78cffb54905"
      },
      "source": [
        "enroll2020_dict.get('CS188', 5)"
      ],
      "execution_count": null,
      "outputs": [
        {
          "output_type": "execute_result",
          "data": {
            "text/plain": [
              "5"
            ]
          },
          "metadata": {
            "tags": []
          },
          "execution_count": 121
        }
      ]
    },
    {
      "cell_type": "markdown",
      "metadata": {
        "id": "AdIMCe19gAbp"
      },
      "source": [
        "Note, this does not _store_ a new value for the key; it only provides a value to return if the key isn't found."
      ]
    },
    {
      "cell_type": "code",
      "metadata": {
        "id": "V5GPakWWgAbp"
      },
      "source": [
        "enroll2020_dict.get('CS188', None)"
      ],
      "execution_count": null,
      "outputs": []
    },
    {
      "cell_type": "markdown",
      "metadata": {
        "id": "Zm_5G0ZmgAbp"
      },
      "source": [
        "All sorts of iterations are supported:"
      ]
    },
    {
      "cell_type": "code",
      "metadata": {
        "id": "sLFY3DvRgAbp",
        "outputId": "3f14ce08-beac-459e-cda8-1f054f8ede50"
      },
      "source": [
        "enroll2020_dict.values()"
      ],
      "execution_count": null,
      "outputs": [
        {
          "output_type": "execute_result",
          "data": {
            "text/plain": [
              "dict_values([500, 400, 300, 300, 400])"
            ]
          },
          "metadata": {
            "tags": []
          },
          "execution_count": 123
        }
      ]
    },
    {
      "cell_type": "code",
      "metadata": {
        "id": "d5X9hV94gAbp",
        "outputId": "07129436-5366-4679-f5cc-9f2c65ed47f0"
      },
      "source": [
        "enroll2020_dict.items()"
      ],
      "execution_count": null,
      "outputs": [
        {
          "output_type": "execute_result",
          "data": {
            "text/plain": [
              "dict_items([('CS1', 500), ('CS2', 400), ('Stat1', 300), ('Stat2', 300), ('EE1', 400)])"
            ]
          },
          "metadata": {
            "tags": []
          },
          "execution_count": 124
        }
      ]
    },
    {
      "cell_type": "markdown",
      "metadata": {
        "id": "eDOAm0i7gAbp"
      },
      "source": [
        "We can iterate over the tuples obtained above:"
      ]
    },
    {
      "cell_type": "code",
      "metadata": {
        "id": "PEFxmgKUgAbp",
        "outputId": "337644f2-14d1-464e-8eb5-edf0b9758dd2"
      },
      "source": [
        "for key, value in enroll2020_dict.items():\n",
        "    print(\"%s: %d\" %(key, value))"
      ],
      "execution_count": null,
      "outputs": [
        {
          "output_type": "stream",
          "text": [
            "CS1: 500\n",
            "CS2: 400\n",
            "Stat1: 300\n",
            "Stat2: 300\n",
            "EE1: 400\n"
          ],
          "name": "stdout"
        }
      ]
    },
    {
      "cell_type": "markdown",
      "metadata": {
        "id": "60_DIPfkgAbq"
      },
      "source": [
        "Simply iterating over a dictionary gives us the keys. This is useful when we want to do something with each item:"
      ]
    },
    {
      "cell_type": "code",
      "metadata": {
        "id": "Hc2D5Z30gAbq",
        "outputId": "a09588d2-e151-428e-9bb6-46f508acdbb8"
      },
      "source": [
        "second_dict={}\n",
        "for key in enroll2020_dict:\n",
        "    second_dict[key] = enroll2020_dict[key]\n",
        "second_dict"
      ],
      "execution_count": null,
      "outputs": [
        {
          "output_type": "execute_result",
          "data": {
            "text/plain": [
              "{'CS1': 500, 'CS2': 400, 'Stat1': 300, 'Stat2': 300, 'EE1': 400}"
            ]
          },
          "metadata": {
            "tags": []
          },
          "execution_count": 126
        }
      ]
    },
    {
      "cell_type": "markdown",
      "metadata": {
        "id": "byh198pKgAbq"
      },
      "source": [
        "The above is an actual __copy__ of _enroll2020_dict's_ allocated memory, unlike, `second_dict = enroll2020_dict` which would have made both variables label the same memory location."
      ]
    },
    {
      "cell_type": "markdown",
      "metadata": {
        "id": "5-LhjXdngAbq"
      },
      "source": [
        "In the previous dictionary example, the keys were strings corresponding to course names.  Keys don't have to be strings, though; they can be other _immutable_ data type such as numbers or tuples (not lists, as lists are mutable).\n",
        "\n",
        "### Dictionary comprehension: \n",
        "\n",
        "You can construct dictionaries using a *dictionary comprehension*, which is similar to a list comprehension. Notice the brackets {} and the use of `zip` (see next cell for more on `zip`)"
      ]
    },
    {
      "cell_type": "code",
      "metadata": {
        "id": "aL0N0GLCgAbq",
        "outputId": "88edbe5b-86b1-43fa-a7f5-a32f6b8cc69a"
      },
      "source": [
        "float_list = [1., 3., 5., 4., 2.]\n",
        "int_list = [1, 2, 3, 4, 5, 6, 7, 8, 9, 10]\n",
        "\n",
        "my_dict = {k:v for (k, v) in zip(int_list, float_list)}\n",
        "my_dict"
      ],
      "execution_count": null,
      "outputs": [
        {
          "output_type": "execute_result",
          "data": {
            "text/plain": [
              "{1: 1.0, 2: 3.0, 3: 5.0, 4: 4.0, 5: 2.0}"
            ]
          },
          "metadata": {
            "tags": []
          },
          "execution_count": 127
        }
      ]
    },
    {
      "cell_type": "markdown",
      "metadata": {
        "id": "5uOfzVW1gAbq"
      },
      "source": [
        "#### Creating tuples with `zip`\n",
        "\n",
        "`zip` is a Python built-in function that returns an iterator that aggregates elements from each of the iterables. This is an iterator of tuples, where the i-th tuple contains the i-th element from each of the argument sequences or iterables. The iterator stops when the shortest input iterable is exhausted. The `set()` built-in function returns a `set` object, optionally with elements taken from another iterable. By using `set()` you can make `zip` printable. In the example below, the iterables are the two lists, `float_list` and `int_list`. We can have more than two iterables."
      ]
    },
    {
      "cell_type": "code",
      "metadata": {
        "id": "v89AA48-gAbq",
        "outputId": "5652e2d5-4512-418c-b4d8-d89fe52f7812"
      },
      "source": [
        "float_list = [1., 3., 5., 4., 2.]\n",
        "int_list = [1, 2, 3, 4, 5, 6, 7, 8, 9, 10]\n",
        "\n",
        "viz_zip = set(zip(int_list, float_list))\n",
        "viz_zip"
      ],
      "execution_count": null,
      "outputs": [
        {
          "output_type": "execute_result",
          "data": {
            "text/plain": [
              "{(1, 1.0), (2, 3.0), (3, 5.0), (4, 4.0), (5, 2.0)}"
            ]
          },
          "metadata": {
            "tags": []
          },
          "execution_count": 128
        }
      ]
    },
    {
      "cell_type": "code",
      "metadata": {
        "id": "05DoKVTsgAbq",
        "outputId": "4da09f2d-be1f-4a46-ec58-a38274644cda"
      },
      "source": [
        "type(viz_zip)"
      ],
      "execution_count": null,
      "outputs": [
        {
          "output_type": "execute_result",
          "data": {
            "text/plain": [
              "set"
            ]
          },
          "metadata": {
            "tags": []
          },
          "execution_count": 129
        }
      ]
    },
    {
      "cell_type": "markdown",
      "metadata": {
        "id": "nzcgiZ09gAbq"
      },
      "source": [
        "#<div class='exercise'><b> Exercise 5: Dictionary search </div>\n",
        "    Given the dictionary we constructed 'my_dict', find where odd values are, print their keys, and assign to the same key the value multiplied by 2."
      ]
    },
    {
      "cell_type": "code",
      "metadata": {
        "colab": {
          "base_uri": "https://localhost:8080/"
        },
        "id": "AkMKMM73gAbq",
        "outputId": "63afa76f-9fbe-48e1-af25-0e12bd97a66b"
      },
      "source": [
        "## Your code here\n",
        "my_dict = {'CS1': 500, 'CS2': 401, 'Stat1': 300, 'Stat2': 301, 'EE1': 400}\n",
        "def evenOdd(dict):\n",
        "  for key in dict:\n",
        "    if dict[key] % 2 == 1:\n",
        "      print(key)\n",
        "      dict[key] *= 2\n",
        "  return dict\n",
        "\n",
        "new_dict = evenOdd(my_dict)\n",
        "\n",
        "print(\"New dict: \", new_dict)"
      ],
      "execution_count": null,
      "outputs": [
        {
          "output_type": "stream",
          "text": [
            "CS2\n",
            "Stat2\n",
            "New dict:  {'CS1': 500, 'CS2': 802, 'Stat1': 300, 'Stat2': 602, 'EE1': 400}\n"
          ],
          "name": "stdout"
        }
      ]
    },
    {
      "cell_type": "code",
      "metadata": {
        "id": "1z8JveGRgAbq"
      },
      "source": [
        ""
      ],
      "execution_count": null,
      "outputs": []
    }
  ]
}