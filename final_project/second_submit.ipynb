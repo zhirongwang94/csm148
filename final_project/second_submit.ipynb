{
  "nbformat": 4,
  "nbformat_minor": 0,
  "metadata": {
    "colab": {
      "name": "Untitled8.ipynb",
      "provenance": [],
      "collapsed_sections": [
        "X96AzswyV8tw",
        "pru07J1sQq1M",
        "bJDMqulaH_b6",
        "2VM1qyb6JbbR",
        "D4Ft8IE2KRKM"
      ],
      "authorship_tag": "ABX9TyOPKIFo+BAOtFc0NCRoHvDd",
      "include_colab_link": true
    },
    "kernelspec": {
      "name": "python3",
      "display_name": "Python 3"
    },
    "language_info": {
      "name": "python"
    }
  },
  "cells": [
    {
      "cell_type": "markdown",
      "metadata": {
        "id": "view-in-github",
        "colab_type": "text"
      },
      "source": [
        "<a href=\"https://colab.research.google.com/github/zhirongwang94/csm148/blob/main/final_project/second_submit.ipynb\" target=\"_parent\"><img src=\"https://colab.research.google.com/assets/colab-badge.svg\" alt=\"Open In Colab\"/></a>"
      ]
    },
    {
      "cell_type": "markdown",
      "metadata": {
        "id": "tt5nvr8Lq7Xc"
      },
      "source": [
        "This is the final project. \n",
        "Background:\n",
        "\n",
        "1) id: unique identifier\n",
        "\n",
        "2) gender: \"Male\", \"Female\" or \"Other\"\n",
        "\n",
        "3) age: age of the patient\n",
        "\n",
        "4) hypertension: 0 if the patient doesn't have hypertension, 1 if the patient has hypertension \n",
        "\n",
        "5) heart_disease: 0 if the patient doesn't have any heart diseases, 1 if the patient has a heart disease\n",
        "\n",
        "6) ever_married: \"No\" or \"Yes\"\n",
        "\n",
        "7) work_type: \"children\", \"Govt_jov\", \"Never_worked\", \"Private\" or \"Self-employed\"\n",
        "\n",
        "8) Residence_type: \"Rural\" or \"Urban\"\n",
        "\n",
        "9) avg_glucose_level: average glucose level in blood\n",
        "\n",
        "10) bmi: body mass index\n",
        "\n",
        "11) smoking_status: \"formerly smoked\", \"never smoked\", \"smokes\" or \"Unknown\"*\n",
        "\n",
        "12) stroke: 1 if the patient had a stroke or 0 if not"
      ]
    },
    {
      "cell_type": "markdown",
      "metadata": {
        "id": "R1Of9-UzuNwz"
      },
      "source": [
        "# Helper Classes and Functions\n",
        "\n",
        "\n",
        "\n"
      ]
    },
    {
      "cell_type": "code",
      "metadata": {
        "id": "YfYChGltRRg_"
      },
      "source": [
        "import numpy as np\n",
        "import pandas as pd\n",
        "from sklearn.base import BaseEstimator\n",
        "from sklearn.base import TransformerMixin\n",
        "\n",
        "class DoesNothingScaler(BaseEstimator, TransformerMixin):\n",
        "    def __init__(self):\n",
        "        super().__init__()\n",
        "\n",
        "    def fit(self, X, y=None):\n",
        "        return self\n",
        "\n",
        "    def transform(self, X, y=None):\n",
        "        return X"
      ],
      "execution_count": 189,
      "outputs": []
    },
    {
      "cell_type": "markdown",
      "metadata": {
        "id": "CIoU9U2NsAqX"
      },
      "source": [
        "# Part 1. Load the Data\n",
        "\n"
      ]
    },
    {
      "cell_type": "code",
      "metadata": {
        "colab": {
          "base_uri": "https://localhost:8080/"
        },
        "id": "yLSy3OQxq0BU",
        "outputId": "2acbf57a-93e2-412b-be82-b24eb06b0b77"
      },
      "source": [
        "from google.colab import drive\n",
        "drive.mount('/content/gdrive')"
      ],
      "execution_count": 190,
      "outputs": [
        {
          "output_type": "stream",
          "text": [
            "Drive already mounted at /content/gdrive; to attempt to forcibly remount, call drive.mount(\"/content/gdrive\", force_remount=True).\n"
          ],
          "name": "stdout"
        }
      ]
    },
    {
      "cell_type": "code",
      "metadata": {
        "colab": {
          "base_uri": "https://localhost:8080/"
        },
        "id": "6rRC5QZTshYw",
        "outputId": "856e9513-03ac-42bc-b7aa-f3aada43203e"
      },
      "source": [
        "!ls ./gdrive/MyDrive/datasets/stroke"
      ],
      "execution_count": 191,
      "outputs": [
        {
          "output_type": "stream",
          "text": [
            "dataset-stroke.csv\n"
          ],
          "name": "stdout"
        }
      ]
    },
    {
      "cell_type": "code",
      "metadata": {
        "colab": {
          "base_uri": "https://localhost:8080/",
          "height": 473
        },
        "id": "FumMa0cssnKD",
        "outputId": "21af4546-3a15-4d30-8902-8933ad415dea"
      },
      "source": [
        "import numpy as np # linear algebra\n",
        "import pandas as pd # data processing, CSV file I/O (e.g. pd.read_csv)\n",
        "\n",
        "csv_path = './gdrive/MyDrive/datasets/stroke/dataset-stroke.csv'\n",
        "stroke = pd.read_csv(csv_path)\n",
        "\n",
        "stroke.head(100)"
      ],
      "execution_count": 192,
      "outputs": [
        {
          "output_type": "execute_result",
          "data": {
            "text/html": [
              "<div>\n",
              "<style scoped>\n",
              "    .dataframe tbody tr th:only-of-type {\n",
              "        vertical-align: middle;\n",
              "    }\n",
              "\n",
              "    .dataframe tbody tr th {\n",
              "        vertical-align: top;\n",
              "    }\n",
              "\n",
              "    .dataframe thead th {\n",
              "        text-align: right;\n",
              "    }\n",
              "</style>\n",
              "<table border=\"1\" class=\"dataframe\">\n",
              "  <thead>\n",
              "    <tr style=\"text-align: right;\">\n",
              "      <th></th>\n",
              "      <th>Unnamed: 0</th>\n",
              "      <th>id</th>\n",
              "      <th>gender</th>\n",
              "      <th>age</th>\n",
              "      <th>hypertension</th>\n",
              "      <th>heart_disease</th>\n",
              "      <th>ever_married</th>\n",
              "      <th>work_type</th>\n",
              "      <th>Residence_type</th>\n",
              "      <th>avg_glucose_level</th>\n",
              "      <th>bmi</th>\n",
              "      <th>smoking_status</th>\n",
              "      <th>stroke</th>\n",
              "    </tr>\n",
              "  </thead>\n",
              "  <tbody>\n",
              "    <tr>\n",
              "      <th>0</th>\n",
              "      <td>2764</td>\n",
              "      <td>20292</td>\n",
              "      <td>Female</td>\n",
              "      <td>24.0</td>\n",
              "      <td>0</td>\n",
              "      <td>0</td>\n",
              "      <td>Yes</td>\n",
              "      <td>Private</td>\n",
              "      <td>Urban</td>\n",
              "      <td>85.55</td>\n",
              "      <td>63.3</td>\n",
              "      <td>never smoked</td>\n",
              "      <td>0</td>\n",
              "    </tr>\n",
              "    <tr>\n",
              "      <th>1</th>\n",
              "      <td>98</td>\n",
              "      <td>8154</td>\n",
              "      <td>Male</td>\n",
              "      <td>57.0</td>\n",
              "      <td>1</td>\n",
              "      <td>0</td>\n",
              "      <td>Yes</td>\n",
              "      <td>Govt_job</td>\n",
              "      <td>Urban</td>\n",
              "      <td>78.92</td>\n",
              "      <td>27.7</td>\n",
              "      <td>formerly smoked</td>\n",
              "      <td>1</td>\n",
              "    </tr>\n",
              "    <tr>\n",
              "      <th>2</th>\n",
              "      <td>3735</td>\n",
              "      <td>27176</td>\n",
              "      <td>Female</td>\n",
              "      <td>69.0</td>\n",
              "      <td>0</td>\n",
              "      <td>0</td>\n",
              "      <td>Yes</td>\n",
              "      <td>Private</td>\n",
              "      <td>Rural</td>\n",
              "      <td>103.73</td>\n",
              "      <td>34.7</td>\n",
              "      <td>never smoked</td>\n",
              "      <td>0</td>\n",
              "    </tr>\n",
              "    <tr>\n",
              "      <th>3</th>\n",
              "      <td>4500</td>\n",
              "      <td>13598</td>\n",
              "      <td>Male</td>\n",
              "      <td>60.0</td>\n",
              "      <td>0</td>\n",
              "      <td>0</td>\n",
              "      <td>Yes</td>\n",
              "      <td>Self-employed</td>\n",
              "      <td>Urban</td>\n",
              "      <td>227.23</td>\n",
              "      <td>40.0</td>\n",
              "      <td>formerly smoked</td>\n",
              "      <td>0</td>\n",
              "    </tr>\n",
              "    <tr>\n",
              "      <th>4</th>\n",
              "      <td>3254</td>\n",
              "      <td>27034</td>\n",
              "      <td>Female</td>\n",
              "      <td>65.0</td>\n",
              "      <td>0</td>\n",
              "      <td>0</td>\n",
              "      <td>Yes</td>\n",
              "      <td>Govt_job</td>\n",
              "      <td>Urban</td>\n",
              "      <td>82.72</td>\n",
              "      <td>29.8</td>\n",
              "      <td>smokes</td>\n",
              "      <td>0</td>\n",
              "    </tr>\n",
              "    <tr>\n",
              "      <th>...</th>\n",
              "      <td>...</td>\n",
              "      <td>...</td>\n",
              "      <td>...</td>\n",
              "      <td>...</td>\n",
              "      <td>...</td>\n",
              "      <td>...</td>\n",
              "      <td>...</td>\n",
              "      <td>...</td>\n",
              "      <td>...</td>\n",
              "      <td>...</td>\n",
              "      <td>...</td>\n",
              "      <td>...</td>\n",
              "      <td>...</td>\n",
              "    </tr>\n",
              "    <tr>\n",
              "      <th>95</th>\n",
              "      <td>4894</td>\n",
              "      <td>53323</td>\n",
              "      <td>Female</td>\n",
              "      <td>34.0</td>\n",
              "      <td>0</td>\n",
              "      <td>0</td>\n",
              "      <td>No</td>\n",
              "      <td>Govt_job</td>\n",
              "      <td>Urban</td>\n",
              "      <td>79.60</td>\n",
              "      <td>46.3</td>\n",
              "      <td>never smoked</td>\n",
              "      <td>0</td>\n",
              "    </tr>\n",
              "    <tr>\n",
              "      <th>96</th>\n",
              "      <td>250</td>\n",
              "      <td>30468</td>\n",
              "      <td>Male</td>\n",
              "      <td>58.0</td>\n",
              "      <td>1</td>\n",
              "      <td>0</td>\n",
              "      <td>Yes</td>\n",
              "      <td>Private</td>\n",
              "      <td>Urban</td>\n",
              "      <td>87.96</td>\n",
              "      <td>39.2</td>\n",
              "      <td>never smoked</td>\n",
              "      <td>0</td>\n",
              "    </tr>\n",
              "    <tr>\n",
              "      <th>97</th>\n",
              "      <td>3732</td>\n",
              "      <td>56923</td>\n",
              "      <td>Male</td>\n",
              "      <td>52.0</td>\n",
              "      <td>1</td>\n",
              "      <td>0</td>\n",
              "      <td>Yes</td>\n",
              "      <td>Private</td>\n",
              "      <td>Rural</td>\n",
              "      <td>116.21</td>\n",
              "      <td>32.8</td>\n",
              "      <td>smokes</td>\n",
              "      <td>0</td>\n",
              "    </tr>\n",
              "    <tr>\n",
              "      <th>98</th>\n",
              "      <td>3531</td>\n",
              "      <td>38742</td>\n",
              "      <td>Female</td>\n",
              "      <td>71.0</td>\n",
              "      <td>0</td>\n",
              "      <td>0</td>\n",
              "      <td>Yes</td>\n",
              "      <td>Private</td>\n",
              "      <td>Urban</td>\n",
              "      <td>80.34</td>\n",
              "      <td>29.2</td>\n",
              "      <td>never smoked</td>\n",
              "      <td>0</td>\n",
              "    </tr>\n",
              "    <tr>\n",
              "      <th>99</th>\n",
              "      <td>1102</td>\n",
              "      <td>18414</td>\n",
              "      <td>Female</td>\n",
              "      <td>23.0</td>\n",
              "      <td>0</td>\n",
              "      <td>0</td>\n",
              "      <td>No</td>\n",
              "      <td>Private</td>\n",
              "      <td>Rural</td>\n",
              "      <td>193.22</td>\n",
              "      <td>NaN</td>\n",
              "      <td>smokes</td>\n",
              "      <td>0</td>\n",
              "    </tr>\n",
              "  </tbody>\n",
              "</table>\n",
              "<p>100 rows × 13 columns</p>\n",
              "</div>"
            ],
            "text/plain": [
              "    Unnamed: 0     id  gender  ...   bmi   smoking_status  stroke\n",
              "0         2764  20292  Female  ...  63.3     never smoked       0\n",
              "1           98   8154    Male  ...  27.7  formerly smoked       1\n",
              "2         3735  27176  Female  ...  34.7     never smoked       0\n",
              "3         4500  13598    Male  ...  40.0  formerly smoked       0\n",
              "4         3254  27034  Female  ...  29.8           smokes       0\n",
              "..         ...    ...     ...  ...   ...              ...     ...\n",
              "95        4894  53323  Female  ...  46.3     never smoked       0\n",
              "96         250  30468    Male  ...  39.2     never smoked       0\n",
              "97        3732  56923    Male  ...  32.8           smokes       0\n",
              "98        3531  38742  Female  ...  29.2     never smoked       0\n",
              "99        1102  18414  Female  ...   NaN           smokes       0\n",
              "\n",
              "[100 rows x 13 columns]"
            ]
          },
          "metadata": {
            "tags": []
          },
          "execution_count": 192
        }
      ]
    },
    {
      "cell_type": "markdown",
      "metadata": {
        "id": "X96AzswyV8tw"
      },
      "source": [
        "# Part2 Data Analysis and Imputation"
      ]
    },
    {
      "cell_type": "code",
      "metadata": {
        "colab": {
          "base_uri": "https://localhost:8080/"
        },
        "id": "sNA5ztW4s9mC",
        "outputId": "b739835d-85a4-403d-f5aa-fad942c2a348"
      },
      "source": [
        "stroke.info()"
      ],
      "execution_count": 193,
      "outputs": [
        {
          "output_type": "stream",
          "text": [
            "<class 'pandas.core.frame.DataFrame'>\n",
            "RangeIndex: 2310 entries, 0 to 2309\n",
            "Data columns (total 13 columns):\n",
            " #   Column             Non-Null Count  Dtype  \n",
            "---  ------             --------------  -----  \n",
            " 0   Unnamed: 0         2310 non-null   int64  \n",
            " 1   id                 2310 non-null   int64  \n",
            " 2   gender             2310 non-null   object \n",
            " 3   age                2310 non-null   float64\n",
            " 4   hypertension       2310 non-null   int64  \n",
            " 5   heart_disease      2310 non-null   int64  \n",
            " 6   ever_married       2310 non-null   object \n",
            " 7   work_type          2310 non-null   object \n",
            " 8   Residence_type     2310 non-null   object \n",
            " 9   avg_glucose_level  2310 non-null   float64\n",
            " 10  bmi                2215 non-null   float64\n",
            " 11  smoking_status     2310 non-null   object \n",
            " 12  stroke             2310 non-null   int64  \n",
            "dtypes: float64(3), int64(5), object(5)\n",
            "memory usage: 234.7+ KB\n"
          ],
          "name": "stdout"
        }
      ]
    },
    {
      "cell_type": "code",
      "metadata": {
        "colab": {
          "base_uri": "https://localhost:8080/",
          "height": 297
        },
        "id": "Y3SPsb2XtlUU",
        "outputId": "628ed074-4406-4a96-f1c9-9b259e6d52b3"
      },
      "source": [
        "stroke.describe()"
      ],
      "execution_count": 194,
      "outputs": [
        {
          "output_type": "execute_result",
          "data": {
            "text/html": [
              "<div>\n",
              "<style scoped>\n",
              "    .dataframe tbody tr th:only-of-type {\n",
              "        vertical-align: middle;\n",
              "    }\n",
              "\n",
              "    .dataframe tbody tr th {\n",
              "        vertical-align: top;\n",
              "    }\n",
              "\n",
              "    .dataframe thead th {\n",
              "        text-align: right;\n",
              "    }\n",
              "</style>\n",
              "<table border=\"1\" class=\"dataframe\">\n",
              "  <thead>\n",
              "    <tr style=\"text-align: right;\">\n",
              "      <th></th>\n",
              "      <th>Unnamed: 0</th>\n",
              "      <th>id</th>\n",
              "      <th>age</th>\n",
              "      <th>hypertension</th>\n",
              "      <th>heart_disease</th>\n",
              "      <th>avg_glucose_level</th>\n",
              "      <th>bmi</th>\n",
              "      <th>stroke</th>\n",
              "    </tr>\n",
              "  </thead>\n",
              "  <tbody>\n",
              "    <tr>\n",
              "      <th>count</th>\n",
              "      <td>2310.000000</td>\n",
              "      <td>2310.000000</td>\n",
              "      <td>2310.000000</td>\n",
              "      <td>2310.000000</td>\n",
              "      <td>2310.000000</td>\n",
              "      <td>2310.000000</td>\n",
              "      <td>2215.000000</td>\n",
              "      <td>2310.000000</td>\n",
              "    </tr>\n",
              "    <tr>\n",
              "      <th>mean</th>\n",
              "      <td>2530.838095</td>\n",
              "      <td>35961.380519</td>\n",
              "      <td>43.202043</td>\n",
              "      <td>0.096537</td>\n",
              "      <td>0.054545</td>\n",
              "      <td>105.747004</td>\n",
              "      <td>28.805418</td>\n",
              "      <td>0.052814</td>\n",
              "    </tr>\n",
              "    <tr>\n",
              "      <th>std</th>\n",
              "      <td>1483.865940</td>\n",
              "      <td>21191.909528</td>\n",
              "      <td>22.784886</td>\n",
              "      <td>0.295390</td>\n",
              "      <td>0.227140</td>\n",
              "      <td>44.984524</td>\n",
              "      <td>7.800871</td>\n",
              "      <td>0.223710</td>\n",
              "    </tr>\n",
              "    <tr>\n",
              "      <th>min</th>\n",
              "      <td>0.000000</td>\n",
              "      <td>77.000000</td>\n",
              "      <td>0.080000</td>\n",
              "      <td>0.000000</td>\n",
              "      <td>0.000000</td>\n",
              "      <td>55.120000</td>\n",
              "      <td>10.300000</td>\n",
              "      <td>0.000000</td>\n",
              "    </tr>\n",
              "    <tr>\n",
              "      <th>25%</th>\n",
              "      <td>1217.250000</td>\n",
              "      <td>17007.750000</td>\n",
              "      <td>25.250000</td>\n",
              "      <td>0.000000</td>\n",
              "      <td>0.000000</td>\n",
              "      <td>77.007500</td>\n",
              "      <td>23.600000</td>\n",
              "      <td>0.000000</td>\n",
              "    </tr>\n",
              "    <tr>\n",
              "      <th>50%</th>\n",
              "      <td>2573.500000</td>\n",
              "      <td>36047.000000</td>\n",
              "      <td>44.000000</td>\n",
              "      <td>0.000000</td>\n",
              "      <td>0.000000</td>\n",
              "      <td>91.850000</td>\n",
              "      <td>28.100000</td>\n",
              "      <td>0.000000</td>\n",
              "    </tr>\n",
              "    <tr>\n",
              "      <th>75%</th>\n",
              "      <td>3810.750000</td>\n",
              "      <td>54231.500000</td>\n",
              "      <td>61.000000</td>\n",
              "      <td>0.000000</td>\n",
              "      <td>0.000000</td>\n",
              "      <td>113.452500</td>\n",
              "      <td>32.900000</td>\n",
              "      <td>0.000000</td>\n",
              "    </tr>\n",
              "    <tr>\n",
              "      <th>max</th>\n",
              "      <td>5109.000000</td>\n",
              "      <td>72918.000000</td>\n",
              "      <td>82.000000</td>\n",
              "      <td>1.000000</td>\n",
              "      <td>1.000000</td>\n",
              "      <td>271.740000</td>\n",
              "      <td>92.000000</td>\n",
              "      <td>1.000000</td>\n",
              "    </tr>\n",
              "  </tbody>\n",
              "</table>\n",
              "</div>"
            ],
            "text/plain": [
              "        Unnamed: 0            id  ...          bmi       stroke\n",
              "count  2310.000000   2310.000000  ...  2215.000000  2310.000000\n",
              "mean   2530.838095  35961.380519  ...    28.805418     0.052814\n",
              "std    1483.865940  21191.909528  ...     7.800871     0.223710\n",
              "min       0.000000     77.000000  ...    10.300000     0.000000\n",
              "25%    1217.250000  17007.750000  ...    23.600000     0.000000\n",
              "50%    2573.500000  36047.000000  ...    28.100000     0.000000\n",
              "75%    3810.750000  54231.500000  ...    32.900000     0.000000\n",
              "max    5109.000000  72918.000000  ...    92.000000     1.000000\n",
              "\n",
              "[8 rows x 8 columns]"
            ]
          },
          "metadata": {
            "tags": []
          },
          "execution_count": 194
        }
      ]
    },
    {
      "cell_type": "code",
      "metadata": {
        "colab": {
          "base_uri": "https://localhost:8080/",
          "height": 490
        },
        "id": "w0GPyZCzWj2I",
        "outputId": "4b2f5bdb-014f-49df-cf88-fd2b8de26074"
      },
      "source": [
        "# .info() result shows there are some row in bmi has 95 Nah value\n",
        "# let check if they have there 'Unknown' values in smoking_staus. \n",
        "stroke[stroke['smoking_status'] == 'Unknown']"
      ],
      "execution_count": 195,
      "outputs": [
        {
          "output_type": "execute_result",
          "data": {
            "text/html": [
              "<div>\n",
              "<style scoped>\n",
              "    .dataframe tbody tr th:only-of-type {\n",
              "        vertical-align: middle;\n",
              "    }\n",
              "\n",
              "    .dataframe tbody tr th {\n",
              "        vertical-align: top;\n",
              "    }\n",
              "\n",
              "    .dataframe thead th {\n",
              "        text-align: right;\n",
              "    }\n",
              "</style>\n",
              "<table border=\"1\" class=\"dataframe\">\n",
              "  <thead>\n",
              "    <tr style=\"text-align: right;\">\n",
              "      <th></th>\n",
              "      <th>Unnamed: 0</th>\n",
              "      <th>id</th>\n",
              "      <th>gender</th>\n",
              "      <th>age</th>\n",
              "      <th>hypertension</th>\n",
              "      <th>heart_disease</th>\n",
              "      <th>ever_married</th>\n",
              "      <th>work_type</th>\n",
              "      <th>Residence_type</th>\n",
              "      <th>avg_glucose_level</th>\n",
              "      <th>bmi</th>\n",
              "      <th>smoking_status</th>\n",
              "      <th>stroke</th>\n",
              "    </tr>\n",
              "  </thead>\n",
              "  <tbody>\n",
              "    <tr>\n",
              "      <th>7</th>\n",
              "      <td>3877</td>\n",
              "      <td>45983</td>\n",
              "      <td>Male</td>\n",
              "      <td>21.0</td>\n",
              "      <td>0</td>\n",
              "      <td>0</td>\n",
              "      <td>No</td>\n",
              "      <td>Private</td>\n",
              "      <td>Urban</td>\n",
              "      <td>56.79</td>\n",
              "      <td>20.4</td>\n",
              "      <td>Unknown</td>\n",
              "      <td>0</td>\n",
              "    </tr>\n",
              "    <tr>\n",
              "      <th>8</th>\n",
              "      <td>1680</td>\n",
              "      <td>70752</td>\n",
              "      <td>Male</td>\n",
              "      <td>37.0</td>\n",
              "      <td>0</td>\n",
              "      <td>0</td>\n",
              "      <td>Yes</td>\n",
              "      <td>Private</td>\n",
              "      <td>Urban</td>\n",
              "      <td>145.26</td>\n",
              "      <td>26.7</td>\n",
              "      <td>Unknown</td>\n",
              "      <td>0</td>\n",
              "    </tr>\n",
              "    <tr>\n",
              "      <th>10</th>\n",
              "      <td>4211</td>\n",
              "      <td>19498</td>\n",
              "      <td>Female</td>\n",
              "      <td>81.0</td>\n",
              "      <td>0</td>\n",
              "      <td>1</td>\n",
              "      <td>No</td>\n",
              "      <td>Self-employed</td>\n",
              "      <td>Urban</td>\n",
              "      <td>99.44</td>\n",
              "      <td>27.7</td>\n",
              "      <td>Unknown</td>\n",
              "      <td>0</td>\n",
              "    </tr>\n",
              "    <tr>\n",
              "      <th>14</th>\n",
              "      <td>445</td>\n",
              "      <td>61465</td>\n",
              "      <td>Male</td>\n",
              "      <td>13.0</td>\n",
              "      <td>0</td>\n",
              "      <td>0</td>\n",
              "      <td>No</td>\n",
              "      <td>children</td>\n",
              "      <td>Rural</td>\n",
              "      <td>55.39</td>\n",
              "      <td>23.2</td>\n",
              "      <td>Unknown</td>\n",
              "      <td>0</td>\n",
              "    </tr>\n",
              "    <tr>\n",
              "      <th>17</th>\n",
              "      <td>2677</td>\n",
              "      <td>45461</td>\n",
              "      <td>Female</td>\n",
              "      <td>70.0</td>\n",
              "      <td>0</td>\n",
              "      <td>0</td>\n",
              "      <td>Yes</td>\n",
              "      <td>Private</td>\n",
              "      <td>Urban</td>\n",
              "      <td>91.28</td>\n",
              "      <td>30.1</td>\n",
              "      <td>Unknown</td>\n",
              "      <td>0</td>\n",
              "    </tr>\n",
              "    <tr>\n",
              "      <th>...</th>\n",
              "      <td>...</td>\n",
              "      <td>...</td>\n",
              "      <td>...</td>\n",
              "      <td>...</td>\n",
              "      <td>...</td>\n",
              "      <td>...</td>\n",
              "      <td>...</td>\n",
              "      <td>...</td>\n",
              "      <td>...</td>\n",
              "      <td>...</td>\n",
              "      <td>...</td>\n",
              "      <td>...</td>\n",
              "      <td>...</td>\n",
              "    </tr>\n",
              "    <tr>\n",
              "      <th>2299</th>\n",
              "      <td>288</td>\n",
              "      <td>70970</td>\n",
              "      <td>Female</td>\n",
              "      <td>17.0</td>\n",
              "      <td>0</td>\n",
              "      <td>0</td>\n",
              "      <td>No</td>\n",
              "      <td>Self-employed</td>\n",
              "      <td>Urban</td>\n",
              "      <td>82.18</td>\n",
              "      <td>23.4</td>\n",
              "      <td>Unknown</td>\n",
              "      <td>0</td>\n",
              "    </tr>\n",
              "    <tr>\n",
              "      <th>2300</th>\n",
              "      <td>1610</td>\n",
              "      <td>71721</td>\n",
              "      <td>Female</td>\n",
              "      <td>18.0</td>\n",
              "      <td>0</td>\n",
              "      <td>0</td>\n",
              "      <td>No</td>\n",
              "      <td>Private</td>\n",
              "      <td>Rural</td>\n",
              "      <td>80.06</td>\n",
              "      <td>31.8</td>\n",
              "      <td>Unknown</td>\n",
              "      <td>0</td>\n",
              "    </tr>\n",
              "    <tr>\n",
              "      <th>2304</th>\n",
              "      <td>2114</td>\n",
              "      <td>25996</td>\n",
              "      <td>Female</td>\n",
              "      <td>29.0</td>\n",
              "      <td>0</td>\n",
              "      <td>0</td>\n",
              "      <td>Yes</td>\n",
              "      <td>Private</td>\n",
              "      <td>Urban</td>\n",
              "      <td>81.20</td>\n",
              "      <td>23.0</td>\n",
              "      <td>Unknown</td>\n",
              "      <td>0</td>\n",
              "    </tr>\n",
              "    <tr>\n",
              "      <th>2305</th>\n",
              "      <td>1812</td>\n",
              "      <td>12366</td>\n",
              "      <td>Female</td>\n",
              "      <td>35.0</td>\n",
              "      <td>0</td>\n",
              "      <td>0</td>\n",
              "      <td>No</td>\n",
              "      <td>Private</td>\n",
              "      <td>Urban</td>\n",
              "      <td>97.58</td>\n",
              "      <td>24.3</td>\n",
              "      <td>Unknown</td>\n",
              "      <td>0</td>\n",
              "    </tr>\n",
              "    <tr>\n",
              "      <th>2307</th>\n",
              "      <td>3563</td>\n",
              "      <td>15136</td>\n",
              "      <td>Male</td>\n",
              "      <td>64.0</td>\n",
              "      <td>0</td>\n",
              "      <td>1</td>\n",
              "      <td>Yes</td>\n",
              "      <td>Private</td>\n",
              "      <td>Rural</td>\n",
              "      <td>109.88</td>\n",
              "      <td>33.9</td>\n",
              "      <td>Unknown</td>\n",
              "      <td>0</td>\n",
              "    </tr>\n",
              "  </tbody>\n",
              "</table>\n",
              "<p>705 rows × 13 columns</p>\n",
              "</div>"
            ],
            "text/plain": [
              "      Unnamed: 0     id  gender  ...   bmi  smoking_status  stroke\n",
              "7           3877  45983    Male  ...  20.4         Unknown       0\n",
              "8           1680  70752    Male  ...  26.7         Unknown       0\n",
              "10          4211  19498  Female  ...  27.7         Unknown       0\n",
              "14           445  61465    Male  ...  23.2         Unknown       0\n",
              "17          2677  45461  Female  ...  30.1         Unknown       0\n",
              "...          ...    ...     ...  ...   ...             ...     ...\n",
              "2299         288  70970  Female  ...  23.4         Unknown       0\n",
              "2300        1610  71721  Female  ...  31.8         Unknown       0\n",
              "2304        2114  25996  Female  ...  23.0         Unknown       0\n",
              "2305        1812  12366  Female  ...  24.3         Unknown       0\n",
              "2307        3563  15136    Male  ...  33.9         Unknown       0\n",
              "\n",
              "[705 rows x 13 columns]"
            ]
          },
          "metadata": {
            "tags": []
          },
          "execution_count": 195
        }
      ]
    },
    {
      "cell_type": "code",
      "metadata": {
        "id": "HQ_g4-HtXE_u"
      },
      "source": [
        "# There are 95 Nah values in bmi column, and there are 705 'Unknown' values in Smoking_status. \n",
        "# In the first appraoch, I try to remove all the rows with Nah values and the Smoking_status column. \n",
        "\n",
        "# remove rows with Nah values. \n",
        "row_has_Nah = stroke.isnull().any(axis=1)\n",
        "incomplete_rows = stroke[row_has_Nah]\n",
        "stroke = stroke.drop(incomplete_rows.index, axis=0)\n",
        "# stroke.info()\n",
        "\n",
        "# remove smoking_status column. \n",
        "stroke = stroke.drop(['id','smoking_status', 'Unnamed: 0'], axis=1)\n",
        "\n"
      ],
      "execution_count": 196,
      "outputs": []
    },
    {
      "cell_type": "code",
      "metadata": {
        "colab": {
          "base_uri": "https://localhost:8080/",
          "height": 235
        },
        "id": "Ng5pCcpmhIbU",
        "outputId": "4c71e503-4aa4-45b2-8407-2e7938b06d3f"
      },
      "source": [
        "import numpy as np; np.random.seed(0)\n",
        "import seaborn as sns; sns.set_theme()\n",
        "stroke.corr()\n",
        "\n",
        "\n",
        "# Heatmap analysis: From the heatmap, we know that the correlation between aga and most featurees are significant.\n",
        "# Thus, we want to drop the age column when we do the logistic regression.  "
      ],
      "execution_count": 197,
      "outputs": [
        {
          "output_type": "execute_result",
          "data": {
            "text/html": [
              "<div>\n",
              "<style scoped>\n",
              "    .dataframe tbody tr th:only-of-type {\n",
              "        vertical-align: middle;\n",
              "    }\n",
              "\n",
              "    .dataframe tbody tr th {\n",
              "        vertical-align: top;\n",
              "    }\n",
              "\n",
              "    .dataframe thead th {\n",
              "        text-align: right;\n",
              "    }\n",
              "</style>\n",
              "<table border=\"1\" class=\"dataframe\">\n",
              "  <thead>\n",
              "    <tr style=\"text-align: right;\">\n",
              "      <th></th>\n",
              "      <th>age</th>\n",
              "      <th>hypertension</th>\n",
              "      <th>heart_disease</th>\n",
              "      <th>avg_glucose_level</th>\n",
              "      <th>bmi</th>\n",
              "      <th>stroke</th>\n",
              "    </tr>\n",
              "  </thead>\n",
              "  <tbody>\n",
              "    <tr>\n",
              "      <th>age</th>\n",
              "      <td>1.000000</td>\n",
              "      <td>0.271278</td>\n",
              "      <td>0.267848</td>\n",
              "      <td>0.210488</td>\n",
              "      <td>0.335585</td>\n",
              "      <td>0.242456</td>\n",
              "    </tr>\n",
              "    <tr>\n",
              "      <th>hypertension</th>\n",
              "      <td>0.271278</td>\n",
              "      <td>1.000000</td>\n",
              "      <td>0.144237</td>\n",
              "      <td>0.147975</td>\n",
              "      <td>0.164191</td>\n",
              "      <td>0.183425</td>\n",
              "    </tr>\n",
              "    <tr>\n",
              "      <th>heart_disease</th>\n",
              "      <td>0.267848</td>\n",
              "      <td>0.144237</td>\n",
              "      <td>1.000000</td>\n",
              "      <td>0.158607</td>\n",
              "      <td>0.034359</td>\n",
              "      <td>0.160615</td>\n",
              "    </tr>\n",
              "    <tr>\n",
              "      <th>avg_glucose_level</th>\n",
              "      <td>0.210488</td>\n",
              "      <td>0.147975</td>\n",
              "      <td>0.158607</td>\n",
              "      <td>1.000000</td>\n",
              "      <td>0.158766</td>\n",
              "      <td>0.160134</td>\n",
              "    </tr>\n",
              "    <tr>\n",
              "      <th>bmi</th>\n",
              "      <td>0.335585</td>\n",
              "      <td>0.164191</td>\n",
              "      <td>0.034359</td>\n",
              "      <td>0.158766</td>\n",
              "      <td>1.000000</td>\n",
              "      <td>0.043944</td>\n",
              "    </tr>\n",
              "    <tr>\n",
              "      <th>stroke</th>\n",
              "      <td>0.242456</td>\n",
              "      <td>0.183425</td>\n",
              "      <td>0.160615</td>\n",
              "      <td>0.160134</td>\n",
              "      <td>0.043944</td>\n",
              "      <td>1.000000</td>\n",
              "    </tr>\n",
              "  </tbody>\n",
              "</table>\n",
              "</div>"
            ],
            "text/plain": [
              "                        age  hypertension  ...       bmi    stroke\n",
              "age                1.000000      0.271278  ...  0.335585  0.242456\n",
              "hypertension       0.271278      1.000000  ...  0.164191  0.183425\n",
              "heart_disease      0.267848      0.144237  ...  0.034359  0.160615\n",
              "avg_glucose_level  0.210488      0.147975  ...  0.158766  0.160134\n",
              "bmi                0.335585      0.164191  ...  1.000000  0.043944\n",
              "stroke             0.242456      0.183425  ...  0.043944  1.000000\n",
              "\n",
              "[6 rows x 6 columns]"
            ]
          },
          "metadata": {
            "tags": []
          },
          "execution_count": 197
        }
      ]
    },
    {
      "cell_type": "code",
      "metadata": {
        "colab": {
          "base_uri": "https://localhost:8080/",
          "height": 379
        },
        "id": "Y4_fso9fh9PE",
        "outputId": "80beab1d-7475-416f-a2d5-0a69df379a4d"
      },
      "source": [
        "sns.heatmap(stroke.corr())"
      ],
      "execution_count": 198,
      "outputs": [
        {
          "output_type": "execute_result",
          "data": {
            "text/plain": [
              "<matplotlib.axes._subplots.AxesSubplot at 0x7f65167d0d10>"
            ]
          },
          "metadata": {
            "tags": []
          },
          "execution_count": 198
        },
        {
          "output_type": "display_data",
          "data": {
            "image/png": "[encoded data removed]",
            "text/plain": [
              "<Figure size 432x288 with 2 Axes>"
            ]
          },
          "metadata": {
            "tags": []
          }
        }
      ]
    },
    {
      "cell_type": "code",
      "metadata": {
        "colab": {
          "base_uri": "https://localhost:8080/"
        },
        "id": "h_ykhJaRTMUu",
        "outputId": "76b0f14e-70b4-49cc-9bdc-b3311bab5c08"
      },
      "source": [
        "categorical_features = ['work_type', 'gender', 'ever_married', 'Residence_type']\n",
        "numerical_features = ['age', 'hypertension', 'heart_disease', 'avg_glucose_level', 'bmi']\n",
        "\n",
        "stroke.info()"
      ],
      "execution_count": 199,
      "outputs": [
        {
          "output_type": "stream",
          "text": [
            "<class 'pandas.core.frame.DataFrame'>\n",
            "Int64Index: 2215 entries, 0 to 2309\n",
            "Data columns (total 10 columns):\n",
            " #   Column             Non-Null Count  Dtype  \n",
            "---  ------             --------------  -----  \n",
            " 0   gender             2215 non-null   object \n",
            " 1   age                2215 non-null   float64\n",
            " 2   hypertension       2215 non-null   int64  \n",
            " 3   heart_disease      2215 non-null   int64  \n",
            " 4   ever_married       2215 non-null   object \n",
            " 5   work_type          2215 non-null   object \n",
            " 6   Residence_type     2215 non-null   object \n",
            " 7   avg_glucose_level  2215 non-null   float64\n",
            " 8   bmi                2215 non-null   float64\n",
            " 9   stroke             2215 non-null   int64  \n",
            "dtypes: float64(3), int64(3), object(4)\n",
            "memory usage: 190.4+ KB\n"
          ],
          "name": "stdout"
        }
      ]
    },
    {
      "cell_type": "markdown",
      "metadata": {
        "id": "EXoDU7nDZRO4"
      },
      "source": [
        "# Part3 Data preprocess, and PCA"
      ]
    },
    {
      "cell_type": "code",
      "metadata": {
        "id": "5wqz4gZydsxj"
      },
      "source": [
        "from sklearn.impute import SimpleImputer\n",
        "from sklearn.compose import ColumnTransformer\n",
        "from sklearn.pipeline import Pipeline\n",
        "from sklearn.preprocessing import StandardScaler\n",
        "from sklearn.preprocessing import OneHotEncoder\n",
        "\n",
        "\n",
        "# from sklearn.base import BaseEstimator, TransformerMixin\n",
        "\n",
        "categorical_features = ['work_type', 'gender', 'ever_married', 'Residence_type']\n",
        "numerical_features = ['age', 'hypertension', 'heart_disease', 'avg_glucose_level', 'bmi']\n",
        "\n",
        "full_pipeline = ColumnTransformer([\n",
        "        (\"num\", StandardScaler(), numerical_features ),                          \n",
        "        # (\"cat\", OneHotEncoder(),  categorical_features),\n",
        "        (\"cat\", OneHotEncoder(), categorical_features),\n",
        "    ])\n",
        "\n",
        "\n",
        "stroke_prepared = full_pipeline.fit_transform(stroke)\n",
        "stroke_target = stroke['stroke']\n"
      ],
      "execution_count": 200,
      "outputs": []
    },
    {
      "cell_type": "code",
      "metadata": {
        "id": "4-P29bfis4YY"
      },
      "source": [
        "from sklearn.model_selection import train_test_split\n",
        "data_target = stroke['stroke']\n",
        "X_train, X_test, y_train, y_test = train_test_split(stroke_prepared, stroke_target, test_size=0.3, random_state=0)\n"
      ],
      "execution_count": 201,
      "outputs": []
    },
    {
      "cell_type": "markdown",
      "metadata": {
        "id": "Ha2aYbuidFu_"
      },
      "source": [
        "Use PCA to simplilize data"
      ]
    },
    {
      "cell_type": "code",
      "metadata": {
        "colab": {
          "base_uri": "https://localhost:8080/"
        },
        "id": "Elzlronwcb1a",
        "outputId": "9ab809ee-09ab-4320-efbe-fcf7cb17ed97"
      },
      "source": [
        "import numpy as np\n",
        "from sklearn.decomposition import PCA\n",
        "\n",
        "pca = PCA(n_components=4)\n",
        "\n",
        "pca.fit(X_train)\n",
        "stroke_PCA = pca.fit_transform(stroke_prepared)\n",
        "X_train_PCA  = pca.fit_transform(X_train)\n",
        "X_test_PCA = pca.fit_transform(X_test)\n",
        "print(\"Variance Ratio: \", pca.explained_variance_ratio_)"
      ],
      "execution_count": 211,
      "outputs": [
        {
          "output_type": "stream",
          "text": [
            "Variance Ratio:  [0.28881673 0.16111303 0.1219418  0.10836956]\n"
          ],
          "name": "stdout"
        }
      ]
    },
    {
      "cell_type": "markdown",
      "metadata": {
        "id": "jd3CWfIzuMKQ"
      },
      "source": [
        "# Part4  Basic Logistic Regression"
      ]
    },
    {
      "cell_type": "code",
      "metadata": {
        "colab": {
          "base_uri": "https://localhost:8080/"
        },
        "id": "OGPhfQn9NCG7",
        "outputId": "c81cae77-e7d2-4a24-f053-5879d8cb9dce"
      },
      "source": [
        "# Basic Logistic Regression without standalization \n",
        "from sklearn.impute import SimpleImputer\n",
        "from sklearn.compose import ColumnTransformer\n",
        "from sklearn.pipeline import Pipeline\n",
        "from sklearn.preprocessing import OneHotEncoder\n",
        "\n",
        "from sklearn.datasets import load_iris\n",
        "from sklearn.linear_model import LogisticRegression\n",
        "\n",
        "full_pipeline = ColumnTransformer([\n",
        "        (\"num\", DoesNothingScaler(), numerical_features ),                          \n",
        "        (\"cat\", OneHotEncoder(), categorical_features),\n",
        "    ])\n",
        "\n",
        "stroke_for_logistic = full_pipeline.fit_transform(stroke)\n",
        "stroke_target = stroke['stroke']\n",
        "X_train_logistic, X_test_logistic, y_train_logistic, y_test_logistic = train_test_split(stroke_for_logistic, stroke_target, test_size=0.3, random_state=0)\n",
        "\n",
        "log_clf = LogisticRegression(random_state=0, max_iter=1000) \n",
        "log_clf.fit(X_train_logistic, y_train_logistic)\n",
        "log_clf.score(X_test_logistic, y_test_logistic)"
      ],
      "execution_count": 184,
      "outputs": [
        {
          "output_type": "execute_result",
          "data": {
            "text/plain": [
              "0.9428571428571428"
            ]
          },
          "metadata": {
            "tags": []
          },
          "execution_count": 184
        }
      ]
    },
    {
      "cell_type": "code",
      "metadata": {
        "colab": {
          "base_uri": "https://localhost:8080/"
        },
        "id": "vurKYye9jJfQ",
        "outputId": "ae3f5b61-c205-415a-adad-275061ab56d7"
      },
      "source": [
        "# Basic Logistic Regression with standalization \n",
        "full_pipeline = ColumnTransformer([\n",
        "        (\"num\", StandardScaler(), numerical_features ),                          \n",
        "        (\"cat\", OneHotEncoder(), categorical_features),\n",
        "    ])\n",
        "\n",
        "stroke_for_logistic = full_pipeline.fit_transform(stroke)\n",
        "stroke_target = stroke['stroke']\n",
        "\n",
        "X_train_logistic, X_test_logistic, y_train_logistic, y_test_logistic = train_test_split(stroke_for_logistic, stroke_target, test_size=0.3, random_state=0)\n",
        "\n",
        "log_clf = LogisticRegression(random_state=0, max_iter=1000) \n",
        "log_clf.fit(X_train_logistic, y_train_logistic)\n",
        "log_clf.score(X_test_logistic, y_test_logistic)"
      ],
      "execution_count": 185,
      "outputs": [
        {
          "output_type": "execute_result",
          "data": {
            "text/plain": [
              "0.9428571428571428"
            ]
          },
          "metadata": {
            "tags": []
          },
          "execution_count": 185
        }
      ]
    },
    {
      "cell_type": "code",
      "metadata": {
        "colab": {
          "base_uri": "https://localhost:8080/"
        },
        "id": "ovJFfgv5XG13",
        "outputId": "89af55d1-b3d2-4af9-bc92-2a761f37e8e2"
      },
      "source": [
        "# PCA + Logistic Regression \n",
        "import numpy as np\n",
        "from sklearn.decomposition import PCA\n",
        "\n",
        "X_train_logistic, X_test_logistic, y_train_logistic, y_test_logistic = train_test_split(stroke_for_logistic, stroke_target, test_size=0.3, random_state=0)\n",
        "\n",
        "pca = PCA(n_components=5)\n",
        "\n",
        "X_train_logistic = pca.fit_transform(X_train_logistic)\n",
        "X_test_logistic = pca.fit_transform(X_test_logistic)\n",
        "\n",
        "\n",
        "log_clf = LogisticRegression(random_state=0,) \n",
        "log_clf.fit(X_train_logistic, y_train_logistic)\n",
        "log_clf.score(X_test_logistic, y_test_logistic)\n",
        "# pca.explained_variance_ratio_\n"
      ],
      "execution_count": 186,
      "outputs": [
        {
          "output_type": "execute_result",
          "data": {
            "text/plain": [
              "0.9308270676691729"
            ]
          },
          "metadata": {
            "tags": []
          },
          "execution_count": 186
        }
      ]
    },
    {
      "cell_type": "code",
      "metadata": {
        "colab": {
          "base_uri": "https://localhost:8080/"
        },
        "id": "LJMXXzQpIB-s",
        "outputId": "52308410-c0cf-4fdb-edbe-0145a9d2fb14"
      },
      "source": [
        "import numpy as np\n",
        "from sklearn.decomposition import PCA\n",
        "\n",
        "pca = PCA(n_components=10)\n",
        "\n",
        "pca.fit(X_train)\n",
        "print(pca.explained_variance_ratio_)"
      ],
      "execution_count": 187,
      "outputs": [
        {
          "output_type": "stream",
          "text": [
            "[0.28568383 0.14326885 0.12428125 0.11896593 0.09430252 0.07117956\n",
            " 0.06554841 0.04208968 0.0253015  0.01929674]\n"
          ],
          "name": "stdout"
        }
      ]
    },
    {
      "cell_type": "markdown",
      "metadata": {
        "id": "2VM1qyb6JbbR"
      },
      "source": [
        "# Part7 Neural Network"
      ]
    },
    {
      "cell_type": "code",
      "metadata": {
        "colab": {
          "base_uri": "https://localhost:8080/"
        },
        "id": "Fv3uziuwJgUA",
        "outputId": "e59defb6-f1f0-4136-8b06-05b9bf32528a"
      },
      "source": [
        "from sklearn.neural_network import MLPClassifier\n",
        "from sklearn.datasets import make_classification\n",
        "\n",
        "NN_clf = MLPClassifier(random_state=1, max_iter=1500).fit(X_train, y_train)\n",
        "NN_clf.score(X_test, y_test)"
      ],
      "execution_count": 188,
      "outputs": [
        {
          "output_type": "execute_result",
          "data": {
            "text/plain": [
              "0.9338345864661655"
            ]
          },
          "metadata": {
            "tags": []
          },
          "execution_count": 188
        }
      ]
    },
    {
      "cell_type": "markdown",
      "metadata": {
        "id": "pru07J1sQq1M"
      },
      "source": [
        "# Part5 Bagging"
      ]
    },
    {
      "cell_type": "code",
      "metadata": {
        "colab": {
          "base_uri": "https://localhost:8080/"
        },
        "id": "vFf5nSRwQubP",
        "outputId": "79bfcf8c-6f5c-4a3e-d01e-66bc0604d72a"
      },
      "source": [
        "from sklearn.svm import SVC\n",
        "from sklearn.ensemble import BaggingClassifier\n",
        "\n",
        "# Logistic Regression + Bagging\n",
        "bagging_logReg_clf = BaggingClassifier(log_clf, n_estimators=10, random_state=0).fit(X_train, y_train)\n",
        "print(bagging_logReg_clf.score(X_test, y_test))\n",
        "\n",
        "# Logistic Regression + PCA + Bagging\n",
        "bagging_logReg_clf = BaggingClassifier(log_clf, n_estimators=10, random_state=0).fit(X_train_PCA, y_train)\n",
        "print(bagging_logReg_clf.score(X_test_PCA, y_test))\n",
        "\n",
        "\n",
        "# Neural Network + Bagging \n",
        "bagging_NN_clf = BaggingClassifier(NN_clf, n_estimators=10, random_state=0).fit(X_train, y_train)\n",
        "print(bagging_NN_clf.score(X_test, y_test))\n",
        "\n",
        "# Neural Network + PCA + Bagging \n",
        "bagging_NN_clf = BaggingClassifier(NN_clf, n_estimators=10, random_state=0).fit(X_train_PCA, y_train)\n",
        "print(bagging_NN_clf.score(X_test_PCA, y_test))"
      ],
      "execution_count": 203,
      "outputs": [
        {
          "output_type": "stream",
          "text": [
            "0.9428571428571428\n",
            "0.9353383458646617\n",
            "0.9323308270676691\n",
            "0.9428571428571428\n"
          ],
          "name": "stdout"
        }
      ]
    },
    {
      "cell_type": "markdown",
      "metadata": {
        "id": "D4Ft8IE2KRKM"
      },
      "source": [
        "# Part8 Cross Validation"
      ]
    },
    {
      "cell_type": "code",
      "metadata": {
        "colab": {
          "base_uri": "https://localhost:8080/"
        },
        "id": "qYHU7HBJKT4C",
        "outputId": "3e26d98f-2bd9-4e56-9aba-23a0a458cbeb"
      },
      "source": [
        "import numpy as np\n",
        "from sklearn.model_selection import KFold\n",
        "from sklearn.model_selection import StratifiedKFold\n",
        "from sklearn.model_selection import StratifiedShuffleSplit\n",
        "\n",
        "# Cross Validataion for Logistic Regression + Bagging \n",
        "kf = KFold(n_splits=5, random_state=None, shuffle=True)\n",
        "\n",
        "X = stroke_prepared;\n",
        "y = stroke['stroke'].to_numpy()\n",
        "for train_index, test_index in kf.split(X):\n",
        "  X_train, X_test = X[train_index], X[test_index]\n",
        "  y_train, y_test = y[train_index], y[test_index]\n",
        "  clf = bagging_logReg_clf\n",
        "  clf.fit(X_train, y_train)\n",
        "  print(clf.score(X_test, y_test))"
      ],
      "execution_count": 204,
      "outputs": [
        {
          "output_type": "stream",
          "text": [
            "0.9367945823927766\n",
            "0.9413092550790068\n",
            "0.9571106094808126\n",
            "0.9683972911963883\n",
            "0.9683972911963883\n"
          ],
          "name": "stdout"
        }
      ]
    },
    {
      "cell_type": "code",
      "metadata": {
        "colab": {
          "base_uri": "https://localhost:8080/"
        },
        "id": "ZqBpAnbTtnzV",
        "outputId": "df31cb73-7ba3-4c48-d6b3-4af3c27ef8df"
      },
      "source": [
        "# Cross Validataion for Logistic Regression + PCA + Bagging \n",
        "kf = KFold(n_splits=5, random_state=None, shuffle=True)\n",
        "X = X_train_PCA;\n",
        "y = stroke['stroke'].to_numpy()\n",
        "for train_index, test_index in kf.split(X):\n",
        "  X_train, X_test = X[train_index], X[test_index]\n",
        "  y_train, y_test = y[train_index], y[test_index]\n",
        "  clf = bagging_logReg_clf\n",
        "  clf.fit(X_train, y_train)\n",
        "  print(clf.score(X_test, y_test))"
      ],
      "execution_count": 206,
      "outputs": [
        {
          "output_type": "stream",
          "text": [
            "0.9548387096774194\n",
            "0.9516129032258065\n",
            "0.9580645161290322\n",
            "0.9580645161290322\n",
            "0.9516129032258065\n"
          ],
          "name": "stdout"
        }
      ]
    },
    {
      "cell_type": "code",
      "metadata": {
        "colab": {
          "base_uri": "https://localhost:8080/"
        },
        "id": "K51m42JNvC9S",
        "outputId": "95bc6af0-c36b-4a80-f50f-1a1e6e1c0741"
      },
      "source": [
        "# Cross Validataion for Neural Network  \n",
        "kf = KFold(n_splits=5, random_state=None, shuffle=True)\n",
        "X = stroke_prepared;\n",
        "y = stroke['stroke'].to_numpy()\n",
        "for train_index, test_index in kf.split(X):\n",
        "  X_train, X_test = X[train_index], X[test_index]\n",
        "  y_train, y_test = y[train_index], y[test_index]\n",
        "  clf = NN_clf\n",
        "  clf.fit(X_train, y_train)\n",
        "  print(clf.score(X_test, y_test))"
      ],
      "execution_count": 209,
      "outputs": [
        {
          "output_type": "stream",
          "text": [
            "0.9503386004514672\n",
            "0.9571106094808126\n",
            "0.9390519187358917\n",
            "0.9480812641083521\n",
            "0.927765237020316\n"
          ],
          "name": "stdout"
        }
      ]
    },
    {
      "cell_type": "code",
      "metadata": {
        "colab": {
          "base_uri": "https://localhost:8080/"
        },
        "id": "VrKHrz4jvRtu",
        "outputId": "e2454089-3ab9-4b07-ea16-5d7cb066a9b8"
      },
      "source": [
        "# Cross Validataion for Neural Network  + PCA\n",
        "kf = KFold(n_splits=5, random_state=None, shuffle=True)\n",
        "X = stroke_PCA;\n",
        "y = stroke['stroke'].to_numpy()\n",
        "for train_index, test_index in kf.split(X):\n",
        "  X_train, X_test = X[train_index], X[test_index]\n",
        "  y_train, y_test = y[train_index], y[test_index]\n",
        "  clf = NN_clf\n",
        "  clf.fit(X_train, y_train)\n",
        "  print(clf.score(X_test, y_test))"
      ],
      "execution_count": 213,
      "outputs": [
        {
          "output_type": "stream",
          "text": [
            "0.945823927765237\n",
            "0.9525959367945824\n",
            "0.9706546275395034\n",
            "0.9593679458239278\n",
            "0.9480812641083521\n"
          ],
          "name": "stdout"
        }
      ]
    }
  ]
}