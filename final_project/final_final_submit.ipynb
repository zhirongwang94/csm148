{
  "nbformat": 4,
  "nbformat_minor": 0,
  "metadata": {
    "colab": {
      "name": "final_submit.ipynb",
      "provenance": [],
      "collapsed_sections": [
        "R1Of9-UzuNwz",
        "CIoU9U2NsAqX",
        "X96AzswyV8tw",
        "EXoDU7nDZRO4",
        "jd3CWfIzuMKQ",
        "2VM1qyb6JbbR",
        "pru07J1sQq1M",
        "D4Ft8IE2KRKM",
        "pCQFYk7ymHEb"
      ],
      "authorship_tag": "ABX9TyPiPc1LRv5VY1bty73LLG4p",
      "include_colab_link": true
    },
    "kernelspec": {
      "display_name": "Python 3",
      "name": "python3"
    },
    "language_info": {
      "name": "python"
    }
  },
  "cells": [
    {
      "cell_type": "markdown",
      "metadata": {
        "id": "view-in-github",
        "colab_type": "text"
      },
      "source": [
        "<a href=\"https://colab.research.google.com/github/zhirongwang94/csm148/blob/main/final_project/final_final_submit.ipynb\" target=\"_parent\"><img src=\"https://colab.research.google.com/assets/colab-badge.svg\" alt=\"Open In Colab\"/></a>"
      ]
    },
    {
      "cell_type": "markdown",
      "metadata": {
        "id": "tt5nvr8Lq7Xc"
      },
      "source": [
        "This is the final project. \n",
        "Background:\n",
        "\n",
        "1) id: unique identifier\n",
        "\n",
        "2) gender: \"Male\", \"Female\" or \"Other\"\n",
        "\n",
        "3) age: age of the patient\n",
        "\n",
        "4) hypertension: 0 if the patient doesn't have hypertension, 1 if the patient has hypertension \n",
        "\n",
        "5) heart_disease: 0 if the patient doesn't have any heart diseases, 1 if the patient has a heart disease\n",
        "\n",
        "6) ever_married: \"No\" or \"Yes\"\n",
        "\n",
        "7) work_type: \"children\", \"Govt_jov\", \"Never_worked\", \"Private\" or \"Self-employed\"\n",
        "\n",
        "8) Residence_type: \"Rural\" or \"Urban\"\n",
        "\n",
        "9) avg_glucose_level: average glucose level in blood\n",
        "\n",
        "10) bmi: body mass index\n",
        "\n",
        "11) smoking_status: \"formerly smoked\", \"never smoked\", \"smokes\" or \"Unknown\"*\n",
        "\n",
        "12) stroke: 1 if the patient had a stroke or 0 if not"
      ]
    },
    {
      "cell_type": "markdown",
      "metadata": {
        "id": "R1Of9-UzuNwz"
      },
      "source": [
        "# Helper Classes and Functions\n",
        "\n",
        "\n",
        "\n"
      ]
    },
    {
      "cell_type": "code",
      "metadata": {
        "id": "YfYChGltRRg_"
      },
      "source": [
        "import numpy as np\n",
        "import pandas as pd\n",
        "from sklearn.base import BaseEstimator\n",
        "from sklearn.base import TransformerMixin\n",
        "from matplotlib import pyplot\n",
        "import itertools\n",
        "\n",
        "%matplotlib inline\n",
        "\n",
        "class DoesNothingScaler(BaseEstimator, TransformerMixin):\n",
        "    def __init__(self):\n",
        "        super().__init__()\n",
        "\n",
        "    def fit(self, X, y=None):\n",
        "        return self\n",
        "\n",
        "    def transform(self, X, y=None):\n",
        "        return X"
      ],
      "execution_count": 21,
      "outputs": []
    },
    {
      "cell_type": "code",
      "metadata": {
        "id": "Dub2Isn327J6"
      },
      "source": [
        "# Helper funct\n",
        "from sklearn.metrics import accuracy_score\n",
        "from sklearn.metrics import precision_score\n",
        "from sklearn.metrics import confusion_matrix\n",
        "from sklearn.metrics import precision_recall_fscore_support\n",
        "from sklearn.metrics import f1_score\n",
        "import matplotlib.pyplot as plt\n",
        "def draw_results(X_test, y_test, classifier_model):\n",
        "  y_true = y_test;\n",
        "  y_pred = classifier_model.predict(X_test)\n",
        "\n",
        "\n",
        "  scores = precision_recall_fscore_support(y_true, y_pred, average='binary')\n",
        "  f1 = f1_score(y_true, y_pred, average='binary')\n",
        "\n",
        "  print(\"accuracy: \", classifier_model.score(X_test, y_test))\n",
        "  print(\"precision: \", scores[0])\n",
        "  print(\"recall: \", scores[1])\n",
        "  print(\"f1_score: \", f1)\n",
        "  print(\"confusion matrix: \", confusion_matrix(y_true, y_pred))\n",
        "  draw_confusion_matrix(y_true, y_pred, ['-', '+'])"
      ],
      "execution_count": 22,
      "outputs": []
    },
    {
      "cell_type": "code",
      "metadata": {
        "id": "-XzGhmY_1Pnl"
      },
      "source": [
        "# Helper function that allows you to draw nicely formatted confusion matrices\n",
        "import matplotlib.pyplot as plt\n",
        "def draw_confusion_matrix(y, yhat, classes):\n",
        "    '''\n",
        "        Draws a confusion matrix for the given target and predictions\n",
        "        Adapted from scikit-learn and discussion example.\n",
        "    '''\n",
        "    plt.cla()\n",
        "    plt.clf()\n",
        "    matrix = confusion_matrix(y, yhat)\n",
        "    plt.imshow(matrix, interpolation='nearest', cmap=plt.cm.Blues)\n",
        "    plt.title(\"Confusion Matrix\")\n",
        "    plt.colorbar()\n",
        "    num_classes = len(classes)\n",
        "    plt.xticks(np.arange(num_classes), classes, rotation=90)\n",
        "    plt.yticks(np.arange(num_classes), classes)\n",
        "    \n",
        "    fmt = 'd'\n",
        "    thresh = matrix.max() / 2.\n",
        "    for i, j in itertools.product(range(matrix.shape[0]), range(matrix.shape[1])):\n",
        "        plt.text(j, i, format(matrix[i, j], fmt),\n",
        "                 horizontalalignment=\"center\",\n",
        "                 color=\"white\" if matrix[i, j] > thresh else \"black\")\n",
        "\n",
        "    plt.ylabel('True label')\n",
        "    plt.xlabel('Predicted label')\n",
        "    plt.tight_layout()\n",
        "    plt.show()"
      ],
      "execution_count": 23,
      "outputs": []
    },
    {
      "cell_type": "markdown",
      "metadata": {
        "id": "CIoU9U2NsAqX"
      },
      "source": [
        "# Part 1. Load the Data\n",
        "\n"
      ]
    },
    {
      "cell_type": "code",
      "metadata": {
        "colab": {
          "base_uri": "https://localhost:8080/"
        },
        "id": "yLSy3OQxq0BU",
        "outputId": "fadfc98f-ebd4-49a1-bd28-3b5bad4bc7b9"
      },
      "source": [
        "from google.colab import drive\n",
        "drive.mount('/content/gdrive')"
      ],
      "execution_count": 25,
      "outputs": [
        {
          "output_type": "stream",
          "text": [
            "Drive already mounted at /content/gdrive; to attempt to forcibly remount, call drive.mount(\"/content/gdrive\", force_remount=True).\n"
          ],
          "name": "stdout"
        }
      ]
    },
    {
      "cell_type": "code",
      "metadata": {
        "colab": {
          "base_uri": "https://localhost:8080/"
        },
        "id": "6rRC5QZTshYw",
        "outputId": "424c2bc4-e58f-4b72-eb62-50197469cb54"
      },
      "source": [
        "!ls ./gdrive/MyDrive/datasets/stroke"
      ],
      "execution_count": 26,
      "outputs": [
        {
          "output_type": "stream",
          "text": [
            " dataset-stroke.csv  'dataset-stroke(old).csv'\n"
          ],
          "name": "stdout"
        }
      ]
    },
    {
      "cell_type": "code",
      "metadata": {
        "colab": {
          "base_uri": "https://localhost:8080/",
          "height": 0
        },
        "id": "FumMa0cssnKD",
        "outputId": "e3ac73cf-b319-43f5-8b90-d96f4f5022a3"
      },
      "source": [
        "import numpy as np # linear algebra\n",
        "import pandas as pd # data processing, CSV file I/O (e.g. pd.read_csv)\n",
        "\n",
        "csv_path = './gdrive/MyDrive/datasets/stroke/dataset-stroke.csv'\n",
        "stroke = pd.read_csv(csv_path)\n",
        "\n",
        "stroke.head(100)"
      ],
      "execution_count": 27,
      "outputs": [
        {
          "output_type": "execute_result",
          "data": {
            "text/html": [
              "<div>\n",
              "<style scoped>\n",
              "    .dataframe tbody tr th:only-of-type {\n",
              "        vertical-align: middle;\n",
              "    }\n",
              "\n",
              "    .dataframe tbody tr th {\n",
              "        vertical-align: top;\n",
              "    }\n",
              "\n",
              "    .dataframe thead th {\n",
              "        text-align: right;\n",
              "    }\n",
              "</style>\n",
              "<table border=\"1\" class=\"dataframe\">\n",
              "  <thead>\n",
              "    <tr style=\"text-align: right;\">\n",
              "      <th></th>\n",
              "      <th>id</th>\n",
              "      <th>gender</th>\n",
              "      <th>age</th>\n",
              "      <th>hypertension</th>\n",
              "      <th>heart_disease</th>\n",
              "      <th>ever_married</th>\n",
              "      <th>work_type</th>\n",
              "      <th>Residence_type</th>\n",
              "      <th>avg_glucose_level</th>\n",
              "      <th>bmi</th>\n",
              "      <th>smoking_status</th>\n",
              "      <th>stroke</th>\n",
              "    </tr>\n",
              "  </thead>\n",
              "  <tbody>\n",
              "    <tr>\n",
              "      <th>0</th>\n",
              "      <td>9046</td>\n",
              "      <td>Male</td>\n",
              "      <td>67.0</td>\n",
              "      <td>0</td>\n",
              "      <td>1</td>\n",
              "      <td>Yes</td>\n",
              "      <td>Private</td>\n",
              "      <td>Urban</td>\n",
              "      <td>228.69</td>\n",
              "      <td>36.6</td>\n",
              "      <td>formerly smoked</td>\n",
              "      <td>1</td>\n",
              "    </tr>\n",
              "    <tr>\n",
              "      <th>1</th>\n",
              "      <td>51676</td>\n",
              "      <td>Female</td>\n",
              "      <td>61.0</td>\n",
              "      <td>0</td>\n",
              "      <td>0</td>\n",
              "      <td>Yes</td>\n",
              "      <td>Self-employed</td>\n",
              "      <td>Rural</td>\n",
              "      <td>202.21</td>\n",
              "      <td>NaN</td>\n",
              "      <td>never smoked</td>\n",
              "      <td>1</td>\n",
              "    </tr>\n",
              "    <tr>\n",
              "      <th>2</th>\n",
              "      <td>31112</td>\n",
              "      <td>Male</td>\n",
              "      <td>80.0</td>\n",
              "      <td>0</td>\n",
              "      <td>1</td>\n",
              "      <td>Yes</td>\n",
              "      <td>Private</td>\n",
              "      <td>Rural</td>\n",
              "      <td>105.92</td>\n",
              "      <td>32.5</td>\n",
              "      <td>never smoked</td>\n",
              "      <td>1</td>\n",
              "    </tr>\n",
              "    <tr>\n",
              "      <th>3</th>\n",
              "      <td>60182</td>\n",
              "      <td>Female</td>\n",
              "      <td>49.0</td>\n",
              "      <td>0</td>\n",
              "      <td>0</td>\n",
              "      <td>Yes</td>\n",
              "      <td>Private</td>\n",
              "      <td>Urban</td>\n",
              "      <td>171.23</td>\n",
              "      <td>34.4</td>\n",
              "      <td>smokes</td>\n",
              "      <td>1</td>\n",
              "    </tr>\n",
              "    <tr>\n",
              "      <th>4</th>\n",
              "      <td>1665</td>\n",
              "      <td>Female</td>\n",
              "      <td>79.0</td>\n",
              "      <td>1</td>\n",
              "      <td>0</td>\n",
              "      <td>Yes</td>\n",
              "      <td>Self-employed</td>\n",
              "      <td>Rural</td>\n",
              "      <td>174.12</td>\n",
              "      <td>24.0</td>\n",
              "      <td>never smoked</td>\n",
              "      <td>1</td>\n",
              "    </tr>\n",
              "    <tr>\n",
              "      <th>...</th>\n",
              "      <td>...</td>\n",
              "      <td>...</td>\n",
              "      <td>...</td>\n",
              "      <td>...</td>\n",
              "      <td>...</td>\n",
              "      <td>...</td>\n",
              "      <td>...</td>\n",
              "      <td>...</td>\n",
              "      <td>...</td>\n",
              "      <td>...</td>\n",
              "      <td>...</td>\n",
              "      <td>...</td>\n",
              "    </tr>\n",
              "    <tr>\n",
              "      <th>95</th>\n",
              "      <td>2458</td>\n",
              "      <td>Female</td>\n",
              "      <td>78.0</td>\n",
              "      <td>0</td>\n",
              "      <td>0</td>\n",
              "      <td>Yes</td>\n",
              "      <td>Private</td>\n",
              "      <td>Rural</td>\n",
              "      <td>235.63</td>\n",
              "      <td>32.3</td>\n",
              "      <td>never smoked</td>\n",
              "      <td>1</td>\n",
              "    </tr>\n",
              "    <tr>\n",
              "      <th>96</th>\n",
              "      <td>35512</td>\n",
              "      <td>Female</td>\n",
              "      <td>70.0</td>\n",
              "      <td>0</td>\n",
              "      <td>0</td>\n",
              "      <td>Yes</td>\n",
              "      <td>Self-employed</td>\n",
              "      <td>Rural</td>\n",
              "      <td>76.34</td>\n",
              "      <td>24.4</td>\n",
              "      <td>formerly smoked</td>\n",
              "      <td>1</td>\n",
              "    </tr>\n",
              "    <tr>\n",
              "      <th>97</th>\n",
              "      <td>56841</td>\n",
              "      <td>Male</td>\n",
              "      <td>58.0</td>\n",
              "      <td>0</td>\n",
              "      <td>1</td>\n",
              "      <td>Yes</td>\n",
              "      <td>Private</td>\n",
              "      <td>Rural</td>\n",
              "      <td>240.59</td>\n",
              "      <td>31.4</td>\n",
              "      <td>smokes</td>\n",
              "      <td>1</td>\n",
              "    </tr>\n",
              "    <tr>\n",
              "      <th>98</th>\n",
              "      <td>8154</td>\n",
              "      <td>Male</td>\n",
              "      <td>57.0</td>\n",
              "      <td>1</td>\n",
              "      <td>0</td>\n",
              "      <td>Yes</td>\n",
              "      <td>Govt_job</td>\n",
              "      <td>Urban</td>\n",
              "      <td>78.92</td>\n",
              "      <td>27.7</td>\n",
              "      <td>formerly smoked</td>\n",
              "      <td>1</td>\n",
              "    </tr>\n",
              "    <tr>\n",
              "      <th>99</th>\n",
              "      <td>4639</td>\n",
              "      <td>Female</td>\n",
              "      <td>69.0</td>\n",
              "      <td>0</td>\n",
              "      <td>0</td>\n",
              "      <td>Yes</td>\n",
              "      <td>Govt_job</td>\n",
              "      <td>Urban</td>\n",
              "      <td>82.81</td>\n",
              "      <td>28.0</td>\n",
              "      <td>never smoked</td>\n",
              "      <td>1</td>\n",
              "    </tr>\n",
              "  </tbody>\n",
              "</table>\n",
              "<p>100 rows × 12 columns</p>\n",
              "</div>"
            ],
            "text/plain": [
              "       id  gender   age  ...   bmi   smoking_status stroke\n",
              "0    9046    Male  67.0  ...  36.6  formerly smoked      1\n",
              "1   51676  Female  61.0  ...   NaN     never smoked      1\n",
              "2   31112    Male  80.0  ...  32.5     never smoked      1\n",
              "3   60182  Female  49.0  ...  34.4           smokes      1\n",
              "4    1665  Female  79.0  ...  24.0     never smoked      1\n",
              "..    ...     ...   ...  ...   ...              ...    ...\n",
              "95   2458  Female  78.0  ...  32.3     never smoked      1\n",
              "96  35512  Female  70.0  ...  24.4  formerly smoked      1\n",
              "97  56841    Male  58.0  ...  31.4           smokes      1\n",
              "98   8154    Male  57.0  ...  27.7  formerly smoked      1\n",
              "99   4639  Female  69.0  ...  28.0     never smoked      1\n",
              "\n",
              "[100 rows x 12 columns]"
            ]
          },
          "metadata": {
            "tags": []
          },
          "execution_count": 27
        }
      ]
    },
    {
      "cell_type": "markdown",
      "metadata": {
        "id": "X96AzswyV8tw"
      },
      "source": [
        "# Part2 Data Analysis and Imputation"
      ]
    },
    {
      "cell_type": "code",
      "metadata": {
        "colab": {
          "base_uri": "https://localhost:8080/"
        },
        "id": "sNA5ztW4s9mC",
        "outputId": "d9404420-1d53-4c27-c8a4-c0baebf7dfa4"
      },
      "source": [
        "stroke.info()"
      ],
      "execution_count": 28,
      "outputs": [
        {
          "output_type": "stream",
          "text": [
            "<class 'pandas.core.frame.DataFrame'>\n",
            "RangeIndex: 5110 entries, 0 to 5109\n",
            "Data columns (total 12 columns):\n",
            " #   Column             Non-Null Count  Dtype  \n",
            "---  ------             --------------  -----  \n",
            " 0   id                 5110 non-null   int64  \n",
            " 1   gender             5110 non-null   object \n",
            " 2   age                5110 non-null   float64\n",
            " 3   hypertension       5110 non-null   int64  \n",
            " 4   heart_disease      5110 non-null   int64  \n",
            " 5   ever_married       5110 non-null   object \n",
            " 6   work_type          5110 non-null   object \n",
            " 7   Residence_type     5110 non-null   object \n",
            " 8   avg_glucose_level  5110 non-null   float64\n",
            " 9   bmi                4909 non-null   float64\n",
            " 10  smoking_status     5110 non-null   object \n",
            " 11  stroke             5110 non-null   int64  \n",
            "dtypes: float64(3), int64(4), object(5)\n",
            "memory usage: 479.2+ KB\n"
          ],
          "name": "stdout"
        }
      ]
    },
    {
      "cell_type": "code",
      "metadata": {
        "colab": {
          "base_uri": "https://localhost:8080/",
          "height": 297
        },
        "id": "Y3SPsb2XtlUU",
        "outputId": "c3841f1f-a6ed-48f7-ca2f-8c5e3d4932aa"
      },
      "source": [
        "stroke.describe()"
      ],
      "execution_count": 29,
      "outputs": [
        {
          "output_type": "execute_result",
          "data": {
            "text/html": [
              "<div>\n",
              "<style scoped>\n",
              "    .dataframe tbody tr th:only-of-type {\n",
              "        vertical-align: middle;\n",
              "    }\n",
              "\n",
              "    .dataframe tbody tr th {\n",
              "        vertical-align: top;\n",
              "    }\n",
              "\n",
              "    .dataframe thead th {\n",
              "        text-align: right;\n",
              "    }\n",
              "</style>\n",
              "<table border=\"1\" class=\"dataframe\">\n",
              "  <thead>\n",
              "    <tr style=\"text-align: right;\">\n",
              "      <th></th>\n",
              "      <th>id</th>\n",
              "      <th>age</th>\n",
              "      <th>hypertension</th>\n",
              "      <th>heart_disease</th>\n",
              "      <th>avg_glucose_level</th>\n",
              "      <th>bmi</th>\n",
              "      <th>stroke</th>\n",
              "    </tr>\n",
              "  </thead>\n",
              "  <tbody>\n",
              "    <tr>\n",
              "      <th>count</th>\n",
              "      <td>5110.000000</td>\n",
              "      <td>5110.000000</td>\n",
              "      <td>5110.000000</td>\n",
              "      <td>5110.000000</td>\n",
              "      <td>5110.000000</td>\n",
              "      <td>4909.000000</td>\n",
              "      <td>5110.000000</td>\n",
              "    </tr>\n",
              "    <tr>\n",
              "      <th>mean</th>\n",
              "      <td>36517.829354</td>\n",
              "      <td>43.226614</td>\n",
              "      <td>0.097456</td>\n",
              "      <td>0.054012</td>\n",
              "      <td>106.147677</td>\n",
              "      <td>28.893237</td>\n",
              "      <td>0.048728</td>\n",
              "    </tr>\n",
              "    <tr>\n",
              "      <th>std</th>\n",
              "      <td>21161.721625</td>\n",
              "      <td>22.612647</td>\n",
              "      <td>0.296607</td>\n",
              "      <td>0.226063</td>\n",
              "      <td>45.283560</td>\n",
              "      <td>7.854067</td>\n",
              "      <td>0.215320</td>\n",
              "    </tr>\n",
              "    <tr>\n",
              "      <th>min</th>\n",
              "      <td>67.000000</td>\n",
              "      <td>0.080000</td>\n",
              "      <td>0.000000</td>\n",
              "      <td>0.000000</td>\n",
              "      <td>55.120000</td>\n",
              "      <td>10.300000</td>\n",
              "      <td>0.000000</td>\n",
              "    </tr>\n",
              "    <tr>\n",
              "      <th>25%</th>\n",
              "      <td>17741.250000</td>\n",
              "      <td>25.000000</td>\n",
              "      <td>0.000000</td>\n",
              "      <td>0.000000</td>\n",
              "      <td>77.245000</td>\n",
              "      <td>23.500000</td>\n",
              "      <td>0.000000</td>\n",
              "    </tr>\n",
              "    <tr>\n",
              "      <th>50%</th>\n",
              "      <td>36932.000000</td>\n",
              "      <td>45.000000</td>\n",
              "      <td>0.000000</td>\n",
              "      <td>0.000000</td>\n",
              "      <td>91.885000</td>\n",
              "      <td>28.100000</td>\n",
              "      <td>0.000000</td>\n",
              "    </tr>\n",
              "    <tr>\n",
              "      <th>75%</th>\n",
              "      <td>54682.000000</td>\n",
              "      <td>61.000000</td>\n",
              "      <td>0.000000</td>\n",
              "      <td>0.000000</td>\n",
              "      <td>114.090000</td>\n",
              "      <td>33.100000</td>\n",
              "      <td>0.000000</td>\n",
              "    </tr>\n",
              "    <tr>\n",
              "      <th>max</th>\n",
              "      <td>72940.000000</td>\n",
              "      <td>82.000000</td>\n",
              "      <td>1.000000</td>\n",
              "      <td>1.000000</td>\n",
              "      <td>271.740000</td>\n",
              "      <td>97.600000</td>\n",
              "      <td>1.000000</td>\n",
              "    </tr>\n",
              "  </tbody>\n",
              "</table>\n",
              "</div>"
            ],
            "text/plain": [
              "                 id          age  ...          bmi       stroke\n",
              "count   5110.000000  5110.000000  ...  4909.000000  5110.000000\n",
              "mean   36517.829354    43.226614  ...    28.893237     0.048728\n",
              "std    21161.721625    22.612647  ...     7.854067     0.215320\n",
              "min       67.000000     0.080000  ...    10.300000     0.000000\n",
              "25%    17741.250000    25.000000  ...    23.500000     0.000000\n",
              "50%    36932.000000    45.000000  ...    28.100000     0.000000\n",
              "75%    54682.000000    61.000000  ...    33.100000     0.000000\n",
              "max    72940.000000    82.000000  ...    97.600000     1.000000\n",
              "\n",
              "[8 rows x 7 columns]"
            ]
          },
          "metadata": {
            "tags": []
          },
          "execution_count": 29
        }
      ]
    },
    {
      "cell_type": "code",
      "metadata": {
        "colab": {
          "base_uri": "https://localhost:8080/",
          "height": 439
        },
        "id": "w0GPyZCzWj2I",
        "outputId": "f95d1af7-afca-4d95-a6e3-c1ae2932e2da"
      },
      "source": [
        "# .info() result shows there are some row in bmi has 95 Nah value\n",
        "# let check if they have there 'Unknown' values in smoking_staus. \n",
        "stroke[stroke['smoking_status'] == 'Unknown']"
      ],
      "execution_count": 30,
      "outputs": [
        {
          "output_type": "execute_result",
          "data": {
            "text/html": [
              "<div>\n",
              "<style scoped>\n",
              "    .dataframe tbody tr th:only-of-type {\n",
              "        vertical-align: middle;\n",
              "    }\n",
              "\n",
              "    .dataframe tbody tr th {\n",
              "        vertical-align: top;\n",
              "    }\n",
              "\n",
              "    .dataframe thead th {\n",
              "        text-align: right;\n",
              "    }\n",
              "</style>\n",
              "<table border=\"1\" class=\"dataframe\">\n",
              "  <thead>\n",
              "    <tr style=\"text-align: right;\">\n",
              "      <th></th>\n",
              "      <th>id</th>\n",
              "      <th>gender</th>\n",
              "      <th>age</th>\n",
              "      <th>hypertension</th>\n",
              "      <th>heart_disease</th>\n",
              "      <th>ever_married</th>\n",
              "      <th>work_type</th>\n",
              "      <th>Residence_type</th>\n",
              "      <th>avg_glucose_level</th>\n",
              "      <th>bmi</th>\n",
              "      <th>smoking_status</th>\n",
              "      <th>stroke</th>\n",
              "    </tr>\n",
              "  </thead>\n",
              "  <tbody>\n",
              "    <tr>\n",
              "      <th>8</th>\n",
              "      <td>27419</td>\n",
              "      <td>Female</td>\n",
              "      <td>59.0</td>\n",
              "      <td>0</td>\n",
              "      <td>0</td>\n",
              "      <td>Yes</td>\n",
              "      <td>Private</td>\n",
              "      <td>Rural</td>\n",
              "      <td>76.15</td>\n",
              "      <td>NaN</td>\n",
              "      <td>Unknown</td>\n",
              "      <td>1</td>\n",
              "    </tr>\n",
              "    <tr>\n",
              "      <th>9</th>\n",
              "      <td>60491</td>\n",
              "      <td>Female</td>\n",
              "      <td>78.0</td>\n",
              "      <td>0</td>\n",
              "      <td>0</td>\n",
              "      <td>Yes</td>\n",
              "      <td>Private</td>\n",
              "      <td>Urban</td>\n",
              "      <td>58.57</td>\n",
              "      <td>24.2</td>\n",
              "      <td>Unknown</td>\n",
              "      <td>1</td>\n",
              "    </tr>\n",
              "    <tr>\n",
              "      <th>13</th>\n",
              "      <td>8213</td>\n",
              "      <td>Male</td>\n",
              "      <td>78.0</td>\n",
              "      <td>0</td>\n",
              "      <td>1</td>\n",
              "      <td>Yes</td>\n",
              "      <td>Private</td>\n",
              "      <td>Urban</td>\n",
              "      <td>219.84</td>\n",
              "      <td>NaN</td>\n",
              "      <td>Unknown</td>\n",
              "      <td>1</td>\n",
              "    </tr>\n",
              "    <tr>\n",
              "      <th>19</th>\n",
              "      <td>25226</td>\n",
              "      <td>Male</td>\n",
              "      <td>57.0</td>\n",
              "      <td>0</td>\n",
              "      <td>1</td>\n",
              "      <td>No</td>\n",
              "      <td>Govt_job</td>\n",
              "      <td>Urban</td>\n",
              "      <td>217.08</td>\n",
              "      <td>NaN</td>\n",
              "      <td>Unknown</td>\n",
              "      <td>1</td>\n",
              "    </tr>\n",
              "    <tr>\n",
              "      <th>23</th>\n",
              "      <td>64778</td>\n",
              "      <td>Male</td>\n",
              "      <td>82.0</td>\n",
              "      <td>0</td>\n",
              "      <td>1</td>\n",
              "      <td>Yes</td>\n",
              "      <td>Private</td>\n",
              "      <td>Rural</td>\n",
              "      <td>208.30</td>\n",
              "      <td>32.5</td>\n",
              "      <td>Unknown</td>\n",
              "      <td>1</td>\n",
              "    </tr>\n",
              "    <tr>\n",
              "      <th>...</th>\n",
              "      <td>...</td>\n",
              "      <td>...</td>\n",
              "      <td>...</td>\n",
              "      <td>...</td>\n",
              "      <td>...</td>\n",
              "      <td>...</td>\n",
              "      <td>...</td>\n",
              "      <td>...</td>\n",
              "      <td>...</td>\n",
              "      <td>...</td>\n",
              "      <td>...</td>\n",
              "      <td>...</td>\n",
              "    </tr>\n",
              "    <tr>\n",
              "      <th>5098</th>\n",
              "      <td>579</td>\n",
              "      <td>Male</td>\n",
              "      <td>9.0</td>\n",
              "      <td>0</td>\n",
              "      <td>0</td>\n",
              "      <td>No</td>\n",
              "      <td>children</td>\n",
              "      <td>Urban</td>\n",
              "      <td>71.88</td>\n",
              "      <td>17.5</td>\n",
              "      <td>Unknown</td>\n",
              "      <td>0</td>\n",
              "    </tr>\n",
              "    <tr>\n",
              "      <th>5101</th>\n",
              "      <td>36901</td>\n",
              "      <td>Female</td>\n",
              "      <td>45.0</td>\n",
              "      <td>0</td>\n",
              "      <td>0</td>\n",
              "      <td>Yes</td>\n",
              "      <td>Private</td>\n",
              "      <td>Urban</td>\n",
              "      <td>97.95</td>\n",
              "      <td>24.5</td>\n",
              "      <td>Unknown</td>\n",
              "      <td>0</td>\n",
              "    </tr>\n",
              "    <tr>\n",
              "      <th>5103</th>\n",
              "      <td>22127</td>\n",
              "      <td>Female</td>\n",
              "      <td>18.0</td>\n",
              "      <td>0</td>\n",
              "      <td>0</td>\n",
              "      <td>No</td>\n",
              "      <td>Private</td>\n",
              "      <td>Urban</td>\n",
              "      <td>82.85</td>\n",
              "      <td>46.9</td>\n",
              "      <td>Unknown</td>\n",
              "      <td>0</td>\n",
              "    </tr>\n",
              "    <tr>\n",
              "      <th>5104</th>\n",
              "      <td>14180</td>\n",
              "      <td>Female</td>\n",
              "      <td>13.0</td>\n",
              "      <td>0</td>\n",
              "      <td>0</td>\n",
              "      <td>No</td>\n",
              "      <td>children</td>\n",
              "      <td>Rural</td>\n",
              "      <td>103.08</td>\n",
              "      <td>18.6</td>\n",
              "      <td>Unknown</td>\n",
              "      <td>0</td>\n",
              "    </tr>\n",
              "    <tr>\n",
              "      <th>5109</th>\n",
              "      <td>44679</td>\n",
              "      <td>Female</td>\n",
              "      <td>44.0</td>\n",
              "      <td>0</td>\n",
              "      <td>0</td>\n",
              "      <td>Yes</td>\n",
              "      <td>Govt_job</td>\n",
              "      <td>Urban</td>\n",
              "      <td>85.28</td>\n",
              "      <td>26.2</td>\n",
              "      <td>Unknown</td>\n",
              "      <td>0</td>\n",
              "    </tr>\n",
              "  </tbody>\n",
              "</table>\n",
              "<p>1544 rows × 12 columns</p>\n",
              "</div>"
            ],
            "text/plain": [
              "         id  gender   age  ...   bmi  smoking_status stroke\n",
              "8     27419  Female  59.0  ...   NaN         Unknown      1\n",
              "9     60491  Female  78.0  ...  24.2         Unknown      1\n",
              "13     8213    Male  78.0  ...   NaN         Unknown      1\n",
              "19    25226    Male  57.0  ...   NaN         Unknown      1\n",
              "23    64778    Male  82.0  ...  32.5         Unknown      1\n",
              "...     ...     ...   ...  ...   ...             ...    ...\n",
              "5098    579    Male   9.0  ...  17.5         Unknown      0\n",
              "5101  36901  Female  45.0  ...  24.5         Unknown      0\n",
              "5103  22127  Female  18.0  ...  46.9         Unknown      0\n",
              "5104  14180  Female  13.0  ...  18.6         Unknown      0\n",
              "5109  44679  Female  44.0  ...  26.2         Unknown      0\n",
              "\n",
              "[1544 rows x 12 columns]"
            ]
          },
          "metadata": {
            "tags": []
          },
          "execution_count": 30
        }
      ]
    },
    {
      "cell_type": "code",
      "metadata": {
        "colab": {
          "base_uri": "https://localhost:8080/",
          "height": 1000
        },
        "id": "hczej8flKlRM",
        "outputId": "081de676-b6d9-4043-b22a-5dd808546242"
      },
      "source": [
        "\n",
        "stroke.hist(bins=30, figsize=(20,15))"
      ],
      "execution_count": 11,
      "outputs": [
        {
          "output_type": "execute_result",
          "data": {
            "text/plain": [
              "array([[<matplotlib.axes._subplots.AxesSubplot object at 0x7f257100b550>,\n",
              "        <matplotlib.axes._subplots.AxesSubplot object at 0x7f2570fdfc50>,\n",
              "        <matplotlib.axes._subplots.AxesSubplot object at 0x7f2570fa42d0>],\n",
              "       [<matplotlib.axes._subplots.AxesSubplot object at 0x7f2570f5a950>,\n",
              "        <matplotlib.axes._subplots.AxesSubplot object at 0x7f2570f86b10>,\n",
              "        <matplotlib.axes._subplots.AxesSubplot object at 0x7f2570ed2690>],\n",
              "       [<matplotlib.axes._subplots.AxesSubplot object at 0x7f2570f07d90>,\n",
              "        <matplotlib.axes._subplots.AxesSubplot object at 0x7f2570e49390>,\n",
              "        <matplotlib.axes._subplots.AxesSubplot object at 0x7f2570e493d0>]],\n",
              "      dtype=object)"
            ]
          },
          "metadata": {
            "tags": []
          },
          "execution_count": 11
        },
        {
          "output_type": "display_data",
          "data": {
            "image/png": "[encoded data removed]",
            "text/plain": [
              "<Figure size 1440x1080 with 9 Axes>"
            ]
          },
          "metadata": {
            "tags": [],
            "needs_background": "light"
          }
        }
      ]
    },
    {
      "cell_type": "code",
      "metadata": {
        "colab": {
          "base_uri": "https://localhost:8080/",
          "height": 441
        },
        "id": "bfELVJScKxMX",
        "outputId": "71d6ab02-cebc-4a52-8aab-73152bca1ee6"
      },
      "source": [
        "print(stroke['smoking_status'].value_counts())\n",
        "stroke['smoking_status'].value_counts().plot(kind='bar')"
      ],
      "execution_count": 12,
      "outputs": [
        {
          "output_type": "stream",
          "text": [
            "never smoked       1892\n",
            "Unknown            1544\n",
            "formerly smoked     885\n",
            "smokes              789\n",
            "Name: smoking_status, dtype: int64\n"
          ],
          "name": "stdout"
        },
        {
          "output_type": "execute_result",
          "data": {
            "text/plain": [
              "<matplotlib.axes._subplots.AxesSubplot at 0x7f2570de2f10>"
            ]
          },
          "metadata": {
            "tags": []
          },
          "execution_count": 12
        },
        {
          "output_type": "display_data",
          "data": {
            "image/png": "[encoded data removed]",
            "text/plain": [
              "<Figure size 432x288 with 1 Axes>"
            ]
          },
          "metadata": {
            "tags": [],
            "needs_background": "light"
          }
        }
      ]
    },
    {
      "cell_type": "markdown",
      "metadata": {
        "id": "ln9ZDZgZLty5"
      },
      "source": [
        "Since the observation of 'Unknown' smoking_status is a large portion of the total, we don't want to replace the 'Unknown' value with any other values by guessing. As smoking status has is a significant effect to other health issue, we don't want to remove the whole column. Thus, we want to remove observation with 'Unknown' smoking status. "
      ]
    },
    {
      "cell_type": "code",
      "metadata": {
        "colab": {
          "base_uri": "https://localhost:8080/"
        },
        "id": "xhnBeQ66-I7J",
        "outputId": "14d8c50f-9a82-472c-8904-ddf35dd0d468"
      },
      "source": [
        "stroke['smoking_status'].unique()"
      ],
      "execution_count": 13,
      "outputs": [
        {
          "output_type": "execute_result",
          "data": {
            "text/plain": [
              "array(['formerly smoked', 'never smoked', 'smokes', 'Unknown'],\n",
              "      dtype=object)"
            ]
          },
          "metadata": {
            "tags": []
          },
          "execution_count": 13
        }
      ]
    },
    {
      "cell_type": "code",
      "metadata": {
        "colab": {
          "base_uri": "https://localhost:8080/",
          "height": 258
        },
        "id": "35MgG1boM5Ya",
        "outputId": "b0d2953c-8116-4f55-b5ac-81dcbc90dc86"
      },
      "source": [
        "# drop row with 'Unknown' value in the 'smoking_status' column. \n",
        "row_has_Unknown = stroke[stroke['smoking_status']== 'Unknown'].any(axis=1)\n",
        "row_has_Unknown.index\n",
        "\n",
        "stroke = stroke.drop(row_has_Unknown.index, axis=0)\n",
        "\n",
        "\n",
        "# drop smoking row \n",
        "# stroke.drop(['smoking_status'], axis=1)\n",
        "\n",
        "# map smoking_status to int \n",
        "# stroke['smoking_status'] = stroke['smoking_status'].map({'smokes':2,\n",
        "#                               'formerly smoked':1,\n",
        "#                               'never smoked': 0\n",
        "# })\n",
        "stroke.head()"
      ],
      "execution_count": 19,
      "outputs": [
        {
          "output_type": "execute_result",
          "data": {
            "text/html": [
              "<div>\n",
              "<style scoped>\n",
              "    .dataframe tbody tr th:only-of-type {\n",
              "        vertical-align: middle;\n",
              "    }\n",
              "\n",
              "    .dataframe tbody tr th {\n",
              "        vertical-align: top;\n",
              "    }\n",
              "\n",
              "    .dataframe thead th {\n",
              "        text-align: right;\n",
              "    }\n",
              "</style>\n",
              "<table border=\"1\" class=\"dataframe\">\n",
              "  <thead>\n",
              "    <tr style=\"text-align: right;\">\n",
              "      <th></th>\n",
              "      <th>id</th>\n",
              "      <th>gender</th>\n",
              "      <th>age</th>\n",
              "      <th>hypertension</th>\n",
              "      <th>heart_disease</th>\n",
              "      <th>ever_married</th>\n",
              "      <th>work_type</th>\n",
              "      <th>Residence_type</th>\n",
              "      <th>avg_glucose_level</th>\n",
              "      <th>bmi</th>\n",
              "      <th>smoking_status</th>\n",
              "      <th>stroke</th>\n",
              "    </tr>\n",
              "  </thead>\n",
              "  <tbody>\n",
              "    <tr>\n",
              "      <th>0</th>\n",
              "      <td>9046</td>\n",
              "      <td>Male</td>\n",
              "      <td>67.0</td>\n",
              "      <td>0</td>\n",
              "      <td>1</td>\n",
              "      <td>Yes</td>\n",
              "      <td>Private</td>\n",
              "      <td>Urban</td>\n",
              "      <td>228.69</td>\n",
              "      <td>36.6</td>\n",
              "      <td>formerly smoked</td>\n",
              "      <td>1</td>\n",
              "    </tr>\n",
              "    <tr>\n",
              "      <th>1</th>\n",
              "      <td>51676</td>\n",
              "      <td>Female</td>\n",
              "      <td>61.0</td>\n",
              "      <td>0</td>\n",
              "      <td>0</td>\n",
              "      <td>Yes</td>\n",
              "      <td>Self-employed</td>\n",
              "      <td>Rural</td>\n",
              "      <td>202.21</td>\n",
              "      <td>NaN</td>\n",
              "      <td>never smoked</td>\n",
              "      <td>1</td>\n",
              "    </tr>\n",
              "    <tr>\n",
              "      <th>2</th>\n",
              "      <td>31112</td>\n",
              "      <td>Male</td>\n",
              "      <td>80.0</td>\n",
              "      <td>0</td>\n",
              "      <td>1</td>\n",
              "      <td>Yes</td>\n",
              "      <td>Private</td>\n",
              "      <td>Rural</td>\n",
              "      <td>105.92</td>\n",
              "      <td>32.5</td>\n",
              "      <td>never smoked</td>\n",
              "      <td>1</td>\n",
              "    </tr>\n",
              "    <tr>\n",
              "      <th>3</th>\n",
              "      <td>60182</td>\n",
              "      <td>Female</td>\n",
              "      <td>49.0</td>\n",
              "      <td>0</td>\n",
              "      <td>0</td>\n",
              "      <td>Yes</td>\n",
              "      <td>Private</td>\n",
              "      <td>Urban</td>\n",
              "      <td>171.23</td>\n",
              "      <td>34.4</td>\n",
              "      <td>smokes</td>\n",
              "      <td>1</td>\n",
              "    </tr>\n",
              "    <tr>\n",
              "      <th>4</th>\n",
              "      <td>1665</td>\n",
              "      <td>Female</td>\n",
              "      <td>79.0</td>\n",
              "      <td>1</td>\n",
              "      <td>0</td>\n",
              "      <td>Yes</td>\n",
              "      <td>Self-employed</td>\n",
              "      <td>Rural</td>\n",
              "      <td>174.12</td>\n",
              "      <td>24.0</td>\n",
              "      <td>never smoked</td>\n",
              "      <td>1</td>\n",
              "    </tr>\n",
              "  </tbody>\n",
              "</table>\n",
              "</div>"
            ],
            "text/plain": [
              "      id  gender   age  ...   bmi   smoking_status stroke\n",
              "0   9046    Male  67.0  ...  36.6  formerly smoked      1\n",
              "1  51676  Female  61.0  ...   NaN     never smoked      1\n",
              "2  31112    Male  80.0  ...  32.5     never smoked      1\n",
              "3  60182  Female  49.0  ...  34.4           smokes      1\n",
              "4   1665  Female  79.0  ...  24.0     never smoked      1\n",
              "\n",
              "[5 rows x 12 columns]"
            ]
          },
          "metadata": {
            "tags": []
          },
          "execution_count": 19
        }
      ]
    },
    {
      "cell_type": "markdown",
      "metadata": {
        "id": "lyRNc_EIPiqN"
      },
      "source": [
        "There are still 140 observation with Nah values in 'bmi' column, before doing imputation, we visualize the distribution of this column from the histgram above and the heatmap below. We know that the correlation betweeen 'bmi' and the label is not strong. In 'bmi', we choose mean for the imputation strategy. "
      ]
    },
    {
      "cell_type": "code",
      "metadata": {
        "colab": {
          "base_uri": "https://localhost:8080/",
          "height": 266
        },
        "id": "Ng5pCcpmhIbU",
        "outputId": "2e715408-b9f7-4abb-dcfb-2394f6cb23e4"
      },
      "source": [
        "import numpy as np; np.random.seed(0)\n",
        "import seaborn as sns; sns.set_theme()\n",
        "stroke.corr()\n",
        "\n",
        "\n",
        "# Heatmap analysis: From the heatmap, we know that the correlation between aga and most featurees are significant.\n",
        "# Thus, we want to drop the age column when we do the logistic regression.  "
      ],
      "execution_count": 15,
      "outputs": [
        {
          "output_type": "execute_result",
          "data": {
            "text/html": [
              "<div>\n",
              "<style scoped>\n",
              "    .dataframe tbody tr th:only-of-type {\n",
              "        vertical-align: middle;\n",
              "    }\n",
              "\n",
              "    .dataframe tbody tr th {\n",
              "        vertical-align: top;\n",
              "    }\n",
              "\n",
              "    .dataframe thead th {\n",
              "        text-align: right;\n",
              "    }\n",
              "</style>\n",
              "<table border=\"1\" class=\"dataframe\">\n",
              "  <thead>\n",
              "    <tr style=\"text-align: right;\">\n",
              "      <th></th>\n",
              "      <th>id</th>\n",
              "      <th>age</th>\n",
              "      <th>hypertension</th>\n",
              "      <th>heart_disease</th>\n",
              "      <th>avg_glucose_level</th>\n",
              "      <th>bmi</th>\n",
              "      <th>stroke</th>\n",
              "    </tr>\n",
              "  </thead>\n",
              "  <tbody>\n",
              "    <tr>\n",
              "      <th>id</th>\n",
              "      <td>1.000000</td>\n",
              "      <td>-0.000581</td>\n",
              "      <td>0.000898</td>\n",
              "      <td>0.013567</td>\n",
              "      <td>0.000915</td>\n",
              "      <td>-0.003862</td>\n",
              "      <td>-0.002587</td>\n",
              "    </tr>\n",
              "    <tr>\n",
              "      <th>age</th>\n",
              "      <td>-0.000581</td>\n",
              "      <td>1.000000</td>\n",
              "      <td>0.269664</td>\n",
              "      <td>0.264300</td>\n",
              "      <td>0.232698</td>\n",
              "      <td>0.079666</td>\n",
              "      <td>0.250794</td>\n",
              "    </tr>\n",
              "    <tr>\n",
              "      <th>hypertension</th>\n",
              "      <td>0.000898</td>\n",
              "      <td>0.269664</td>\n",
              "      <td>1.000000</td>\n",
              "      <td>0.105633</td>\n",
              "      <td>0.164568</td>\n",
              "      <td>0.132635</td>\n",
              "      <td>0.134717</td>\n",
              "    </tr>\n",
              "    <tr>\n",
              "      <th>heart_disease</th>\n",
              "      <td>0.013567</td>\n",
              "      <td>0.264300</td>\n",
              "      <td>0.105633</td>\n",
              "      <td>1.000000</td>\n",
              "      <td>0.148222</td>\n",
              "      <td>0.001288</td>\n",
              "      <td>0.129346</td>\n",
              "    </tr>\n",
              "    <tr>\n",
              "      <th>avg_glucose_level</th>\n",
              "      <td>0.000915</td>\n",
              "      <td>0.232698</td>\n",
              "      <td>0.164568</td>\n",
              "      <td>0.148222</td>\n",
              "      <td>1.000000</td>\n",
              "      <td>0.156404</td>\n",
              "      <td>0.128714</td>\n",
              "    </tr>\n",
              "    <tr>\n",
              "      <th>bmi</th>\n",
              "      <td>-0.003862</td>\n",
              "      <td>0.079666</td>\n",
              "      <td>0.132635</td>\n",
              "      <td>0.001288</td>\n",
              "      <td>0.156404</td>\n",
              "      <td>1.000000</td>\n",
              "      <td>0.011673</td>\n",
              "    </tr>\n",
              "    <tr>\n",
              "      <th>stroke</th>\n",
              "      <td>-0.002587</td>\n",
              "      <td>0.250794</td>\n",
              "      <td>0.134717</td>\n",
              "      <td>0.129346</td>\n",
              "      <td>0.128714</td>\n",
              "      <td>0.011673</td>\n",
              "      <td>1.000000</td>\n",
              "    </tr>\n",
              "  </tbody>\n",
              "</table>\n",
              "</div>"
            ],
            "text/plain": [
              "                         id       age  ...       bmi    stroke\n",
              "id                 1.000000 -0.000581  ... -0.003862 -0.002587\n",
              "age               -0.000581  1.000000  ...  0.079666  0.250794\n",
              "hypertension       0.000898  0.269664  ...  0.132635  0.134717\n",
              "heart_disease      0.013567  0.264300  ...  0.001288  0.129346\n",
              "avg_glucose_level  0.000915  0.232698  ...  0.156404  0.128714\n",
              "bmi               -0.003862  0.079666  ...  1.000000  0.011673\n",
              "stroke            -0.002587  0.250794  ...  0.011673  1.000000\n",
              "\n",
              "[7 rows x 7 columns]"
            ]
          },
          "metadata": {
            "tags": []
          },
          "execution_count": 15
        }
      ]
    },
    {
      "cell_type": "code",
      "metadata": {
        "colab": {
          "base_uri": "https://localhost:8080/",
          "height": 379
        },
        "id": "Y4_fso9fh9PE",
        "outputId": "d0de39e1-85d3-4697-ee3e-caf85c2001b7"
      },
      "source": [
        "sns.heatmap(stroke.corr())"
      ],
      "execution_count": 16,
      "outputs": [
        {
          "output_type": "execute_result",
          "data": {
            "text/plain": [
              "<matplotlib.axes._subplots.AxesSubplot at 0x7f2570433d50>"
            ]
          },
          "metadata": {
            "tags": []
          },
          "execution_count": 16
        },
        {
          "output_type": "display_data",
          "data": {
            "image/png": "[encoded data removed]",
            "text/plain": [
              "<Figure size 432x288 with 2 Axes>"
            ]
          },
          "metadata": {
            "tags": []
          }
        }
      ]
    },
    {
      "cell_type": "code",
      "metadata": {
        "colab": {
          "base_uri": "https://localhost:8080/"
        },
        "id": "h_ykhJaRTMUu",
        "outputId": "c801af9e-5903-4146-90f7-320a5271c248"
      },
      "source": [
        "# categorical_features = ['work_type', 'gender', 'ever_married', 'Residence_type']\n",
        "# numerical_features = ['age', 'hypertension', 'heart_disease', 'avg_glucose_level', 'bmi', 'smoking_status']\n",
        "\n",
        "stroke.info()"
      ],
      "execution_count": 17,
      "outputs": [
        {
          "output_type": "stream",
          "text": [
            "<class 'pandas.core.frame.DataFrame'>\n",
            "Int64Index: 3566 entries, 0 to 5108\n",
            "Data columns (total 12 columns):\n",
            " #   Column             Non-Null Count  Dtype  \n",
            "---  ------             --------------  -----  \n",
            " 0   id                 3566 non-null   int64  \n",
            " 1   gender             3566 non-null   object \n",
            " 2   age                3566 non-null   float64\n",
            " 3   hypertension       3566 non-null   int64  \n",
            " 4   heart_disease      3566 non-null   int64  \n",
            " 5   ever_married       3566 non-null   object \n",
            " 6   work_type          3566 non-null   object \n",
            " 7   Residence_type     3566 non-null   object \n",
            " 8   avg_glucose_level  3566 non-null   float64\n",
            " 9   bmi                3426 non-null   float64\n",
            " 10  smoking_status     3566 non-null   object \n",
            " 11  stroke             3566 non-null   int64  \n",
            "dtypes: float64(3), int64(4), object(5)\n",
            "memory usage: 362.2+ KB\n"
          ],
          "name": "stdout"
        }
      ]
    },
    {
      "cell_type": "markdown",
      "metadata": {
        "id": "EXoDU7nDZRO4"
      },
      "source": [
        "# Part3 Data preprocess, and PCA"
      ]
    },
    {
      "cell_type": "code",
      "metadata": {
        "colab": {
          "base_uri": "https://localhost:8080/",
          "height": 232
        },
        "id": "5wqz4gZydsxj",
        "outputId": "2564ae79-afb0-4916-e545-fd049e39045d"
      },
      "source": [
        "import numpy as np\n",
        "from sklearn.impute import SimpleImputer\n",
        "from sklearn.compose import ColumnTransformer\n",
        "from sklearn.pipeline import Pipeline\n",
        "from sklearn.preprocessing import StandardScaler\n",
        "from sklearn.preprocessing import OneHotEncoder\n",
        "from sklearn.preprocessing import Normalizer\n",
        "\n",
        "# augmentation\n",
        "stroke['hypertension_per_bmi'] = stroke['hypertension']/stroke['bmi']\n",
        "\n",
        "categorical_features = ['work_type', 'gender', 'ever_married', 'Residence_type', 'smoking_status']\n",
        "numerical_features = ['age', 'hypertension', 'heart_disease', 'avg_glucose_level', 'bmi','hypertension_per_bmi', ]\n",
        "\n",
        "\n",
        "num_pipeline = Pipeline([\n",
        "        ('imputer', SimpleImputer(strategy=\"median\")),\n",
        "        ('std_scaler', StandardScaler()),\n",
        "        ('nor_scaler', Normalizer())\n",
        "    ])\n",
        "\n",
        "full_pipeline = ColumnTransformer([\n",
        "        (\"num\", num_pipeline, numerical_features ),                                  \n",
        "        (\"cat\", OneHotEncoder(), categorical_features),\n",
        "    ])\n",
        "\n",
        "stroke_prepared = full_pipeline.fit_transform(stroke)\n",
        "stroke_target = stroke['stroke']\n",
        "\n",
        "stroke_prepared\n"
      ],
      "execution_count": 1,
      "outputs": [
        {
          "output_type": "error",
          "ename": "NameError",
          "evalue": "ignored",
          "traceback": [
            "\u001b[0;31m---------------------------------------------------------------------------\u001b[0m",
            "\u001b[0;31mNameError\u001b[0m                                 Traceback (most recent call last)",
            "\u001b[0;32m<ipython-input-1-2f04761b8035>\u001b[0m in \u001b[0;36m<module>\u001b[0;34m()\u001b[0m\n\u001b[1;32m      8\u001b[0m \u001b[0;34m\u001b[0m\u001b[0m\n\u001b[1;32m      9\u001b[0m \u001b[0;31m# augmentation\u001b[0m\u001b[0;34m\u001b[0m\u001b[0;34m\u001b[0m\u001b[0;34m\u001b[0m\u001b[0m\n\u001b[0;32m---> 10\u001b[0;31m \u001b[0mstroke\u001b[0m\u001b[0;34m[\u001b[0m\u001b[0;34m'hypertension_per_bmi'\u001b[0m\u001b[0;34m]\u001b[0m \u001b[0;34m=\u001b[0m \u001b[0mstroke\u001b[0m\u001b[0;34m[\u001b[0m\u001b[0;34m'hypertension'\u001b[0m\u001b[0;34m]\u001b[0m\u001b[0;34m/\u001b[0m\u001b[0mstroke\u001b[0m\u001b[0;34m[\u001b[0m\u001b[0;34m'bmi'\u001b[0m\u001b[0;34m]\u001b[0m\u001b[0;34m\u001b[0m\u001b[0;34m\u001b[0m\u001b[0m\n\u001b[0m\u001b[1;32m     11\u001b[0m \u001b[0;34m\u001b[0m\u001b[0m\n\u001b[1;32m     12\u001b[0m \u001b[0mcategorical_features\u001b[0m \u001b[0;34m=\u001b[0m \u001b[0;34m[\u001b[0m\u001b[0;34m'work_type'\u001b[0m\u001b[0;34m,\u001b[0m \u001b[0;34m'gender'\u001b[0m\u001b[0;34m,\u001b[0m \u001b[0;34m'ever_married'\u001b[0m\u001b[0;34m,\u001b[0m \u001b[0;34m'Residence_type'\u001b[0m\u001b[0;34m,\u001b[0m \u001b[0;34m'smoking_status'\u001b[0m\u001b[0;34m]\u001b[0m\u001b[0;34m\u001b[0m\u001b[0;34m\u001b[0m\u001b[0m\n",
            "\u001b[0;31mNameError\u001b[0m: name 'stroke' is not defined"
          ]
        }
      ]
    },
    {
      "cell_type": "code",
      "metadata": {
        "colab": {
          "base_uri": "https://localhost:8080/",
          "height": 249
        },
        "id": "4-P29bfis4YY",
        "outputId": "3e5127f9-d5aa-4a12-ff90-a98fcb6c63b6"
      },
      "source": [
        "from sklearn.model_selection import train_test_split\n",
        "data_target = stroke['stroke']\n",
        "X_train, X_test, y_train, y_test = train_test_split(stroke_prepared, stroke_target, test_size=0.3, random_state=42, shuffle=True)\n",
        "\n",
        "\n",
        "X_train.shape"
      ],
      "execution_count": 18,
      "outputs": [
        {
          "output_type": "error",
          "ename": "NameError",
          "evalue": "ignored",
          "traceback": [
            "\u001b[0;31m---------------------------------------------------------------------------\u001b[0m",
            "\u001b[0;31mNameError\u001b[0m                                 Traceback (most recent call last)",
            "\u001b[0;32m<ipython-input-18-8ccf8c713031>\u001b[0m in \u001b[0;36m<module>\u001b[0;34m()\u001b[0m\n\u001b[1;32m      1\u001b[0m \u001b[0;32mfrom\u001b[0m \u001b[0msklearn\u001b[0m\u001b[0;34m.\u001b[0m\u001b[0mmodel_selection\u001b[0m \u001b[0;32mimport\u001b[0m \u001b[0mtrain_test_split\u001b[0m\u001b[0;34m\u001b[0m\u001b[0;34m\u001b[0m\u001b[0m\n\u001b[1;32m      2\u001b[0m \u001b[0mdata_target\u001b[0m \u001b[0;34m=\u001b[0m \u001b[0mstroke\u001b[0m\u001b[0;34m[\u001b[0m\u001b[0;34m'stroke'\u001b[0m\u001b[0;34m]\u001b[0m\u001b[0;34m\u001b[0m\u001b[0;34m\u001b[0m\u001b[0m\n\u001b[0;32m----> 3\u001b[0;31m \u001b[0mX_train\u001b[0m\u001b[0;34m,\u001b[0m \u001b[0mX_test\u001b[0m\u001b[0;34m,\u001b[0m \u001b[0my_train\u001b[0m\u001b[0;34m,\u001b[0m \u001b[0my_test\u001b[0m \u001b[0;34m=\u001b[0m \u001b[0mtrain_test_split\u001b[0m\u001b[0;34m(\u001b[0m\u001b[0mstroke_prepared\u001b[0m\u001b[0;34m,\u001b[0m \u001b[0mstroke_target\u001b[0m\u001b[0;34m,\u001b[0m \u001b[0mtest_size\u001b[0m\u001b[0;34m=\u001b[0m\u001b[0;36m0.3\u001b[0m\u001b[0;34m,\u001b[0m \u001b[0mrandom_state\u001b[0m\u001b[0;34m=\u001b[0m\u001b[0;36m42\u001b[0m\u001b[0;34m,\u001b[0m \u001b[0mshuffle\u001b[0m\u001b[0;34m=\u001b[0m\u001b[0;32mTrue\u001b[0m\u001b[0;34m)\u001b[0m\u001b[0;34m\u001b[0m\u001b[0;34m\u001b[0m\u001b[0m\n\u001b[0m\u001b[1;32m      4\u001b[0m \u001b[0;34m\u001b[0m\u001b[0m\n\u001b[1;32m      5\u001b[0m \u001b[0;34m\u001b[0m\u001b[0m\n",
            "\u001b[0;31mNameError\u001b[0m: name 'stroke_prepared' is not defined"
          ]
        }
      ]
    },
    {
      "cell_type": "markdown",
      "metadata": {
        "id": "Ha2aYbuidFu_"
      },
      "source": [
        "Use PCA to simplilize data"
      ]
    },
    {
      "cell_type": "code",
      "metadata": {
        "id": "Elzlronwcb1a"
      },
      "source": [
        "import numpy as np\n",
        "from sklearn.decomposition import PCA\n",
        "\n",
        "pca = PCA(n_components=10)\n",
        "\n",
        "pca.fit(X_train)\n",
        "stroke_PCA = pca.fit_transform(stroke_prepared)\n",
        "X_train_PCA  = pca.fit_transform(X_train)\n",
        "X_test_PCA = pca.fit_transform(X_test)\n",
        "print(\"Variance Ratio: \", pca.explained_variance_ratio_)"
      ],
      "execution_count": null,
      "outputs": []
    },
    {
      "cell_type": "markdown",
      "metadata": {
        "id": "jd3CWfIzuMKQ"
      },
      "source": [
        "# Part4  Basic Logistic Regression"
      ]
    },
    {
      "cell_type": "code",
      "metadata": {
        "id": "OGPhfQn9NCG7"
      },
      "source": [
        "# Basic Logistic Regression without standalization \n",
        "from sklearn.impute import SimpleImputer\n",
        "from sklearn.compose import ColumnTransformer\n",
        "from sklearn.pipeline import Pipeline\n",
        "from sklearn.preprocessing import OneHotEncoder\n",
        "\n",
        "from sklearn.datasets import load_iris\n",
        "from sklearn.linear_model import LogisticRegression\n",
        "\n",
        "\n",
        "log_clf = LogisticRegression(random_state=0, max_iter=1000) \n",
        "log_clf.fit(X_train, y_train)\n",
        "log_clf.score(X_test, y_test)\n",
        "draw_results(X_test, y_test, log_clf) "
      ],
      "execution_count": null,
      "outputs": []
    },
    {
      "cell_type": "code",
      "metadata": {
        "id": "ovJFfgv5XG13"
      },
      "source": [
        "# PCA + Logistic Regression \n",
        "import numpy as np\n",
        "from sklearn.decomposition import PCA\n",
        "\n",
        "\n",
        "log_clf = LogisticRegression(random_state=0,) \n",
        "log_clf.fit(X_train_PCA, y_train)\n",
        "log_clf.score(X_test_PCA, y_test)\n",
        "# pca.explained_variance_ratio_\n",
        "\n",
        "draw_results(X_test_PCA, y_test, log_clf) \n"
      ],
      "execution_count": null,
      "outputs": []
    },
    {
      "cell_type": "markdown",
      "metadata": {
        "id": "2VM1qyb6JbbR"
      },
      "source": [
        "# Part5 Neural Network"
      ]
    },
    {
      "cell_type": "code",
      "metadata": {
        "id": "Fv3uziuwJgUA"
      },
      "source": [
        "from sklearn.neural_network import MLPClassifier\n",
        "from sklearn.datasets import make_classification\n",
        "\n",
        "NN_clf = MLPClassifier(random_state=1, max_iter=1500).fit(X_train, y_train)\n",
        "NN_clf.score(X_test, y_test)\n",
        "draw_results(X_test, y_test, NN_clf) "
      ],
      "execution_count": null,
      "outputs": []
    },
    {
      "cell_type": "markdown",
      "metadata": {
        "id": "pru07J1sQq1M"
      },
      "source": [
        "# Part6 Bagging"
      ]
    },
    {
      "cell_type": "code",
      "metadata": {
        "id": "vFf5nSRwQubP"
      },
      "source": [
        "from sklearn.svm import SVC\n",
        "from sklearn.ensemble import BaggingClassifier\n",
        "\n",
        "# Logistic Regression + Bagging\n",
        "bagging_logReg_clf = BaggingClassifier(log_clf, n_estimators=10, random_state=0).fit(X_train, y_train)\n",
        "draw_results(X_test, y_test, bagging_logReg_clf) \n",
        "\n",
        "# Logistic Regression + PCA + Bagging\n",
        "bagging_logReg_clf = BaggingClassifier(log_clf, n_estimators=10, random_state=0).fit(X_train_PCA, y_train)\n",
        "draw_results(X_test_PCA, y_test, bagging_logReg_clf) \n",
        "\n",
        "\n",
        "# Neural Network + Bagging \n",
        "bagging_NN_clf = BaggingClassifier(NN_clf, n_estimators=10, random_state=0).fit(X_train, y_train)\n",
        "draw_results(X_test, y_test, bagging_NN_clf) \n",
        "\n",
        "# Neural Network + PCA + Bagging \n",
        "bagging_NN_clf = BaggingClassifier(NN_clf, n_estimators=10, random_state=0).fit(X_train_PCA, y_train)\n",
        "draw_results(X_test_PCA, y_test, bagging_NN_clf) "
      ],
      "execution_count": null,
      "outputs": []
    },
    {
      "cell_type": "markdown",
      "metadata": {
        "id": "D4Ft8IE2KRKM"
      },
      "source": [
        "# Part8 Cross Validation"
      ]
    },
    {
      "cell_type": "code",
      "metadata": {
        "id": "pVj4_dUQvMwa"
      },
      "source": [
        "import numpy as np\n",
        "from sklearn.model_selection import KFold\n",
        "from sklearn.model_selection import StratifiedKFold\n",
        "from sklearn.model_selection import StratifiedShuffleSplit\n",
        "\n",
        "# Cross Validataion for Basic Logistic Regression \n",
        "kf = KFold(n_splits=5, random_state=None, shuffle=True)\n",
        "\n",
        "X = stroke_prepared;\n",
        "y = stroke['stroke'].to_numpy()\n",
        "results = []\n",
        "for train_index, test_index in kf.split(X):\n",
        "  X_train, X_test = X[train_index], X[test_index]\n",
        "  y_train, y_test = y[train_index], y[test_index]\n",
        "  clf = log_clf\n",
        "  clf.fit(X_train, y_train)\n",
        "  results.append(clf.score(X_test, y_test))\n",
        "  # print(clf.score(X_test, y_test))\n",
        "\n",
        "draw_results(X_test, y_test, clf)  \n",
        "print(\"Basic Logistic Regression Accuracy: \", np.mean(results))"
      ],
      "execution_count": null,
      "outputs": []
    },
    {
      "cell_type": "code",
      "metadata": {
        "id": "qYHU7HBJKT4C"
      },
      "source": [
        "\n",
        "# Cross Validataion for Logistic Regression + Bagging \n",
        "kf = KFold(n_splits=5, random_state=None, shuffle=True)\n",
        "\n",
        "X = stroke_prepared;\n",
        "y = stroke['stroke'].to_numpy()\n",
        "results = []\n",
        "for train_index, test_index in kf.split(X):\n",
        "  X_train, X_test = X[train_index], X[test_index]\n",
        "  y_train, y_test = y[train_index], y[test_index]\n",
        "  clf = bagging_logReg_clf\n",
        "  clf.fit(X_train, y_train)\n",
        "  results.append(clf.score(X_test, y_test))\n",
        "  # print(clf.score(X_test, y_test))\n",
        "  \n",
        "draw_results(X_test, y_test, clf)\n",
        "print(\"Logistic Regression + Bagging Accuracy: \", np.mean(results))"
      ],
      "execution_count": null,
      "outputs": []
    },
    {
      "cell_type": "code",
      "metadata": {
        "id": "ZqBpAnbTtnzV"
      },
      "source": [
        "# Cross Validataion for Logistic Regression + PCA + Bagging \n",
        "kf = KFold(n_splits=5, random_state=None, shuffle=True)\n",
        "\n",
        "X = X_train_PCA;\n",
        "y = stroke['stroke'].to_numpy()\n",
        "results = []\n",
        "for train_index, test_index in kf.split(X):\n",
        "  X_train, X_test = X[train_index], X[test_index]\n",
        "  y_train, y_test = y[train_index], y[test_index]\n",
        "  clf = bagging_logReg_clf\n",
        "  clf.fit(X_train, y_train)\n",
        "  results.append(clf.score(X_test, y_test))\n",
        "  # print(clf.score(X_test, y_test))\n",
        "\n",
        "draw_results(X_test, y_test, clf)\n",
        "print(\"Logistic Regression + PCA + Bagging Accuracy: \", np.mean(results))"
      ],
      "execution_count": null,
      "outputs": []
    },
    {
      "cell_type": "code",
      "metadata": {
        "id": "K51m42JNvC9S"
      },
      "source": [
        "# Cross Validataion for Neural Network  \n",
        "kf = KFold(n_splits=5, random_state=None, shuffle=True)\n",
        "X = stroke_prepared;\n",
        "y = stroke['stroke'].to_numpy()\n",
        "results = []\n",
        "for train_index, test_index in kf.split(X):\n",
        "  X_train, X_test = X[train_index], X[test_index]\n",
        "  y_train, y_test = y[train_index], y[test_index]\n",
        "  clf = NN_clf\n",
        "  clf.fit(X_train, y_train)\n",
        "  results.append(clf.score(X_test, y_test))\n",
        "  # print(clf.score(X_test, y_test))\n",
        "  # draw_results(X_test, y_test, clf)\n",
        "\n",
        "draw_results(X_test, y_test, clf)\n",
        "print(\"Neural Network: \", np.mean(results))"
      ],
      "execution_count": null,
      "outputs": []
    },
    {
      "cell_type": "code",
      "metadata": {
        "id": "8CafC2i_dplS"
      },
      "source": [
        "# Cross Validataion for Neural Network + Bagging\n",
        "kf = KFold(n_splits=5, random_state=None, shuffle=True)\n",
        "X = stroke_prepared;\n",
        "y = stroke['stroke'].to_numpy()\n",
        "results = []\n",
        "for train_index, test_index in kf.split(X):\n",
        "  X_train, X_test = X[train_index], X[test_index]\n",
        "  y_train, y_test = y[train_index], y[test_index]\n",
        "  clf = NN_clf\n",
        "  clf.fit(X_train, y_train)\n",
        "  results.append(clf.score(X_test, y_test))\n",
        "  # print(clf.score(X_test, y_test))\n",
        "  # draw_results(X_test, y_test, clf)\n",
        "\n",
        "draw_results(X_test, y_test, clf)\n",
        "print(\"Neural Network: \", np.mean(results))"
      ],
      "execution_count": null,
      "outputs": []
    },
    {
      "cell_type": "markdown",
      "metadata": {
        "id": "pCQFYk7ymHEb"
      },
      "source": [
        "# My chosen Model \n"
      ]
    },
    {
      "cell_type": "code",
      "metadata": {
        "id": "YmmVHJTYmbAX"
      },
      "source": [
        "\n",
        "\n",
        "X_train, X_test, y_train, y_test = train_test_split(stroke_prepared, stroke_target, test_size=0.3, random_state=42, shuffle=True)\n",
        "\n",
        "\n",
        "# Neural Network + PCA + Bagging \n",
        "bagging_NN_clf = BaggingClassifier(NN_clf, n_estimators=10, random_state=0).fit(X_train_PCA, y_train)\n",
        "draw_results(X_test_PCA, y_test, bagging_NN_clf) "
      ],
      "execution_count": null,
      "outputs": []
    }
  ]
}