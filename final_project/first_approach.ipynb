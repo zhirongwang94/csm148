{
  "nbformat": 4,
  "nbformat_minor": 0,
  "metadata": {
    "colab": {
      "name": "Untitled8.ipynb",
      "provenance": [],
      "collapsed_sections": [
        "CIoU9U2NsAqX",
        "X96AzswyV8tw"
      ],
      "authorship_tag": "ABX9TyPvbGwa0MzY3Jat8MvjRwgF",
      "include_colab_link": true
    },
    "kernelspec": {
      "name": "python3",
      "display_name": "Python 3"
    },
    "language_info": {
      "name": "python"
    }
  },
  "cells": [
    {
      "cell_type": "markdown",
      "metadata": {
        "id": "view-in-github",
        "colab_type": "text"
      },
      "source": [
        "<a href=\"https://colab.research.google.com/github/zhirongwang94/csm148/blob/main/final_project/first_approach.ipynb\" target=\"_parent\"><img src=\"https://colab.research.google.com/assets/colab-badge.svg\" alt=\"Open In Colab\"/></a>"
      ]
    },
    {
      "cell_type": "markdown",
      "metadata": {
        "id": "tt5nvr8Lq7Xc"
      },
      "source": [
        "This is the final project. \n",
        "Background:\n",
        "\n",
        "1) id: unique identifier\n",
        "\n",
        "2) gender: \"Male\", \"Female\" or \"Other\"\n",
        "\n",
        "3) age: age of the patient\n",
        "\n",
        "4) hypertension: 0 if the patient doesn't have hypertension, 1 if the patient has hypertension \n",
        "\n",
        "5) heart_disease: 0 if the patient doesn't have any heart diseases, 1 if the patient has a heart disease\n",
        "\n",
        "6) ever_married: \"No\" or \"Yes\"\n",
        "\n",
        "7) work_type: \"children\", \"Govt_jov\", \"Never_worked\", \"Private\" or \"Self-employed\"\n",
        "\n",
        "8) Residence_type: \"Rural\" or \"Urban\"\n",
        "\n",
        "9) avg_glucose_level: average glucose level in blood\n",
        "\n",
        "10) bmi: body mass index\n",
        "\n",
        "11) smoking_status: \"formerly smoked\", \"never smoked\", \"smokes\" or \"Unknown\"*\n",
        "\n",
        "12) stroke: 1 if the patient had a stroke or 0 if not"
      ]
    },
    {
      "cell_type": "markdown",
      "metadata": {
        "id": "CIoU9U2NsAqX"
      },
      "source": [
        "##Part 1. Load the Data\n",
        "\n"
      ]
    },
    {
      "cell_type": "code",
      "metadata": {
        "colab": {
          "base_uri": "https://localhost:8080/"
        },
        "id": "yLSy3OQxq0BU",
        "outputId": "89073808-0327-4e75-e497-4a386a67f75d"
      },
      "source": [
        "from google.colab import drive\n",
        "drive.mount('/content/gdrive')"
      ],
      "execution_count": 140,
      "outputs": [
        {
          "output_type": "stream",
          "text": [
            "Drive already mounted at /content/gdrive; to attempt to forcibly remount, call drive.mount(\"/content/gdrive\", force_remount=True).\n"
          ],
          "name": "stdout"
        }
      ]
    },
    {
      "cell_type": "code",
      "metadata": {
        "colab": {
          "base_uri": "https://localhost:8080/"
        },
        "id": "6rRC5QZTshYw",
        "outputId": "0748b60a-ff72-4683-8748-f1ada4d49048"
      },
      "source": [
        "!ls ./gdrive/MyDrive/datasets/stroke"
      ],
      "execution_count": 141,
      "outputs": [
        {
          "output_type": "stream",
          "text": [
            "dataset-stroke.csv\n"
          ],
          "name": "stdout"
        }
      ]
    },
    {
      "cell_type": "code",
      "metadata": {
        "colab": {
          "base_uri": "https://localhost:8080/",
          "height": 0
        },
        "id": "FumMa0cssnKD",
        "outputId": "6e41f424-2140-4d2c-f99e-46651e678ed1"
      },
      "source": [
        "import numpy as np # linear algebra\n",
        "import pandas as pd # data processing, CSV file I/O (e.g. pd.read_csv)\n",
        "\n",
        "csv_path = './gdrive/MyDrive/datasets/stroke/dataset-stroke.csv'\n",
        "stroke = pd.read_csv(csv_path)\n",
        "\n",
        "stroke.head()"
      ],
      "execution_count": 142,
      "outputs": [
        {
          "output_type": "execute_result",
          "data": {
            "text/html": [
              "<div>\n",
              "<style scoped>\n",
              "    .dataframe tbody tr th:only-of-type {\n",
              "        vertical-align: middle;\n",
              "    }\n",
              "\n",
              "    .dataframe tbody tr th {\n",
              "        vertical-align: top;\n",
              "    }\n",
              "\n",
              "    .dataframe thead th {\n",
              "        text-align: right;\n",
              "    }\n",
              "</style>\n",
              "<table border=\"1\" class=\"dataframe\">\n",
              "  <thead>\n",
              "    <tr style=\"text-align: right;\">\n",
              "      <th></th>\n",
              "      <th>Unnamed: 0</th>\n",
              "      <th>id</th>\n",
              "      <th>gender</th>\n",
              "      <th>age</th>\n",
              "      <th>hypertension</th>\n",
              "      <th>heart_disease</th>\n",
              "      <th>ever_married</th>\n",
              "      <th>work_type</th>\n",
              "      <th>Residence_type</th>\n",
              "      <th>avg_glucose_level</th>\n",
              "      <th>bmi</th>\n",
              "      <th>smoking_status</th>\n",
              "      <th>stroke</th>\n",
              "    </tr>\n",
              "  </thead>\n",
              "  <tbody>\n",
              "    <tr>\n",
              "      <th>0</th>\n",
              "      <td>2764</td>\n",
              "      <td>20292</td>\n",
              "      <td>Female</td>\n",
              "      <td>24.0</td>\n",
              "      <td>0</td>\n",
              "      <td>0</td>\n",
              "      <td>Yes</td>\n",
              "      <td>Private</td>\n",
              "      <td>Urban</td>\n",
              "      <td>85.55</td>\n",
              "      <td>63.3</td>\n",
              "      <td>never smoked</td>\n",
              "      <td>0</td>\n",
              "    </tr>\n",
              "    <tr>\n",
              "      <th>1</th>\n",
              "      <td>98</td>\n",
              "      <td>8154</td>\n",
              "      <td>Male</td>\n",
              "      <td>57.0</td>\n",
              "      <td>1</td>\n",
              "      <td>0</td>\n",
              "      <td>Yes</td>\n",
              "      <td>Govt_job</td>\n",
              "      <td>Urban</td>\n",
              "      <td>78.92</td>\n",
              "      <td>27.7</td>\n",
              "      <td>formerly smoked</td>\n",
              "      <td>1</td>\n",
              "    </tr>\n",
              "    <tr>\n",
              "      <th>2</th>\n",
              "      <td>3735</td>\n",
              "      <td>27176</td>\n",
              "      <td>Female</td>\n",
              "      <td>69.0</td>\n",
              "      <td>0</td>\n",
              "      <td>0</td>\n",
              "      <td>Yes</td>\n",
              "      <td>Private</td>\n",
              "      <td>Rural</td>\n",
              "      <td>103.73</td>\n",
              "      <td>34.7</td>\n",
              "      <td>never smoked</td>\n",
              "      <td>0</td>\n",
              "    </tr>\n",
              "    <tr>\n",
              "      <th>3</th>\n",
              "      <td>4500</td>\n",
              "      <td>13598</td>\n",
              "      <td>Male</td>\n",
              "      <td>60.0</td>\n",
              "      <td>0</td>\n",
              "      <td>0</td>\n",
              "      <td>Yes</td>\n",
              "      <td>Self-employed</td>\n",
              "      <td>Urban</td>\n",
              "      <td>227.23</td>\n",
              "      <td>40.0</td>\n",
              "      <td>formerly smoked</td>\n",
              "      <td>0</td>\n",
              "    </tr>\n",
              "    <tr>\n",
              "      <th>4</th>\n",
              "      <td>3254</td>\n",
              "      <td>27034</td>\n",
              "      <td>Female</td>\n",
              "      <td>65.0</td>\n",
              "      <td>0</td>\n",
              "      <td>0</td>\n",
              "      <td>Yes</td>\n",
              "      <td>Govt_job</td>\n",
              "      <td>Urban</td>\n",
              "      <td>82.72</td>\n",
              "      <td>29.8</td>\n",
              "      <td>smokes</td>\n",
              "      <td>0</td>\n",
              "    </tr>\n",
              "  </tbody>\n",
              "</table>\n",
              "</div>"
            ],
            "text/plain": [
              "   Unnamed: 0     id  gender  ...   bmi   smoking_status  stroke\n",
              "0        2764  20292  Female  ...  63.3     never smoked       0\n",
              "1          98   8154    Male  ...  27.7  formerly smoked       1\n",
              "2        3735  27176  Female  ...  34.7     never smoked       0\n",
              "3        4500  13598    Male  ...  40.0  formerly smoked       0\n",
              "4        3254  27034  Female  ...  29.8           smokes       0\n",
              "\n",
              "[5 rows x 13 columns]"
            ]
          },
          "metadata": {
            "tags": []
          },
          "execution_count": 142
        }
      ]
    },
    {
      "cell_type": "markdown",
      "metadata": {
        "id": "X96AzswyV8tw"
      },
      "source": [
        "# Part2 Data Analysis and Imputation"
      ]
    },
    {
      "cell_type": "code",
      "metadata": {
        "colab": {
          "base_uri": "https://localhost:8080/"
        },
        "id": "sNA5ztW4s9mC",
        "outputId": "089ed01f-0986-44fc-f14d-8d6211d1ba86"
      },
      "source": [
        "stroke.info()"
      ],
      "execution_count": 143,
      "outputs": [
        {
          "output_type": "stream",
          "text": [
            "<class 'pandas.core.frame.DataFrame'>\n",
            "RangeIndex: 2310 entries, 0 to 2309\n",
            "Data columns (total 13 columns):\n",
            " #   Column             Non-Null Count  Dtype  \n",
            "---  ------             --------------  -----  \n",
            " 0   Unnamed: 0         2310 non-null   int64  \n",
            " 1   id                 2310 non-null   int64  \n",
            " 2   gender             2310 non-null   object \n",
            " 3   age                2310 non-null   float64\n",
            " 4   hypertension       2310 non-null   int64  \n",
            " 5   heart_disease      2310 non-null   int64  \n",
            " 6   ever_married       2310 non-null   object \n",
            " 7   work_type          2310 non-null   object \n",
            " 8   Residence_type     2310 non-null   object \n",
            " 9   avg_glucose_level  2310 non-null   float64\n",
            " 10  bmi                2215 non-null   float64\n",
            " 11  smoking_status     2310 non-null   object \n",
            " 12  stroke             2310 non-null   int64  \n",
            "dtypes: float64(3), int64(5), object(5)\n",
            "memory usage: 234.7+ KB\n"
          ],
          "name": "stdout"
        }
      ]
    },
    {
      "cell_type": "code",
      "metadata": {
        "colab": {
          "base_uri": "https://localhost:8080/",
          "height": 297
        },
        "id": "Y3SPsb2XtlUU",
        "outputId": "f0a2b7b2-4cea-4a7f-a2bf-fecef88fade4"
      },
      "source": [
        "stroke.describe()"
      ],
      "execution_count": 144,
      "outputs": [
        {
          "output_type": "execute_result",
          "data": {
            "text/html": [
              "<div>\n",
              "<style scoped>\n",
              "    .dataframe tbody tr th:only-of-type {\n",
              "        vertical-align: middle;\n",
              "    }\n",
              "\n",
              "    .dataframe tbody tr th {\n",
              "        vertical-align: top;\n",
              "    }\n",
              "\n",
              "    .dataframe thead th {\n",
              "        text-align: right;\n",
              "    }\n",
              "</style>\n",
              "<table border=\"1\" class=\"dataframe\">\n",
              "  <thead>\n",
              "    <tr style=\"text-align: right;\">\n",
              "      <th></th>\n",
              "      <th>Unnamed: 0</th>\n",
              "      <th>id</th>\n",
              "      <th>age</th>\n",
              "      <th>hypertension</th>\n",
              "      <th>heart_disease</th>\n",
              "      <th>avg_glucose_level</th>\n",
              "      <th>bmi</th>\n",
              "      <th>stroke</th>\n",
              "    </tr>\n",
              "  </thead>\n",
              "  <tbody>\n",
              "    <tr>\n",
              "      <th>count</th>\n",
              "      <td>2310.000000</td>\n",
              "      <td>2310.000000</td>\n",
              "      <td>2310.000000</td>\n",
              "      <td>2310.000000</td>\n",
              "      <td>2310.000000</td>\n",
              "      <td>2310.000000</td>\n",
              "      <td>2215.000000</td>\n",
              "      <td>2310.000000</td>\n",
              "    </tr>\n",
              "    <tr>\n",
              "      <th>mean</th>\n",
              "      <td>2530.838095</td>\n",
              "      <td>35961.380519</td>\n",
              "      <td>43.202043</td>\n",
              "      <td>0.096537</td>\n",
              "      <td>0.054545</td>\n",
              "      <td>105.747004</td>\n",
              "      <td>28.805418</td>\n",
              "      <td>0.052814</td>\n",
              "    </tr>\n",
              "    <tr>\n",
              "      <th>std</th>\n",
              "      <td>1483.865940</td>\n",
              "      <td>21191.909528</td>\n",
              "      <td>22.784886</td>\n",
              "      <td>0.295390</td>\n",
              "      <td>0.227140</td>\n",
              "      <td>44.984524</td>\n",
              "      <td>7.800871</td>\n",
              "      <td>0.223710</td>\n",
              "    </tr>\n",
              "    <tr>\n",
              "      <th>min</th>\n",
              "      <td>0.000000</td>\n",
              "      <td>77.000000</td>\n",
              "      <td>0.080000</td>\n",
              "      <td>0.000000</td>\n",
              "      <td>0.000000</td>\n",
              "      <td>55.120000</td>\n",
              "      <td>10.300000</td>\n",
              "      <td>0.000000</td>\n",
              "    </tr>\n",
              "    <tr>\n",
              "      <th>25%</th>\n",
              "      <td>1217.250000</td>\n",
              "      <td>17007.750000</td>\n",
              "      <td>25.250000</td>\n",
              "      <td>0.000000</td>\n",
              "      <td>0.000000</td>\n",
              "      <td>77.007500</td>\n",
              "      <td>23.600000</td>\n",
              "      <td>0.000000</td>\n",
              "    </tr>\n",
              "    <tr>\n",
              "      <th>50%</th>\n",
              "      <td>2573.500000</td>\n",
              "      <td>36047.000000</td>\n",
              "      <td>44.000000</td>\n",
              "      <td>0.000000</td>\n",
              "      <td>0.000000</td>\n",
              "      <td>91.850000</td>\n",
              "      <td>28.100000</td>\n",
              "      <td>0.000000</td>\n",
              "    </tr>\n",
              "    <tr>\n",
              "      <th>75%</th>\n",
              "      <td>3810.750000</td>\n",
              "      <td>54231.500000</td>\n",
              "      <td>61.000000</td>\n",
              "      <td>0.000000</td>\n",
              "      <td>0.000000</td>\n",
              "      <td>113.452500</td>\n",
              "      <td>32.900000</td>\n",
              "      <td>0.000000</td>\n",
              "    </tr>\n",
              "    <tr>\n",
              "      <th>max</th>\n",
              "      <td>5109.000000</td>\n",
              "      <td>72918.000000</td>\n",
              "      <td>82.000000</td>\n",
              "      <td>1.000000</td>\n",
              "      <td>1.000000</td>\n",
              "      <td>271.740000</td>\n",
              "      <td>92.000000</td>\n",
              "      <td>1.000000</td>\n",
              "    </tr>\n",
              "  </tbody>\n",
              "</table>\n",
              "</div>"
            ],
            "text/plain": [
              "        Unnamed: 0            id  ...          bmi       stroke\n",
              "count  2310.000000   2310.000000  ...  2215.000000  2310.000000\n",
              "mean   2530.838095  35961.380519  ...    28.805418     0.052814\n",
              "std    1483.865940  21191.909528  ...     7.800871     0.223710\n",
              "min       0.000000     77.000000  ...    10.300000     0.000000\n",
              "25%    1217.250000  17007.750000  ...    23.600000     0.000000\n",
              "50%    2573.500000  36047.000000  ...    28.100000     0.000000\n",
              "75%    3810.750000  54231.500000  ...    32.900000     0.000000\n",
              "max    5109.000000  72918.000000  ...    92.000000     1.000000\n",
              "\n",
              "[8 rows x 8 columns]"
            ]
          },
          "metadata": {
            "tags": []
          },
          "execution_count": 144
        }
      ]
    },
    {
      "cell_type": "code",
      "metadata": {
        "colab": {
          "base_uri": "https://localhost:8080/",
          "height": 419
        },
        "id": "w0GPyZCzWj2I",
        "outputId": "037a1f1d-519a-4de9-fe26-ae7b243c51ff"
      },
      "source": [
        "# .info() result shows there are some row in bmi has 95 Nah value\n",
        "# let check if they have there 'Unknown' values in smoking_staus. \n",
        "stroke[stroke['smoking_status'] == 'Unknown']"
      ],
      "execution_count": 145,
      "outputs": [
        {
          "output_type": "execute_result",
          "data": {
            "text/html": [
              "<div>\n",
              "<style scoped>\n",
              "    .dataframe tbody tr th:only-of-type {\n",
              "        vertical-align: middle;\n",
              "    }\n",
              "\n",
              "    .dataframe tbody tr th {\n",
              "        vertical-align: top;\n",
              "    }\n",
              "\n",
              "    .dataframe thead th {\n",
              "        text-align: right;\n",
              "    }\n",
              "</style>\n",
              "<table border=\"1\" class=\"dataframe\">\n",
              "  <thead>\n",
              "    <tr style=\"text-align: right;\">\n",
              "      <th></th>\n",
              "      <th>Unnamed: 0</th>\n",
              "      <th>id</th>\n",
              "      <th>gender</th>\n",
              "      <th>age</th>\n",
              "      <th>hypertension</th>\n",
              "      <th>heart_disease</th>\n",
              "      <th>ever_married</th>\n",
              "      <th>work_type</th>\n",
              "      <th>Residence_type</th>\n",
              "      <th>avg_glucose_level</th>\n",
              "      <th>bmi</th>\n",
              "      <th>smoking_status</th>\n",
              "      <th>stroke</th>\n",
              "    </tr>\n",
              "  </thead>\n",
              "  <tbody>\n",
              "    <tr>\n",
              "      <th>7</th>\n",
              "      <td>3877</td>\n",
              "      <td>45983</td>\n",
              "      <td>Male</td>\n",
              "      <td>21.0</td>\n",
              "      <td>0</td>\n",
              "      <td>0</td>\n",
              "      <td>No</td>\n",
              "      <td>Private</td>\n",
              "      <td>Urban</td>\n",
              "      <td>56.79</td>\n",
              "      <td>20.4</td>\n",
              "      <td>Unknown</td>\n",
              "      <td>0</td>\n",
              "    </tr>\n",
              "    <tr>\n",
              "      <th>8</th>\n",
              "      <td>1680</td>\n",
              "      <td>70752</td>\n",
              "      <td>Male</td>\n",
              "      <td>37.0</td>\n",
              "      <td>0</td>\n",
              "      <td>0</td>\n",
              "      <td>Yes</td>\n",
              "      <td>Private</td>\n",
              "      <td>Urban</td>\n",
              "      <td>145.26</td>\n",
              "      <td>26.7</td>\n",
              "      <td>Unknown</td>\n",
              "      <td>0</td>\n",
              "    </tr>\n",
              "    <tr>\n",
              "      <th>10</th>\n",
              "      <td>4211</td>\n",
              "      <td>19498</td>\n",
              "      <td>Female</td>\n",
              "      <td>81.0</td>\n",
              "      <td>0</td>\n",
              "      <td>1</td>\n",
              "      <td>No</td>\n",
              "      <td>Self-employed</td>\n",
              "      <td>Urban</td>\n",
              "      <td>99.44</td>\n",
              "      <td>27.7</td>\n",
              "      <td>Unknown</td>\n",
              "      <td>0</td>\n",
              "    </tr>\n",
              "    <tr>\n",
              "      <th>14</th>\n",
              "      <td>445</td>\n",
              "      <td>61465</td>\n",
              "      <td>Male</td>\n",
              "      <td>13.0</td>\n",
              "      <td>0</td>\n",
              "      <td>0</td>\n",
              "      <td>No</td>\n",
              "      <td>children</td>\n",
              "      <td>Rural</td>\n",
              "      <td>55.39</td>\n",
              "      <td>23.2</td>\n",
              "      <td>Unknown</td>\n",
              "      <td>0</td>\n",
              "    </tr>\n",
              "    <tr>\n",
              "      <th>17</th>\n",
              "      <td>2677</td>\n",
              "      <td>45461</td>\n",
              "      <td>Female</td>\n",
              "      <td>70.0</td>\n",
              "      <td>0</td>\n",
              "      <td>0</td>\n",
              "      <td>Yes</td>\n",
              "      <td>Private</td>\n",
              "      <td>Urban</td>\n",
              "      <td>91.28</td>\n",
              "      <td>30.1</td>\n",
              "      <td>Unknown</td>\n",
              "      <td>0</td>\n",
              "    </tr>\n",
              "    <tr>\n",
              "      <th>...</th>\n",
              "      <td>...</td>\n",
              "      <td>...</td>\n",
              "      <td>...</td>\n",
              "      <td>...</td>\n",
              "      <td>...</td>\n",
              "      <td>...</td>\n",
              "      <td>...</td>\n",
              "      <td>...</td>\n",
              "      <td>...</td>\n",
              "      <td>...</td>\n",
              "      <td>...</td>\n",
              "      <td>...</td>\n",
              "      <td>...</td>\n",
              "    </tr>\n",
              "    <tr>\n",
              "      <th>2299</th>\n",
              "      <td>288</td>\n",
              "      <td>70970</td>\n",
              "      <td>Female</td>\n",
              "      <td>17.0</td>\n",
              "      <td>0</td>\n",
              "      <td>0</td>\n",
              "      <td>No</td>\n",
              "      <td>Self-employed</td>\n",
              "      <td>Urban</td>\n",
              "      <td>82.18</td>\n",
              "      <td>23.4</td>\n",
              "      <td>Unknown</td>\n",
              "      <td>0</td>\n",
              "    </tr>\n",
              "    <tr>\n",
              "      <th>2300</th>\n",
              "      <td>1610</td>\n",
              "      <td>71721</td>\n",
              "      <td>Female</td>\n",
              "      <td>18.0</td>\n",
              "      <td>0</td>\n",
              "      <td>0</td>\n",
              "      <td>No</td>\n",
              "      <td>Private</td>\n",
              "      <td>Rural</td>\n",
              "      <td>80.06</td>\n",
              "      <td>31.8</td>\n",
              "      <td>Unknown</td>\n",
              "      <td>0</td>\n",
              "    </tr>\n",
              "    <tr>\n",
              "      <th>2304</th>\n",
              "      <td>2114</td>\n",
              "      <td>25996</td>\n",
              "      <td>Female</td>\n",
              "      <td>29.0</td>\n",
              "      <td>0</td>\n",
              "      <td>0</td>\n",
              "      <td>Yes</td>\n",
              "      <td>Private</td>\n",
              "      <td>Urban</td>\n",
              "      <td>81.20</td>\n",
              "      <td>23.0</td>\n",
              "      <td>Unknown</td>\n",
              "      <td>0</td>\n",
              "    </tr>\n",
              "    <tr>\n",
              "      <th>2305</th>\n",
              "      <td>1812</td>\n",
              "      <td>12366</td>\n",
              "      <td>Female</td>\n",
              "      <td>35.0</td>\n",
              "      <td>0</td>\n",
              "      <td>0</td>\n",
              "      <td>No</td>\n",
              "      <td>Private</td>\n",
              "      <td>Urban</td>\n",
              "      <td>97.58</td>\n",
              "      <td>24.3</td>\n",
              "      <td>Unknown</td>\n",
              "      <td>0</td>\n",
              "    </tr>\n",
              "    <tr>\n",
              "      <th>2307</th>\n",
              "      <td>3563</td>\n",
              "      <td>15136</td>\n",
              "      <td>Male</td>\n",
              "      <td>64.0</td>\n",
              "      <td>0</td>\n",
              "      <td>1</td>\n",
              "      <td>Yes</td>\n",
              "      <td>Private</td>\n",
              "      <td>Rural</td>\n",
              "      <td>109.88</td>\n",
              "      <td>33.9</td>\n",
              "      <td>Unknown</td>\n",
              "      <td>0</td>\n",
              "    </tr>\n",
              "  </tbody>\n",
              "</table>\n",
              "<p>705 rows × 13 columns</p>\n",
              "</div>"
            ],
            "text/plain": [
              "      Unnamed: 0     id  gender  ...   bmi  smoking_status  stroke\n",
              "7           3877  45983    Male  ...  20.4         Unknown       0\n",
              "8           1680  70752    Male  ...  26.7         Unknown       0\n",
              "10          4211  19498  Female  ...  27.7         Unknown       0\n",
              "14           445  61465    Male  ...  23.2         Unknown       0\n",
              "17          2677  45461  Female  ...  30.1         Unknown       0\n",
              "...          ...    ...     ...  ...   ...             ...     ...\n",
              "2299         288  70970  Female  ...  23.4         Unknown       0\n",
              "2300        1610  71721  Female  ...  31.8         Unknown       0\n",
              "2304        2114  25996  Female  ...  23.0         Unknown       0\n",
              "2305        1812  12366  Female  ...  24.3         Unknown       0\n",
              "2307        3563  15136    Male  ...  33.9         Unknown       0\n",
              "\n",
              "[705 rows x 13 columns]"
            ]
          },
          "metadata": {
            "tags": []
          },
          "execution_count": 145
        }
      ]
    },
    {
      "cell_type": "code",
      "metadata": {
        "id": "HQ_g4-HtXE_u"
      },
      "source": [
        "# There are 95 Nah values in bmi column, and there are 705 'Unknown' values in Smoking_status. \n",
        "# In the first appraoch, I try to remove all the rows with Nah values and the Smoking_status column. \n",
        "\n",
        "# remove rows with Nah values. \n",
        "row_has_Nah = stroke.isnull().any(axis=1)\n",
        "incomplete_rows = stroke[row_has_Nah]\n",
        "stroke = stroke.drop(incomplete_rows.index, axis=0)\n",
        "# stroke.info()\n",
        "\n",
        "# remove smoking_status column. \n",
        "stroke = stroke.drop(['id','smoking_status'], axis=1)"
      ],
      "execution_count": 146,
      "outputs": []
    },
    {
      "cell_type": "markdown",
      "metadata": {
        "id": "EXoDU7nDZRO4"
      },
      "source": [
        "# Part3 Data preprocess. "
      ]
    },
    {
      "cell_type": "code",
      "metadata": {
        "id": "5wqz4gZydsxj"
      },
      "source": [
        "from sklearn.impute import SimpleImputer\n",
        "from sklearn.compose import ColumnTransformer\n",
        "from sklearn.pipeline import Pipeline\n",
        "from sklearn.preprocessing import StandardScaler\n",
        "from sklearn.preprocessing import OneHotEncoder\n",
        "import category_encoders as ce\n",
        "\n",
        "encoder= ce.OrdinalEncoder(return_df=True, mapping=[{'col':'gender','mapping':{'Male':0,'Female':1}}])\n",
        "\n",
        "\n",
        "# from sklearn.base import BaseEstimator, TransformerMixin\n",
        "\n",
        "categorical_features = ['work_type', 'gender', 'ever_married', 'Residence_type']\n",
        "numerical_features = ['age', 'hypertension', 'heart_disease', 'avg_glucose_level', 'bmi']\n",
        "\n",
        "\n",
        "full_pipeline = ColumnTransformer([\n",
        "        (\"num\", StandardScaler(), numerical_features ),                          \n",
        "        # (\"cat\", OneHotEncoder(),  categorical_features),\n",
        "        (\"cat\", OneHotEncoder(), categorical_features),\n",
        "    ])\n",
        "\n",
        "\n",
        "stroke_prepared = full_pipeline.fit_transform(stroke)\n",
        "stroke_target = stroke['stroke']\n"
      ],
      "execution_count": 150,
      "outputs": []
    },
    {
      "cell_type": "code",
      "metadata": {
        "colab": {
          "base_uri": "https://localhost:8080/"
        },
        "id": "4-P29bfis4YY",
        "outputId": "c42efdfa-4098-47e3-f11d-728878e2a22c"
      },
      "source": [
        "from sklearn.model_selection import train_test_split\n",
        "data_target = stroke['stroke']\n",
        "X_train, X_test, y_train, y_test = train_test_split(stroke_prepared, stroke_target, test_size=0.3, random_state=0)\n",
        "\n",
        "y.mean()"
      ],
      "execution_count": 177,
      "outputs": [
        {
          "output_type": "execute_result",
          "data": {
            "text/plain": [
              "0.03935483870967742"
            ]
          },
          "metadata": {
            "tags": []
          },
          "execution_count": 177
        }
      ]
    },
    {
      "cell_type": "markdown",
      "metadata": {
        "id": "jd3CWfIzuMKQ"
      },
      "source": [
        "# Part4  Basic Logistic Regression"
      ]
    },
    {
      "cell_type": "code",
      "metadata": {
        "colab": {
          "base_uri": "https://localhost:8080/"
        },
        "id": "ico1acJQuRHK",
        "outputId": "7f9499a2-c6d5-4c3a-ddf4-25f860e16b12"
      },
      "source": [
        "from sklearn.datasets import load_iris\n",
        "from sklearn.linear_model import LogisticRegression\n",
        "\n",
        "clf = LogisticRegression(random_state=0)\n",
        "clf.fit(X_train, y_train)\n",
        "clf.score(X_test, y_test)\n"
      ],
      "execution_count": 176,
      "outputs": [
        {
          "output_type": "execute_result",
          "data": {
            "text/plain": [
              "0.9428571428571428"
            ]
          },
          "metadata": {
            "tags": []
          },
          "execution_count": 176
        }
      ]
    },
    {
      "cell_type": "markdown",
      "metadata": {
        "id": "bJDMqulaH_b6"
      },
      "source": [
        "# Part5 PCA"
      ]
    },
    {
      "cell_type": "code",
      "metadata": {
        "colab": {
          "base_uri": "https://localhost:8080/"
        },
        "id": "LJMXXzQpIB-s",
        "outputId": "e53c812c-e948-4949-ce66-c6aa1e4bb12d"
      },
      "source": [
        "import numpy as np\n",
        "from sklearn.decomposition import PCA\n",
        "# X = np.array([[-1, -1], [-2, -1], [-3, -2], [1, 1], [2, 1], [3, 2]])\n",
        "pca = PCA(n_components=10)\n",
        "# pca.fit(X)\n",
        "# PCA(n_components=2)\n",
        "# print(pca.explained_variance_ratio_)\n",
        "# [0.9924... 0.0075...]\n",
        "# print(pca.singular_values_)\n",
        "# [6.30061... 0.54980...]\n",
        "pca.fit(X_train)\n",
        "\n",
        "pca.explained_variance_ratio_"
      ],
      "execution_count": 182,
      "outputs": [
        {
          "output_type": "execute_result",
          "data": {
            "text/plain": [
              "array([0.28568383, 0.14326885, 0.12428125, 0.11896593, 0.09430252,\n",
              "       0.07117956, 0.06554841, 0.04208968, 0.0253015 , 0.01929674])"
            ]
          },
          "metadata": {
            "tags": []
          },
          "execution_count": 182
        }
      ]
    },
    {
      "cell_type": "markdown",
      "metadata": {
        "id": "2VM1qyb6JbbR"
      },
      "source": [
        "# Part6 Neural Network"
      ]
    },
    {
      "cell_type": "code",
      "metadata": {
        "colab": {
          "base_uri": "https://localhost:8080/"
        },
        "id": "Fv3uziuwJgUA",
        "outputId": "b5334949-edd1-4168-c272-746b8e864167"
      },
      "source": [
        "from sklearn.neural_network import MLPClassifier\n",
        "from sklearn.datasets import make_classification\n",
        "\n",
        "\n",
        "# >>> X, y = make_classification(n_samples=100, random_state=1)\n",
        "# >>> X_train, X_test, y_train, y_test = train_test_split(X, y, stratify=y,\n",
        "# ...                                                     random_state=1)\n",
        "clf = MLPClassifier(random_state=1, max_iter=300).fit(X_train, y_train)\n",
        "\n",
        "clf.score(X_test, y_test)"
      ],
      "execution_count": 186,
      "outputs": [
        {
          "output_type": "stream",
          "text": [
            "/usr/local/lib/python3.7/dist-packages/sklearn/neural_network/_multilayer_perceptron.py:571: ConvergenceWarning: Stochastic Optimizer: Maximum iterations (300) reached and the optimization hasn't converged yet.\n",
            "  % self.max_iter, ConvergenceWarning)\n"
          ],
          "name": "stderr"
        },
        {
          "output_type": "execute_result",
          "data": {
            "text/plain": [
              "0.9383458646616541"
            ]
          },
          "metadata": {
            "tags": []
          },
          "execution_count": 186
        }
      ]
    },
    {
      "cell_type": "markdown",
      "metadata": {
        "id": "D4Ft8IE2KRKM"
      },
      "source": [
        "# Part7 Cross Validation"
      ]
    },
    {
      "cell_type": "code",
      "metadata": {
        "colab": {
          "base_uri": "https://localhost:8080/"
        },
        "id": "qYHU7HBJKT4C",
        "outputId": "5e45da03-780a-4a59-a6c1-62b98be8d731"
      },
      "source": [
        "import numpy as np\n",
        "from sklearn.model_selection import KFold\n",
        "\n",
        "\n",
        "# >>> kf.get_n_splits(X)\n",
        "# 2\n",
        "# print(kf)\n",
        "kf = KFold(n_splits=2, random_state=None, shuffle=False)\n",
        "# clf = MLPClassifier(random_state=1, max_iter=300).fit(X_train, y_train)\n",
        "\n",
        "X = stroke_prepared;\n",
        "y = stroke['stroke'].to_numpy()\n",
        "for train_index, test_index in kf.split(X):\n",
        "  X_train, X_test = X[train_index], X[test_index]\n",
        "  y_train, y_test = y[train_index], y[test_index]\n",
        "  clf = MLPClassifier(random_state=1, max_iter=1000).fit(X_train, y_train)\n",
        "  print(clf.score(X_test, y_test))"
      ],
      "execution_count": 212,
      "outputs": [
        {
          "output_type": "stream",
          "text": [
            "0.9377256317689531\n",
            "0.9367660343270099\n"
          ],
          "name": "stdout"
        }
      ]
    },
    {
      "cell_type": "code",
      "metadata": {
        "colab": {
          "base_uri": "https://localhost:8080/"
        },
        "id": "WC6N26aAMOQn",
        "outputId": "a6525ff4-461a-4dce-ff4a-14a3460a6575"
      },
      "source": [
        "stroke_prepared.shape"
      ],
      "execution_count": 198,
      "outputs": [
        {
          "output_type": "execute_result",
          "data": {
            "text/plain": [
              "(2215, 16)"
            ]
          },
          "metadata": {
            "tags": []
          },
          "execution_count": 198
        }
      ]
    }
  ]
}