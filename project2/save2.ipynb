{
  "nbformat": 4,
  "nbformat_minor": 0,
  "metadata": {
    "kernelspec": {
      "display_name": "Python 3",
      "language": "python",
      "name": "python3"
    },
    "language_info": {
      "codemirror_mode": {
        "name": "ipython",
        "version": 3
      },
      "file_extension": ".py",
      "mimetype": "text/x-python",
      "name": "python",
      "nbconvert_exporter": "python",
      "pygments_lexer": "ipython3",
      "version": "3.8.5"
    },
    "colab": {
      "name": "csm148_project2-Spring21-Final-BLANK.ipynb",
      "provenance": [],
      "include_colab_link": true
    }
  },
  "cells": [
    {
      "cell_type": "markdown",
      "metadata": {
        "id": "view-in-github",
        "colab_type": "text"
      },
      "source": [
        "<a href=\"https://colab.research.google.com/github/zhirongwang94/csm148/blob/main/project2/save2.ipynb\" target=\"_parent\"><img src=\"https://colab.research.google.com/assets/colab-badge.svg\" alt=\"Open In Colab\"/></a>"
      ]
    },
    {
      "cell_type": "markdown",
      "metadata": {
        "id": "c54_dRtfzwkp"
      },
      "source": [
        "# CSM148 Project 2 - Binary Classification Comparative Methods"
      ]
    },
    {
      "cell_type": "markdown",
      "metadata": {
        "id": "PWdoyuvqzwkr"
      },
      "source": [
        "For this project we're going to attempt a binary classification of a dataset using multiple methods and compare results. \n",
        "\n",
        "Our goals for this project will be to introduce you to several of the most common classification techniques, how to perform them and tweek parameters to optimize outcomes, how to produce and interpret results, and compare performance. You will be asked to analyze your findings and provide explanations for observed performance. \n",
        "\n",
        "Specifically you will be asked to classify whether a <b>patient is suffering from heart disease</b> based on a host of potential medical factors.\n",
        "\n",
        "<b><u>DEFINITIONS</b></u>\n",
        "\n",
        "\n",
        "<b> Binary Classification:</b>\n",
        "In this case a complex dataset has an added 'target' label with one of two options. Your learning algorithm will try to assign one of these labels to the data.\n",
        "\n",
        "<b> Supervised Learning:</b>\n",
        "This data is fully supervised, which means it's been fully labeled and we can trust the veracity of the labeling."
      ]
    },
    {
      "cell_type": "markdown",
      "metadata": {
        "id": "0ltE4WkCzwks"
      },
      "source": [
        "## Background: The Dataset "
      ]
    },
    {
      "cell_type": "markdown",
      "metadata": {
        "id": "KhlFacJ9zwks"
      },
      "source": [
        "For this exercise we will be using a subset of the UCI Heart Disease dataset, leveraging the fourteen most commonly used attributes. All identifying information about the patient has been scrubbed. \n",
        "\n",
        "The dataset includes 14 columns. The information provided by each column is as follows:\n",
        "<ul>\n",
        "    <li><b>age:</b> Age in years</li>\n",
        "    <li><b>sex:</b> (1 = male; 0 = female)</li>\n",
        "    <li><b>cp:</b> Chest pain type (0 = asymptomatic; 1 = atypical angina; 2 = non-anginal pain; 3 = typical angina)</li>\n",
        "    <li><b>trestbps:</b> Resting blood pressure (in mm Hg on admission to the hospital)</li>\n",
        "    <li><b>cholserum:</b> Cholestoral in mg/dl</li>\n",
        "    <li><b>fbs</b> Fasting blood sugar > 120 mg/dl (1 = true; 0 = false)</li>\n",
        "    <li><b>restecg:</b> Resting electrocardiographic results (0= showing probable or definite left ventricular hypertrophy by Estes' criteria; 1 = normal; 2 = having ST-T wave abnormality (T wave inversions and/or ST elevation or depression of > 0.05 mV))</li>\n",
        "    <li><b>thalach:</b> Maximum heart rate achieved</li>\n",
        "    <li><b>exang:</b> Exercise induced angina (1 = yes; 0 = no)</li>\n",
        "    <li><b>oldpeakST:</b> Depression induced by exercise relative to rest</li>\n",
        "    <li><b>slope:</b> The slope of the peak exercise ST segment (0 = downsloping; 1 = flat; 2 = upsloping)</li>\n",
        "    <li><b>ca:</b> Number of major vessels (0-4) colored by flourosopy</li>\n",
        "    <li><b>thal:</b> 1 = normal; 2 = fixed defect; 3 = reversable defect</li>\n",
        "    <li><b><u>Sick:</u></b> Indicates the presence of Heart disease (True = Disease; False = No disease)</li>\n",
        "</ul>\n",
        "    \n"
      ]
    },
    {
      "cell_type": "markdown",
      "metadata": {
        "id": "qjjXfY5Mzwkt"
      },
      "source": [
        "## Loading Essentials and Helper Functions "
      ]
    },
    {
      "cell_type": "code",
      "metadata": {
        "id": "fYDJJXBGzwkt"
      },
      "source": [
        "#Here are a set of libraries we imported to complete this assignment. \n",
        "#Feel free to use these or equivalent libraries for your implementation\n",
        "import numpy as np # linear algebra\n",
        "import pandas as pd # data processing, CSV file I/O (e.g. pd.read_csv)\n",
        "import matplotlib.pyplot as plt # this is used for the plot the graph \n",
        "import os\n",
        "import seaborn as sns # used for plot interactive graph.\n",
        "from sklearn.model_selection import train_test_split, cross_val_score, GridSearchCV\n",
        "from sklearn import metrics\n",
        "from sklearn.svm import SVC  \n",
        "from sklearn.linear_model import LogisticRegression\n",
        "from sklearn.neighbors import KNeighborsClassifier\n",
        "from sklearn.tree import DecisionTreeClassifier\n",
        "from sklearn.cluster import KMeans\n",
        "from sklearn.metrics import confusion_matrix\n",
        "import sklearn.metrics.cluster as smc\n",
        "from sklearn.model_selection import KFold\n",
        "\n",
        "\n",
        "from matplotlib import pyplot\n",
        "import itertools\n",
        "\n",
        "%matplotlib inline\n",
        "\n",
        "import random \n",
        "  \n",
        "random.seed(42) "
      ],
      "execution_count": 567,
      "outputs": []
    },
    {
      "cell_type": "code",
      "metadata": {
        "id": "nGaVWsJ3zwku"
      },
      "source": [
        "# Helper function allowing you to export a graph\n",
        "def save_fig(fig_id, tight_layout=True, fig_extension=\"png\", resolution=300):\n",
        "    path = os.path.join(fig_id + \".\" + fig_extension)\n",
        "    print(\"Saving figure\", fig_id)\n",
        "    if tight_layout:\n",
        "        plt.tight_layout()\n",
        "    plt.savefig(path, format=fig_extension, dpi=resolution)"
      ],
      "execution_count": 568,
      "outputs": []
    },
    {
      "cell_type": "code",
      "metadata": {
        "id": "XNFbqRb1zwku"
      },
      "source": [
        "# Helper function that allows you to draw nicely formatted confusion matrices\n",
        "\n",
        "def draw_confusion_matrix(y, yhat, classes):\n",
        "    '''\n",
        "        Draws a confusion matrix for the given target and predictions\n",
        "        Adapted from scikit-learn and discussion example.\n",
        "    '''\n",
        "    plt.cla()\n",
        "    plt.clf()\n",
        "    matrix = confusion_matrix(y, yhat)\n",
        "    plt.imshow(matrix, interpolation='nearest', cmap=plt.cm.Blues)\n",
        "    plt.title(\"Confusion Matrix\")\n",
        "    plt.colorbar()\n",
        "    num_classes = len(classes)\n",
        "    plt.xticks(np.arange(num_classes), classes, rotation=90)\n",
        "    plt.yticks(np.arange(num_classes), classes)\n",
        "    \n",
        "    fmt = 'd'\n",
        "    thresh = matrix.max() / 2.\n",
        "    for i, j in itertools.product(range(matrix.shape[0]), range(matrix.shape[1])):\n",
        "        plt.text(j, i, format(matrix[i, j], fmt),\n",
        "                 horizontalalignment=\"center\",\n",
        "                 color=\"white\" if matrix[i, j] > thresh else \"black\")\n",
        "\n",
        "    plt.ylabel('True label')\n",
        "    plt.xlabel('Predicted label')\n",
        "    plt.tight_layout()\n",
        "    plt.show()"
      ],
      "execution_count": 569,
      "outputs": []
    },
    {
      "cell_type": "code",
      "metadata": {
        "id": "MkBMP54smJ_W"
      },
      "source": [
        "# Helper funct\n",
        "from sklearn.metrics import accuracy_score\n",
        "from sklearn.metrics import precision_score\n",
        "from sklearn.metrics import confusion_matrix\n",
        "from sklearn.metrics import precision_recall_fscore_support\n",
        "from sklearn.metrics import f1_score\n",
        "\n",
        "def draw_results(X_test, y_test, classifier_model):\n",
        "  y_true = y_test;\n",
        "  y_pred = classifier_model.predict(X_test)\n",
        "\n",
        "\n",
        "  scores = precision_recall_fscore_support(y_true, y_pred, average='binary')\n",
        "  f1 = f1_score(y_true, y_pred, average='binary')\n",
        "\n",
        "  print(\"accuracy: \", classifier_model.score(X_test, y_test))\n",
        "  print(\"precision: \", scores[0])\n",
        "  print(\"recall: \", scores[1])\n",
        "  print(\"f1_score: \", f1)\n",
        "  print(\"confusion matrix: \", confusion_matrix(y_true, y_pred))\n",
        "  draw_confusion_matrix(y_true, y_pred, ['positive', 'negative'])"
      ],
      "execution_count": 570,
      "outputs": []
    },
    {
      "cell_type": "markdown",
      "metadata": {
        "id": "YYZ4E-fHzwkv"
      },
      "source": [
        "## Part 1. Load the Data and Analyze"
      ]
    },
    {
      "cell_type": "markdown",
      "metadata": {
        "id": "EBU56Vz7zwkv"
      },
      "source": [
        "Let's first load our dataset so we'll be able to work with it. (correct the relative path if your notebook is in a different directory than the csv file.)"
      ]
    },
    {
      "cell_type": "code",
      "metadata": {
        "id": "0uxvwPDRzwkw",
        "colab": {
          "base_uri": "https://localhost:8080/"
        },
        "outputId": "a24a3a07-624e-449e-db19-3946c2bd0398"
      },
      "source": [
        "from google.colab import drive\n",
        "drive.mount('/content/gdrive')"
      ],
      "execution_count": 571,
      "outputs": [
        {
          "output_type": "stream",
          "text": [
            "Drive already mounted at /content/gdrive; to attempt to forcibly remount, call drive.mount(\"/content/gdrive\", force_remount=True).\n"
          ],
          "name": "stdout"
        }
      ]
    },
    {
      "cell_type": "code",
      "metadata": {
        "colab": {
          "base_uri": "https://localhost:8080/"
        },
        "id": "sAQxrosH1yby",
        "outputId": "8934de37-7ce2-4f83-d28c-6d1f395b68dc"
      },
      "source": [
        "!ls ./gdrive/MyDrive/datasets/heartdisease/"
      ],
      "execution_count": 572,
      "outputs": [
        {
          "output_type": "stream",
          "text": [
            "heartdisease.csv\n"
          ],
          "name": "stdout"
        }
      ]
    },
    {
      "cell_type": "code",
      "metadata": {
        "colab": {
          "base_uri": "https://localhost:8080/",
          "height": 195
        },
        "id": "Z0n1cQcA2TBY",
        "outputId": "09cf7f41-cf0b-4a6d-d654-313159c9d743"
      },
      "source": [
        "csv_path = './gdrive/MyDrive/datasets/heartdisease/heartdisease.csv'\n",
        "heartdisease = pd.read_csv(csv_path)\n",
        "\n",
        "heartdisease.head()"
      ],
      "execution_count": 573,
      "outputs": [
        {
          "output_type": "execute_result",
          "data": {
            "text/html": [
              "<div>\n",
              "<style scoped>\n",
              "    .dataframe tbody tr th:only-of-type {\n",
              "        vertical-align: middle;\n",
              "    }\n",
              "\n",
              "    .dataframe tbody tr th {\n",
              "        vertical-align: top;\n",
              "    }\n",
              "\n",
              "    .dataframe thead th {\n",
              "        text-align: right;\n",
              "    }\n",
              "</style>\n",
              "<table border=\"1\" class=\"dataframe\">\n",
              "  <thead>\n",
              "    <tr style=\"text-align: right;\">\n",
              "      <th></th>\n",
              "      <th>age</th>\n",
              "      <th>sex</th>\n",
              "      <th>cp</th>\n",
              "      <th>trestbps</th>\n",
              "      <th>chol</th>\n",
              "      <th>fbs</th>\n",
              "      <th>restecg</th>\n",
              "      <th>thalach</th>\n",
              "      <th>exang</th>\n",
              "      <th>oldpeak</th>\n",
              "      <th>slope</th>\n",
              "      <th>ca</th>\n",
              "      <th>thal</th>\n",
              "      <th>sick</th>\n",
              "    </tr>\n",
              "  </thead>\n",
              "  <tbody>\n",
              "    <tr>\n",
              "      <th>0</th>\n",
              "      <td>63</td>\n",
              "      <td>1</td>\n",
              "      <td>3</td>\n",
              "      <td>145</td>\n",
              "      <td>233</td>\n",
              "      <td>1</td>\n",
              "      <td>0</td>\n",
              "      <td>150</td>\n",
              "      <td>0</td>\n",
              "      <td>2.3</td>\n",
              "      <td>0</td>\n",
              "      <td>0</td>\n",
              "      <td>1</td>\n",
              "      <td>False</td>\n",
              "    </tr>\n",
              "    <tr>\n",
              "      <th>1</th>\n",
              "      <td>37</td>\n",
              "      <td>1</td>\n",
              "      <td>2</td>\n",
              "      <td>130</td>\n",
              "      <td>250</td>\n",
              "      <td>0</td>\n",
              "      <td>1</td>\n",
              "      <td>187</td>\n",
              "      <td>0</td>\n",
              "      <td>3.5</td>\n",
              "      <td>0</td>\n",
              "      <td>0</td>\n",
              "      <td>2</td>\n",
              "      <td>False</td>\n",
              "    </tr>\n",
              "    <tr>\n",
              "      <th>2</th>\n",
              "      <td>41</td>\n",
              "      <td>0</td>\n",
              "      <td>1</td>\n",
              "      <td>130</td>\n",
              "      <td>204</td>\n",
              "      <td>0</td>\n",
              "      <td>0</td>\n",
              "      <td>172</td>\n",
              "      <td>0</td>\n",
              "      <td>1.4</td>\n",
              "      <td>2</td>\n",
              "      <td>0</td>\n",
              "      <td>2</td>\n",
              "      <td>False</td>\n",
              "    </tr>\n",
              "    <tr>\n",
              "      <th>3</th>\n",
              "      <td>56</td>\n",
              "      <td>1</td>\n",
              "      <td>1</td>\n",
              "      <td>120</td>\n",
              "      <td>236</td>\n",
              "      <td>0</td>\n",
              "      <td>1</td>\n",
              "      <td>178</td>\n",
              "      <td>0</td>\n",
              "      <td>0.8</td>\n",
              "      <td>2</td>\n",
              "      <td>0</td>\n",
              "      <td>2</td>\n",
              "      <td>False</td>\n",
              "    </tr>\n",
              "    <tr>\n",
              "      <th>4</th>\n",
              "      <td>57</td>\n",
              "      <td>0</td>\n",
              "      <td>0</td>\n",
              "      <td>120</td>\n",
              "      <td>354</td>\n",
              "      <td>0</td>\n",
              "      <td>1</td>\n",
              "      <td>163</td>\n",
              "      <td>1</td>\n",
              "      <td>0.6</td>\n",
              "      <td>2</td>\n",
              "      <td>0</td>\n",
              "      <td>2</td>\n",
              "      <td>False</td>\n",
              "    </tr>\n",
              "  </tbody>\n",
              "</table>\n",
              "</div>"
            ],
            "text/plain": [
              "   age  sex  cp  trestbps  chol  fbs  ...  exang  oldpeak  slope  ca  thal   sick\n",
              "0   63    1   3       145   233    1  ...      0      2.3      0   0     1  False\n",
              "1   37    1   2       130   250    0  ...      0      3.5      0   0     2  False\n",
              "2   41    0   1       130   204    0  ...      0      1.4      2   0     2  False\n",
              "3   56    1   1       120   236    0  ...      0      0.8      2   0     2  False\n",
              "4   57    0   0       120   354    0  ...      1      0.6      2   0     2  False\n",
              "\n",
              "[5 rows x 14 columns]"
            ]
          },
          "metadata": {
            "tags": []
          },
          "execution_count": 573
        }
      ]
    },
    {
      "cell_type": "markdown",
      "metadata": {
        "id": "wy_0dlmCzwkw"
      },
      "source": [
        "### Now that our data is loaded, let's take a closer look at the dataset we're working with. Use the head method,  the describe method, and the info method to display some of the rows so we can visualize the types of data fields we'll be working with."
      ]
    },
    {
      "cell_type": "code",
      "metadata": {
        "colab": {
          "base_uri": "https://localhost:8080/",
          "height": 284
        },
        "id": "NAB2otPD2vuZ",
        "outputId": "6d38a0d2-e513-4901-d5d6-410160d81cca"
      },
      "source": [
        "heartdisease.describe()"
      ],
      "execution_count": 574,
      "outputs": [
        {
          "output_type": "execute_result",
          "data": {
            "text/html": [
              "<div>\n",
              "<style scoped>\n",
              "    .dataframe tbody tr th:only-of-type {\n",
              "        vertical-align: middle;\n",
              "    }\n",
              "\n",
              "    .dataframe tbody tr th {\n",
              "        vertical-align: top;\n",
              "    }\n",
              "\n",
              "    .dataframe thead th {\n",
              "        text-align: right;\n",
              "    }\n",
              "</style>\n",
              "<table border=\"1\" class=\"dataframe\">\n",
              "  <thead>\n",
              "    <tr style=\"text-align: right;\">\n",
              "      <th></th>\n",
              "      <th>age</th>\n",
              "      <th>sex</th>\n",
              "      <th>cp</th>\n",
              "      <th>trestbps</th>\n",
              "      <th>chol</th>\n",
              "      <th>fbs</th>\n",
              "      <th>restecg</th>\n",
              "      <th>thalach</th>\n",
              "      <th>exang</th>\n",
              "      <th>oldpeak</th>\n",
              "      <th>slope</th>\n",
              "      <th>ca</th>\n",
              "      <th>thal</th>\n",
              "    </tr>\n",
              "  </thead>\n",
              "  <tbody>\n",
              "    <tr>\n",
              "      <th>count</th>\n",
              "      <td>303.000000</td>\n",
              "      <td>303.000000</td>\n",
              "      <td>303.000000</td>\n",
              "      <td>303.000000</td>\n",
              "      <td>303.000000</td>\n",
              "      <td>303.000000</td>\n",
              "      <td>303.000000</td>\n",
              "      <td>303.000000</td>\n",
              "      <td>303.000000</td>\n",
              "      <td>303.000000</td>\n",
              "      <td>303.000000</td>\n",
              "      <td>303.000000</td>\n",
              "      <td>303.000000</td>\n",
              "    </tr>\n",
              "    <tr>\n",
              "      <th>mean</th>\n",
              "      <td>54.366337</td>\n",
              "      <td>0.683168</td>\n",
              "      <td>0.966997</td>\n",
              "      <td>131.623762</td>\n",
              "      <td>246.264026</td>\n",
              "      <td>0.148515</td>\n",
              "      <td>0.528053</td>\n",
              "      <td>149.646865</td>\n",
              "      <td>0.326733</td>\n",
              "      <td>1.039604</td>\n",
              "      <td>1.399340</td>\n",
              "      <td>0.729373</td>\n",
              "      <td>2.313531</td>\n",
              "    </tr>\n",
              "    <tr>\n",
              "      <th>std</th>\n",
              "      <td>9.082101</td>\n",
              "      <td>0.466011</td>\n",
              "      <td>1.032052</td>\n",
              "      <td>17.538143</td>\n",
              "      <td>51.830751</td>\n",
              "      <td>0.356198</td>\n",
              "      <td>0.525860</td>\n",
              "      <td>22.905161</td>\n",
              "      <td>0.469794</td>\n",
              "      <td>1.161075</td>\n",
              "      <td>0.616226</td>\n",
              "      <td>1.022606</td>\n",
              "      <td>0.612277</td>\n",
              "    </tr>\n",
              "    <tr>\n",
              "      <th>min</th>\n",
              "      <td>29.000000</td>\n",
              "      <td>0.000000</td>\n",
              "      <td>0.000000</td>\n",
              "      <td>94.000000</td>\n",
              "      <td>126.000000</td>\n",
              "      <td>0.000000</td>\n",
              "      <td>0.000000</td>\n",
              "      <td>71.000000</td>\n",
              "      <td>0.000000</td>\n",
              "      <td>0.000000</td>\n",
              "      <td>0.000000</td>\n",
              "      <td>0.000000</td>\n",
              "      <td>0.000000</td>\n",
              "    </tr>\n",
              "    <tr>\n",
              "      <th>25%</th>\n",
              "      <td>47.500000</td>\n",
              "      <td>0.000000</td>\n",
              "      <td>0.000000</td>\n",
              "      <td>120.000000</td>\n",
              "      <td>211.000000</td>\n",
              "      <td>0.000000</td>\n",
              "      <td>0.000000</td>\n",
              "      <td>133.500000</td>\n",
              "      <td>0.000000</td>\n",
              "      <td>0.000000</td>\n",
              "      <td>1.000000</td>\n",
              "      <td>0.000000</td>\n",
              "      <td>2.000000</td>\n",
              "    </tr>\n",
              "    <tr>\n",
              "      <th>50%</th>\n",
              "      <td>55.000000</td>\n",
              "      <td>1.000000</td>\n",
              "      <td>1.000000</td>\n",
              "      <td>130.000000</td>\n",
              "      <td>240.000000</td>\n",
              "      <td>0.000000</td>\n",
              "      <td>1.000000</td>\n",
              "      <td>153.000000</td>\n",
              "      <td>0.000000</td>\n",
              "      <td>0.800000</td>\n",
              "      <td>1.000000</td>\n",
              "      <td>0.000000</td>\n",
              "      <td>2.000000</td>\n",
              "    </tr>\n",
              "    <tr>\n",
              "      <th>75%</th>\n",
              "      <td>61.000000</td>\n",
              "      <td>1.000000</td>\n",
              "      <td>2.000000</td>\n",
              "      <td>140.000000</td>\n",
              "      <td>274.500000</td>\n",
              "      <td>0.000000</td>\n",
              "      <td>1.000000</td>\n",
              "      <td>166.000000</td>\n",
              "      <td>1.000000</td>\n",
              "      <td>1.600000</td>\n",
              "      <td>2.000000</td>\n",
              "      <td>1.000000</td>\n",
              "      <td>3.000000</td>\n",
              "    </tr>\n",
              "    <tr>\n",
              "      <th>max</th>\n",
              "      <td>77.000000</td>\n",
              "      <td>1.000000</td>\n",
              "      <td>3.000000</td>\n",
              "      <td>200.000000</td>\n",
              "      <td>564.000000</td>\n",
              "      <td>1.000000</td>\n",
              "      <td>2.000000</td>\n",
              "      <td>202.000000</td>\n",
              "      <td>1.000000</td>\n",
              "      <td>6.200000</td>\n",
              "      <td>2.000000</td>\n",
              "      <td>4.000000</td>\n",
              "      <td>3.000000</td>\n",
              "    </tr>\n",
              "  </tbody>\n",
              "</table>\n",
              "</div>"
            ],
            "text/plain": [
              "              age         sex          cp  ...       slope          ca        thal\n",
              "count  303.000000  303.000000  303.000000  ...  303.000000  303.000000  303.000000\n",
              "mean    54.366337    0.683168    0.966997  ...    1.399340    0.729373    2.313531\n",
              "std      9.082101    0.466011    1.032052  ...    0.616226    1.022606    0.612277\n",
              "min     29.000000    0.000000    0.000000  ...    0.000000    0.000000    0.000000\n",
              "25%     47.500000    0.000000    0.000000  ...    1.000000    0.000000    2.000000\n",
              "50%     55.000000    1.000000    1.000000  ...    1.000000    0.000000    2.000000\n",
              "75%     61.000000    1.000000    2.000000  ...    2.000000    1.000000    3.000000\n",
              "max     77.000000    1.000000    3.000000  ...    2.000000    4.000000    3.000000\n",
              "\n",
              "[8 rows x 13 columns]"
            ]
          },
          "metadata": {
            "tags": []
          },
          "execution_count": 574
        }
      ]
    },
    {
      "cell_type": "markdown",
      "metadata": {
        "id": "2xrAf4Pezwkx"
      },
      "source": [
        "### Sometimes data will be stored in different formats (e.g., string, date, boolean), but many learning methods work strictly on numeric inputs. Call the info method to determine the datafield type for each column. Are there any that are problemmatic and why?"
      ]
    },
    {
      "cell_type": "code",
      "metadata": {
        "colab": {
          "base_uri": "https://localhost:8080/"
        },
        "id": "munPJHXFPPLh",
        "outputId": "0bda250b-7069-421b-9d20-4dbef9db6dbe"
      },
      "source": [
        "type(heartdisease)"
      ],
      "execution_count": 575,
      "outputs": [
        {
          "output_type": "execute_result",
          "data": {
            "text/plain": [
              "pandas.core.frame.DataFrame"
            ]
          },
          "metadata": {
            "tags": []
          },
          "execution_count": 575
        }
      ]
    },
    {
      "cell_type": "code",
      "metadata": {
        "id": "1p32xLLezwkw",
        "colab": {
          "base_uri": "https://localhost:8080/"
        },
        "outputId": "e79e9090-d531-41e8-e216-293f1ed4b2ea"
      },
      "source": [
        "heartdisease.info()"
      ],
      "execution_count": 576,
      "outputs": [
        {
          "output_type": "stream",
          "text": [
            "<class 'pandas.core.frame.DataFrame'>\n",
            "RangeIndex: 303 entries, 0 to 302\n",
            "Data columns (total 14 columns):\n",
            " #   Column    Non-Null Count  Dtype  \n",
            "---  ------    --------------  -----  \n",
            " 0   age       303 non-null    int64  \n",
            " 1   sex       303 non-null    int64  \n",
            " 2   cp        303 non-null    int64  \n",
            " 3   trestbps  303 non-null    int64  \n",
            " 4   chol      303 non-null    int64  \n",
            " 5   fbs       303 non-null    int64  \n",
            " 6   restecg   303 non-null    int64  \n",
            " 7   thalach   303 non-null    int64  \n",
            " 8   exang     303 non-null    int64  \n",
            " 9   oldpeak   303 non-null    float64\n",
            " 10  slope     303 non-null    int64  \n",
            " 11  ca        303 non-null    int64  \n",
            " 12  thal      303 non-null    int64  \n",
            " 13  sick      303 non-null    bool   \n",
            "dtypes: bool(1), float64(1), int64(12)\n",
            "memory usage: 31.2 KB\n"
          ],
          "name": "stdout"
        }
      ]
    },
    {
      "cell_type": "markdown",
      "metadata": {
        "id": "RzTb8LRLzwkx"
      },
      "source": [
        "[Use this area to describe any fields you believe will be problemmatic and why]\n",
        "\n",
        "My Answer:  All the columns in our dataframe are numeric (either int or float), however our target variable 'sick' is a boolean and may need to be modified."
      ]
    },
    {
      "cell_type": "markdown",
      "metadata": {
        "id": "L6Ngxsvjzwkx"
      },
      "source": [
        "### Determine if we're dealing with any null values. If so, report on which columns? "
      ]
    },
    {
      "cell_type": "markdown",
      "metadata": {
        "id": "5iaUnx0e4pUA"
      },
      "source": [
        ""
      ]
    },
    {
      "cell_type": "code",
      "metadata": {
        "colab": {
          "base_uri": "https://localhost:8080/"
        },
        "id": "OZSOp7_URgFu",
        "outputId": "44e6a7a4-ac33-49a2-869c-a92078a5cf46"
      },
      "source": [
        "heartdisease.isnull().any(axis=None)\n"
      ],
      "execution_count": 577,
      "outputs": [
        {
          "output_type": "execute_result",
          "data": {
            "text/plain": [
              "False"
            ]
          },
          "metadata": {
            "tags": []
          },
          "execution_count": 577
        }
      ]
    },
    {
      "cell_type": "code",
      "metadata": {
        "id": "O-I6FxeOzwky"
      },
      "source": [
        "# heartdisease[1:3][[\"sex\", \"sick\"]]"
      ],
      "execution_count": 578,
      "outputs": []
    },
    {
      "cell_type": "code",
      "metadata": {
        "id": "csGmqTIUOXc5"
      },
      "source": [
        "# heartdisease[\"sick\"]"
      ],
      "execution_count": 579,
      "outputs": []
    },
    {
      "cell_type": "markdown",
      "metadata": {
        "id": "fxyMbl98zwky"
      },
      "source": [
        "[Discuss here]\n",
        "\n",
        "There is no null values in this dataframe. "
      ]
    },
    {
      "cell_type": "markdown",
      "metadata": {
        "id": "Y_vv2E5Zzwky"
      },
      "source": [
        "### Before we begin our analysis we need to fix the field(s) that will be problematic. Specifically convert our boolean sick variable into a binary numeric target variable (values of either '0' or '1'), and then drop the original sick datafield from the dataframe. (hint: try label encoder or .astype()"
      ]
    },
    {
      "cell_type": "code",
      "metadata": {
        "id": "_XHDIAJszwkz",
        "colab": {
          "base_uri": "https://localhost:8080/"
        },
        "outputId": "527a9aa6-1943-4816-dc89-d8e3ab7ad2b3"
      },
      "source": [
        "heartdisease.dtypes"
      ],
      "execution_count": 580,
      "outputs": [
        {
          "output_type": "execute_result",
          "data": {
            "text/plain": [
              "age           int64\n",
              "sex           int64\n",
              "cp            int64\n",
              "trestbps      int64\n",
              "chol          int64\n",
              "fbs           int64\n",
              "restecg       int64\n",
              "thalach       int64\n",
              "exang         int64\n",
              "oldpeak     float64\n",
              "slope         int64\n",
              "ca            int64\n",
              "thal          int64\n",
              "sick           bool\n",
              "dtype: object"
            ]
          },
          "metadata": {
            "tags": []
          },
          "execution_count": 580
        }
      ]
    },
    {
      "cell_type": "code",
      "metadata": {
        "colab": {
          "base_uri": "https://localhost:8080/"
        },
        "id": "sBjkeD04UaIg",
        "outputId": "0c07526f-3aa8-482e-c4d9-37afa1248b84"
      },
      "source": [
        "heartdisease[\"sick\"].astype('int64').head(167)"
      ],
      "execution_count": 581,
      "outputs": [
        {
          "output_type": "execute_result",
          "data": {
            "text/plain": [
              "0      0\n",
              "1      0\n",
              "2      0\n",
              "3      0\n",
              "4      0\n",
              "      ..\n",
              "162    0\n",
              "163    0\n",
              "164    0\n",
              "165    1\n",
              "166    1\n",
              "Name: sick, Length: 167, dtype: int64"
            ]
          },
          "metadata": {
            "tags": []
          },
          "execution_count": 581
        }
      ]
    },
    {
      "cell_type": "code",
      "metadata": {
        "colab": {
          "base_uri": "https://localhost:8080/"
        },
        "id": "qs4f_rmiUh8R",
        "outputId": "e2540494-508a-496e-ec20-11ae4344bfbc"
      },
      "source": [
        "heartdisease['sick'].head(167)"
      ],
      "execution_count": 582,
      "outputs": [
        {
          "output_type": "execute_result",
          "data": {
            "text/plain": [
              "0      False\n",
              "1      False\n",
              "2      False\n",
              "3      False\n",
              "4      False\n",
              "       ...  \n",
              "162    False\n",
              "163    False\n",
              "164    False\n",
              "165     True\n",
              "166     True\n",
              "Name: sick, Length: 167, dtype: bool"
            ]
          },
          "metadata": {
            "tags": []
          },
          "execution_count": 582
        }
      ]
    },
    {
      "cell_type": "code",
      "metadata": {
        "colab": {
          "base_uri": "https://localhost:8080/"
        },
        "id": "KV5aD2pfVTQ9",
        "outputId": "1f5a19a9-2b8c-406c-f34d-faf8a9c0f4f7"
      },
      "source": [
        "boolean_sick_column = heartdisease[\"sick\"].astype('int64')\n",
        "boolean_sick_column"
      ],
      "execution_count": 583,
      "outputs": [
        {
          "output_type": "execute_result",
          "data": {
            "text/plain": [
              "0      0\n",
              "1      0\n",
              "2      0\n",
              "3      0\n",
              "4      0\n",
              "      ..\n",
              "298    1\n",
              "299    1\n",
              "300    1\n",
              "301    1\n",
              "302    1\n",
              "Name: sick, Length: 303, dtype: int64"
            ]
          },
          "metadata": {
            "tags": []
          },
          "execution_count": 583
        }
      ]
    },
    {
      "cell_type": "code",
      "metadata": {
        "id": "nbc0pp7JVbGs"
      },
      "source": [
        "heartdisease['sick'] = boolean_sick_column"
      ],
      "execution_count": 584,
      "outputs": []
    },
    {
      "cell_type": "code",
      "metadata": {
        "colab": {
          "base_uri": "https://localhost:8080/",
          "height": 402
        },
        "id": "eXTDqDZaVe4e",
        "outputId": "553c0504-57b5-432d-ca07-39bc206208f5"
      },
      "source": [
        "heartdisease.head(167)"
      ],
      "execution_count": 585,
      "outputs": [
        {
          "output_type": "execute_result",
          "data": {
            "text/html": [
              "<div>\n",
              "<style scoped>\n",
              "    .dataframe tbody tr th:only-of-type {\n",
              "        vertical-align: middle;\n",
              "    }\n",
              "\n",
              "    .dataframe tbody tr th {\n",
              "        vertical-align: top;\n",
              "    }\n",
              "\n",
              "    .dataframe thead th {\n",
              "        text-align: right;\n",
              "    }\n",
              "</style>\n",
              "<table border=\"1\" class=\"dataframe\">\n",
              "  <thead>\n",
              "    <tr style=\"text-align: right;\">\n",
              "      <th></th>\n",
              "      <th>age</th>\n",
              "      <th>sex</th>\n",
              "      <th>cp</th>\n",
              "      <th>trestbps</th>\n",
              "      <th>chol</th>\n",
              "      <th>fbs</th>\n",
              "      <th>restecg</th>\n",
              "      <th>thalach</th>\n",
              "      <th>exang</th>\n",
              "      <th>oldpeak</th>\n",
              "      <th>slope</th>\n",
              "      <th>ca</th>\n",
              "      <th>thal</th>\n",
              "      <th>sick</th>\n",
              "    </tr>\n",
              "  </thead>\n",
              "  <tbody>\n",
              "    <tr>\n",
              "      <th>0</th>\n",
              "      <td>63</td>\n",
              "      <td>1</td>\n",
              "      <td>3</td>\n",
              "      <td>145</td>\n",
              "      <td>233</td>\n",
              "      <td>1</td>\n",
              "      <td>0</td>\n",
              "      <td>150</td>\n",
              "      <td>0</td>\n",
              "      <td>2.3</td>\n",
              "      <td>0</td>\n",
              "      <td>0</td>\n",
              "      <td>1</td>\n",
              "      <td>0</td>\n",
              "    </tr>\n",
              "    <tr>\n",
              "      <th>1</th>\n",
              "      <td>37</td>\n",
              "      <td>1</td>\n",
              "      <td>2</td>\n",
              "      <td>130</td>\n",
              "      <td>250</td>\n",
              "      <td>0</td>\n",
              "      <td>1</td>\n",
              "      <td>187</td>\n",
              "      <td>0</td>\n",
              "      <td>3.5</td>\n",
              "      <td>0</td>\n",
              "      <td>0</td>\n",
              "      <td>2</td>\n",
              "      <td>0</td>\n",
              "    </tr>\n",
              "    <tr>\n",
              "      <th>2</th>\n",
              "      <td>41</td>\n",
              "      <td>0</td>\n",
              "      <td>1</td>\n",
              "      <td>130</td>\n",
              "      <td>204</td>\n",
              "      <td>0</td>\n",
              "      <td>0</td>\n",
              "      <td>172</td>\n",
              "      <td>0</td>\n",
              "      <td>1.4</td>\n",
              "      <td>2</td>\n",
              "      <td>0</td>\n",
              "      <td>2</td>\n",
              "      <td>0</td>\n",
              "    </tr>\n",
              "    <tr>\n",
              "      <th>3</th>\n",
              "      <td>56</td>\n",
              "      <td>1</td>\n",
              "      <td>1</td>\n",
              "      <td>120</td>\n",
              "      <td>236</td>\n",
              "      <td>0</td>\n",
              "      <td>1</td>\n",
              "      <td>178</td>\n",
              "      <td>0</td>\n",
              "      <td>0.8</td>\n",
              "      <td>2</td>\n",
              "      <td>0</td>\n",
              "      <td>2</td>\n",
              "      <td>0</td>\n",
              "    </tr>\n",
              "    <tr>\n",
              "      <th>4</th>\n",
              "      <td>57</td>\n",
              "      <td>0</td>\n",
              "      <td>0</td>\n",
              "      <td>120</td>\n",
              "      <td>354</td>\n",
              "      <td>0</td>\n",
              "      <td>1</td>\n",
              "      <td>163</td>\n",
              "      <td>1</td>\n",
              "      <td>0.6</td>\n",
              "      <td>2</td>\n",
              "      <td>0</td>\n",
              "      <td>2</td>\n",
              "      <td>0</td>\n",
              "    </tr>\n",
              "    <tr>\n",
              "      <th>...</th>\n",
              "      <td>...</td>\n",
              "      <td>...</td>\n",
              "      <td>...</td>\n",
              "      <td>...</td>\n",
              "      <td>...</td>\n",
              "      <td>...</td>\n",
              "      <td>...</td>\n",
              "      <td>...</td>\n",
              "      <td>...</td>\n",
              "      <td>...</td>\n",
              "      <td>...</td>\n",
              "      <td>...</td>\n",
              "      <td>...</td>\n",
              "      <td>...</td>\n",
              "    </tr>\n",
              "    <tr>\n",
              "      <th>162</th>\n",
              "      <td>41</td>\n",
              "      <td>1</td>\n",
              "      <td>1</td>\n",
              "      <td>120</td>\n",
              "      <td>157</td>\n",
              "      <td>0</td>\n",
              "      <td>1</td>\n",
              "      <td>182</td>\n",
              "      <td>0</td>\n",
              "      <td>0.0</td>\n",
              "      <td>2</td>\n",
              "      <td>0</td>\n",
              "      <td>2</td>\n",
              "      <td>0</td>\n",
              "    </tr>\n",
              "    <tr>\n",
              "      <th>163</th>\n",
              "      <td>38</td>\n",
              "      <td>1</td>\n",
              "      <td>2</td>\n",
              "      <td>138</td>\n",
              "      <td>175</td>\n",
              "      <td>0</td>\n",
              "      <td>1</td>\n",
              "      <td>173</td>\n",
              "      <td>0</td>\n",
              "      <td>0.0</td>\n",
              "      <td>2</td>\n",
              "      <td>4</td>\n",
              "      <td>2</td>\n",
              "      <td>0</td>\n",
              "    </tr>\n",
              "    <tr>\n",
              "      <th>164</th>\n",
              "      <td>38</td>\n",
              "      <td>1</td>\n",
              "      <td>2</td>\n",
              "      <td>138</td>\n",
              "      <td>175</td>\n",
              "      <td>0</td>\n",
              "      <td>1</td>\n",
              "      <td>173</td>\n",
              "      <td>0</td>\n",
              "      <td>0.0</td>\n",
              "      <td>2</td>\n",
              "      <td>4</td>\n",
              "      <td>2</td>\n",
              "      <td>0</td>\n",
              "    </tr>\n",
              "    <tr>\n",
              "      <th>165</th>\n",
              "      <td>67</td>\n",
              "      <td>1</td>\n",
              "      <td>0</td>\n",
              "      <td>160</td>\n",
              "      <td>286</td>\n",
              "      <td>0</td>\n",
              "      <td>0</td>\n",
              "      <td>108</td>\n",
              "      <td>1</td>\n",
              "      <td>1.5</td>\n",
              "      <td>1</td>\n",
              "      <td>3</td>\n",
              "      <td>2</td>\n",
              "      <td>1</td>\n",
              "    </tr>\n",
              "    <tr>\n",
              "      <th>166</th>\n",
              "      <td>67</td>\n",
              "      <td>1</td>\n",
              "      <td>0</td>\n",
              "      <td>120</td>\n",
              "      <td>229</td>\n",
              "      <td>0</td>\n",
              "      <td>0</td>\n",
              "      <td>129</td>\n",
              "      <td>1</td>\n",
              "      <td>2.6</td>\n",
              "      <td>1</td>\n",
              "      <td>2</td>\n",
              "      <td>3</td>\n",
              "      <td>1</td>\n",
              "    </tr>\n",
              "  </tbody>\n",
              "</table>\n",
              "<p>167 rows × 14 columns</p>\n",
              "</div>"
            ],
            "text/plain": [
              "     age  sex  cp  trestbps  chol  fbs  ...  exang  oldpeak  slope  ca  thal  sick\n",
              "0     63    1   3       145   233    1  ...      0      2.3      0   0     1     0\n",
              "1     37    1   2       130   250    0  ...      0      3.5      0   0     2     0\n",
              "2     41    0   1       130   204    0  ...      0      1.4      2   0     2     0\n",
              "3     56    1   1       120   236    0  ...      0      0.8      2   0     2     0\n",
              "4     57    0   0       120   354    0  ...      1      0.6      2   0     2     0\n",
              "..   ...  ...  ..       ...   ...  ...  ...    ...      ...    ...  ..   ...   ...\n",
              "162   41    1   1       120   157    0  ...      0      0.0      2   0     2     0\n",
              "163   38    1   2       138   175    0  ...      0      0.0      2   4     2     0\n",
              "164   38    1   2       138   175    0  ...      0      0.0      2   4     2     0\n",
              "165   67    1   0       160   286    0  ...      1      1.5      1   3     2     1\n",
              "166   67    1   0       120   229    0  ...      1      2.6      1   2     3     1\n",
              "\n",
              "[167 rows x 14 columns]"
            ]
          },
          "metadata": {
            "tags": []
          },
          "execution_count": 585
        }
      ]
    },
    {
      "cell_type": "markdown",
      "metadata": {
        "id": "3VRyqYYSzwkz"
      },
      "source": [
        "### Now that we have a feel for the data-types for each of the variables, plot histograms of each field and attempt to ascertain how each variable performs (is it a binary, or limited selection, or does it follow a gradient? "
      ]
    },
    {
      "cell_type": "code",
      "metadata": {
        "id": "bH8_Wxmpzwkz",
        "colab": {
          "base_uri": "https://localhost:8080/",
          "height": 1000
        },
        "outputId": "fb64910f-ac74-4e1c-988f-ae74d925a220"
      },
      "source": [
        "heartdisease.hist(bins=30, figsize=(20,15))"
      ],
      "execution_count": 586,
      "outputs": [
        {
          "output_type": "execute_result",
          "data": {
            "text/plain": [
              "array([[<matplotlib.axes._subplots.AxesSubplot object at 0x7f5ac0f12490>,\n",
              "        <matplotlib.axes._subplots.AxesSubplot object at 0x7f5ac0f37850>,\n",
              "        <matplotlib.axes._subplots.AxesSubplot object at 0x7f5ac0eee250>,\n",
              "        <matplotlib.axes._subplots.AxesSubplot object at 0x7f5ac0ea07d0>],\n",
              "       [<matplotlib.axes._subplots.AxesSubplot object at 0x7f5ac0e52d50>,\n",
              "        <matplotlib.axes._subplots.AxesSubplot object at 0x7f5ac0e17310>,\n",
              "        <matplotlib.axes._subplots.AxesSubplot object at 0x7f5ac0dcc910>,\n",
              "        <matplotlib.axes._subplots.AxesSubplot object at 0x7f5ac0d81dd0>],\n",
              "       [<matplotlib.axes._subplots.AxesSubplot object at 0x7f5ac0d81e10>,\n",
              "        <matplotlib.axes._subplots.AxesSubplot object at 0x7f5ac0d444d0>,\n",
              "        <matplotlib.axes._subplots.AxesSubplot object at 0x7f5ac0d2eed0>,\n",
              "        <matplotlib.axes._subplots.AxesSubplot object at 0x7f5ac0cee490>],\n",
              "       [<matplotlib.axes._subplots.AxesSubplot object at 0x7f5ac0ca5a10>,\n",
              "        <matplotlib.axes._subplots.AxesSubplot object at 0x7f5ac0c5cf90>,\n",
              "        <matplotlib.axes._subplots.AxesSubplot object at 0x7f5ac0c1d550>,\n",
              "        <matplotlib.axes._subplots.AxesSubplot object at 0x7f5ac0bd1ad0>]],\n",
              "      dtype=object)"
            ]
          },
          "metadata": {
            "tags": []
          },
          "execution_count": 586
        },
        {
          "output_type": "display_data",
          "data": {
            "image/png": "[encoded data removed]",
            "text/plain": [
              "<Figure size 1440x1080 with 16 Axes>"
            ]
          },
          "metadata": {
            "tags": [],
            "needs_background": "light"
          }
        }
      ]
    },
    {
      "cell_type": "code",
      "metadata": {
        "id": "3GiBSuG5Bp0e"
      },
      "source": [
        "# binary features are: sex, fbs, examg\n",
        "# limited selection features are: cp, restecg, slop, ca, thal\n",
        "# gradient features are: age, trestbps, chol, thalach, oldpeak. "
      ],
      "execution_count": 587,
      "outputs": []
    },
    {
      "cell_type": "markdown",
      "metadata": {
        "id": "kIpxHYEczwk0"
      },
      "source": [
        "### We also want to make sure we are dealing with a balanced dataset. In this case, we want to confirm whether or not we have an equitable number of  sick and healthy individuals to ensure that our classifier will have a sufficiently balanced dataset to adequately classify the two. Plot a histogram specifically of the sick target, and conduct a count of the number of sick and healthy individuals and report on the results: "
      ]
    },
    {
      "cell_type": "code",
      "metadata": {
        "id": "SErgE4DRzwk0",
        "colab": {
          "base_uri": "https://localhost:8080/",
          "height": 356
        },
        "outputId": "bcbc5767-c68f-4eef-8002-b374bf14d29f"
      },
      "source": [
        "counts, bins = np.histogram(heartdisease['sick'])\n",
        "heartdisease['sick'].hist(bins=bins, figsize=(5,5))\n",
        "counts, bins\n",
        "\n",
        "print(\"number of sick individuals: \", counts[9])\n",
        "print(\"number of healthy individuals: \", counts[0])\n"
      ],
      "execution_count": 588,
      "outputs": [
        {
          "output_type": "stream",
          "text": [
            "number of sick individuals:  138\n",
            "number of healthy individuals:  165\n"
          ],
          "name": "stdout"
        },
        {
          "output_type": "display_data",
          "data": {
            "image/png": "[encoded data removed]",
            "text/plain": [
              "<Figure size 360x360 with 1 Axes>"
            ]
          },
          "metadata": {
            "tags": [],
            "needs_background": "light"
          }
        }
      ]
    },
    {
      "cell_type": "markdown",
      "metadata": {
        "id": "F4ll7BoQzwk0"
      },
      "source": [
        "[Include description of findings here] "
      ]
    },
    {
      "cell_type": "markdown",
      "metadata": {
        "id": "qM3EDCtXzwk0"
      },
      "source": [
        "### Balanced datasets are important to ensure that classifiers train adequately and don't overfit, however arbitrary balancing of a dataset might introduce its own issues. Discuss some of the problems that might arise by artificially balancing a dataset."
      ]
    },
    {
      "cell_type": "markdown",
      "metadata": {
        "id": "0ogrE-BDzwk1"
      },
      "source": [
        "[Discuss prompt here] \n",
        "\n",
        "\n",
        "Balanced data are food for classification, but we loose information about the appearace frequencies, so it will affect the accuracy metrics and the production performance. Overbalancing the data will mkae the probability of being classified sick/healthy roughly 0.5. Thus, the classifier will forget about actual distribution of the target in the original sample. "
      ]
    },
    {
      "cell_type": "markdown",
      "metadata": {
        "id": "zVUgermLzwk1"
      },
      "source": [
        "### Now that we have our dataframe prepared let's start analyzing our data. For this next question let's look at the correlations of our variables to our target value. First, map out the correlations between the values, and then discuss the relationships you observe. Do some research on the variables to understand why they may relate to the observed corellations. Intuitively, why do you think some variables correlate more highly than others (hint: one possible approach you can use the sns heatmap function to map the corr() method)?"
      ]
    },
    {
      "cell_type": "code",
      "metadata": {
        "id": "roVpDRrjzwk1",
        "colab": {
          "base_uri": "https://localhost:8080/"
        },
        "outputId": "00ae847f-68b1-4b62-b563-e0d673954a3c"
      },
      "source": [
        "from pandas.plotting import scatter_matrix\n",
        "\n",
        "heartdisease.columns\n"
      ],
      "execution_count": 589,
      "outputs": [
        {
          "output_type": "execute_result",
          "data": {
            "text/plain": [
              "Index(['age', 'sex', 'cp', 'trestbps', 'chol', 'fbs', 'restecg', 'thalach',\n",
              "       'exang', 'oldpeak', 'slope', 'ca', 'thal', 'sick'],\n",
              "      dtype='object')"
            ]
          },
          "metadata": {
            "tags": []
          },
          "execution_count": 589
        }
      ]
    },
    {
      "cell_type": "code",
      "metadata": {
        "colab": {
          "base_uri": "https://localhost:8080/",
          "height": 462
        },
        "id": "GH9MkpAkLMDB",
        "outputId": "2354971f-7625-4cef-caf7-800a35173012"
      },
      "source": [
        "heartdisease.corr()"
      ],
      "execution_count": 590,
      "outputs": [
        {
          "output_type": "execute_result",
          "data": {
            "text/html": [
              "<div>\n",
              "<style scoped>\n",
              "    .dataframe tbody tr th:only-of-type {\n",
              "        vertical-align: middle;\n",
              "    }\n",
              "\n",
              "    .dataframe tbody tr th {\n",
              "        vertical-align: top;\n",
              "    }\n",
              "\n",
              "    .dataframe thead th {\n",
              "        text-align: right;\n",
              "    }\n",
              "</style>\n",
              "<table border=\"1\" class=\"dataframe\">\n",
              "  <thead>\n",
              "    <tr style=\"text-align: right;\">\n",
              "      <th></th>\n",
              "      <th>age</th>\n",
              "      <th>sex</th>\n",
              "      <th>cp</th>\n",
              "      <th>trestbps</th>\n",
              "      <th>chol</th>\n",
              "      <th>fbs</th>\n",
              "      <th>restecg</th>\n",
              "      <th>thalach</th>\n",
              "      <th>exang</th>\n",
              "      <th>oldpeak</th>\n",
              "      <th>slope</th>\n",
              "      <th>ca</th>\n",
              "      <th>thal</th>\n",
              "      <th>sick</th>\n",
              "    </tr>\n",
              "  </thead>\n",
              "  <tbody>\n",
              "    <tr>\n",
              "      <th>age</th>\n",
              "      <td>1.000000</td>\n",
              "      <td>-0.098447</td>\n",
              "      <td>-0.068653</td>\n",
              "      <td>0.279351</td>\n",
              "      <td>0.213678</td>\n",
              "      <td>0.121308</td>\n",
              "      <td>-0.116211</td>\n",
              "      <td>-0.398522</td>\n",
              "      <td>0.096801</td>\n",
              "      <td>0.210013</td>\n",
              "      <td>-0.168814</td>\n",
              "      <td>0.276326</td>\n",
              "      <td>0.068001</td>\n",
              "      <td>0.225439</td>\n",
              "    </tr>\n",
              "    <tr>\n",
              "      <th>sex</th>\n",
              "      <td>-0.098447</td>\n",
              "      <td>1.000000</td>\n",
              "      <td>-0.049353</td>\n",
              "      <td>-0.056769</td>\n",
              "      <td>-0.197912</td>\n",
              "      <td>0.045032</td>\n",
              "      <td>-0.058196</td>\n",
              "      <td>-0.044020</td>\n",
              "      <td>0.141664</td>\n",
              "      <td>0.096093</td>\n",
              "      <td>-0.030711</td>\n",
              "      <td>0.118261</td>\n",
              "      <td>0.210041</td>\n",
              "      <td>0.280937</td>\n",
              "    </tr>\n",
              "    <tr>\n",
              "      <th>cp</th>\n",
              "      <td>-0.068653</td>\n",
              "      <td>-0.049353</td>\n",
              "      <td>1.000000</td>\n",
              "      <td>0.047608</td>\n",
              "      <td>-0.076904</td>\n",
              "      <td>0.094444</td>\n",
              "      <td>0.044421</td>\n",
              "      <td>0.295762</td>\n",
              "      <td>-0.394280</td>\n",
              "      <td>-0.149230</td>\n",
              "      <td>0.119717</td>\n",
              "      <td>-0.181053</td>\n",
              "      <td>-0.161736</td>\n",
              "      <td>-0.433798</td>\n",
              "    </tr>\n",
              "    <tr>\n",
              "      <th>trestbps</th>\n",
              "      <td>0.279351</td>\n",
              "      <td>-0.056769</td>\n",
              "      <td>0.047608</td>\n",
              "      <td>1.000000</td>\n",
              "      <td>0.123174</td>\n",
              "      <td>0.177531</td>\n",
              "      <td>-0.114103</td>\n",
              "      <td>-0.046698</td>\n",
              "      <td>0.067616</td>\n",
              "      <td>0.193216</td>\n",
              "      <td>-0.121475</td>\n",
              "      <td>0.101389</td>\n",
              "      <td>0.062210</td>\n",
              "      <td>0.144931</td>\n",
              "    </tr>\n",
              "    <tr>\n",
              "      <th>chol</th>\n",
              "      <td>0.213678</td>\n",
              "      <td>-0.197912</td>\n",
              "      <td>-0.076904</td>\n",
              "      <td>0.123174</td>\n",
              "      <td>1.000000</td>\n",
              "      <td>0.013294</td>\n",
              "      <td>-0.151040</td>\n",
              "      <td>-0.009940</td>\n",
              "      <td>0.067023</td>\n",
              "      <td>0.053952</td>\n",
              "      <td>-0.004038</td>\n",
              "      <td>0.070511</td>\n",
              "      <td>0.098803</td>\n",
              "      <td>0.085239</td>\n",
              "    </tr>\n",
              "    <tr>\n",
              "      <th>fbs</th>\n",
              "      <td>0.121308</td>\n",
              "      <td>0.045032</td>\n",
              "      <td>0.094444</td>\n",
              "      <td>0.177531</td>\n",
              "      <td>0.013294</td>\n",
              "      <td>1.000000</td>\n",
              "      <td>-0.084189</td>\n",
              "      <td>-0.008567</td>\n",
              "      <td>0.025665</td>\n",
              "      <td>0.005747</td>\n",
              "      <td>-0.059894</td>\n",
              "      <td>0.137979</td>\n",
              "      <td>-0.032019</td>\n",
              "      <td>0.028046</td>\n",
              "    </tr>\n",
              "    <tr>\n",
              "      <th>restecg</th>\n",
              "      <td>-0.116211</td>\n",
              "      <td>-0.058196</td>\n",
              "      <td>0.044421</td>\n",
              "      <td>-0.114103</td>\n",
              "      <td>-0.151040</td>\n",
              "      <td>-0.084189</td>\n",
              "      <td>1.000000</td>\n",
              "      <td>0.044123</td>\n",
              "      <td>-0.070733</td>\n",
              "      <td>-0.058770</td>\n",
              "      <td>0.093045</td>\n",
              "      <td>-0.072042</td>\n",
              "      <td>-0.011981</td>\n",
              "      <td>-0.137230</td>\n",
              "    </tr>\n",
              "    <tr>\n",
              "      <th>thalach</th>\n",
              "      <td>-0.398522</td>\n",
              "      <td>-0.044020</td>\n",
              "      <td>0.295762</td>\n",
              "      <td>-0.046698</td>\n",
              "      <td>-0.009940</td>\n",
              "      <td>-0.008567</td>\n",
              "      <td>0.044123</td>\n",
              "      <td>1.000000</td>\n",
              "      <td>-0.378812</td>\n",
              "      <td>-0.344187</td>\n",
              "      <td>0.386784</td>\n",
              "      <td>-0.213177</td>\n",
              "      <td>-0.096439</td>\n",
              "      <td>-0.421741</td>\n",
              "    </tr>\n",
              "    <tr>\n",
              "      <th>exang</th>\n",
              "      <td>0.096801</td>\n",
              "      <td>0.141664</td>\n",
              "      <td>-0.394280</td>\n",
              "      <td>0.067616</td>\n",
              "      <td>0.067023</td>\n",
              "      <td>0.025665</td>\n",
              "      <td>-0.070733</td>\n",
              "      <td>-0.378812</td>\n",
              "      <td>1.000000</td>\n",
              "      <td>0.288223</td>\n",
              "      <td>-0.257748</td>\n",
              "      <td>0.115739</td>\n",
              "      <td>0.206754</td>\n",
              "      <td>0.436757</td>\n",
              "    </tr>\n",
              "    <tr>\n",
              "      <th>oldpeak</th>\n",
              "      <td>0.210013</td>\n",
              "      <td>0.096093</td>\n",
              "      <td>-0.149230</td>\n",
              "      <td>0.193216</td>\n",
              "      <td>0.053952</td>\n",
              "      <td>0.005747</td>\n",
              "      <td>-0.058770</td>\n",
              "      <td>-0.344187</td>\n",
              "      <td>0.288223</td>\n",
              "      <td>1.000000</td>\n",
              "      <td>-0.577537</td>\n",
              "      <td>0.222682</td>\n",
              "      <td>0.210244</td>\n",
              "      <td>0.430696</td>\n",
              "    </tr>\n",
              "    <tr>\n",
              "      <th>slope</th>\n",
              "      <td>-0.168814</td>\n",
              "      <td>-0.030711</td>\n",
              "      <td>0.119717</td>\n",
              "      <td>-0.121475</td>\n",
              "      <td>-0.004038</td>\n",
              "      <td>-0.059894</td>\n",
              "      <td>0.093045</td>\n",
              "      <td>0.386784</td>\n",
              "      <td>-0.257748</td>\n",
              "      <td>-0.577537</td>\n",
              "      <td>1.000000</td>\n",
              "      <td>-0.080155</td>\n",
              "      <td>-0.104764</td>\n",
              "      <td>-0.345877</td>\n",
              "    </tr>\n",
              "    <tr>\n",
              "      <th>ca</th>\n",
              "      <td>0.276326</td>\n",
              "      <td>0.118261</td>\n",
              "      <td>-0.181053</td>\n",
              "      <td>0.101389</td>\n",
              "      <td>0.070511</td>\n",
              "      <td>0.137979</td>\n",
              "      <td>-0.072042</td>\n",
              "      <td>-0.213177</td>\n",
              "      <td>0.115739</td>\n",
              "      <td>0.222682</td>\n",
              "      <td>-0.080155</td>\n",
              "      <td>1.000000</td>\n",
              "      <td>0.151832</td>\n",
              "      <td>0.391724</td>\n",
              "    </tr>\n",
              "    <tr>\n",
              "      <th>thal</th>\n",
              "      <td>0.068001</td>\n",
              "      <td>0.210041</td>\n",
              "      <td>-0.161736</td>\n",
              "      <td>0.062210</td>\n",
              "      <td>0.098803</td>\n",
              "      <td>-0.032019</td>\n",
              "      <td>-0.011981</td>\n",
              "      <td>-0.096439</td>\n",
              "      <td>0.206754</td>\n",
              "      <td>0.210244</td>\n",
              "      <td>-0.104764</td>\n",
              "      <td>0.151832</td>\n",
              "      <td>1.000000</td>\n",
              "      <td>0.344029</td>\n",
              "    </tr>\n",
              "    <tr>\n",
              "      <th>sick</th>\n",
              "      <td>0.225439</td>\n",
              "      <td>0.280937</td>\n",
              "      <td>-0.433798</td>\n",
              "      <td>0.144931</td>\n",
              "      <td>0.085239</td>\n",
              "      <td>0.028046</td>\n",
              "      <td>-0.137230</td>\n",
              "      <td>-0.421741</td>\n",
              "      <td>0.436757</td>\n",
              "      <td>0.430696</td>\n",
              "      <td>-0.345877</td>\n",
              "      <td>0.391724</td>\n",
              "      <td>0.344029</td>\n",
              "      <td>1.000000</td>\n",
              "    </tr>\n",
              "  </tbody>\n",
              "</table>\n",
              "</div>"
            ],
            "text/plain": [
              "               age       sex        cp  ...        ca      thal      sick\n",
              "age       1.000000 -0.098447 -0.068653  ...  0.276326  0.068001  0.225439\n",
              "sex      -0.098447  1.000000 -0.049353  ...  0.118261  0.210041  0.280937\n",
              "cp       -0.068653 -0.049353  1.000000  ... -0.181053 -0.161736 -0.433798\n",
              "trestbps  0.279351 -0.056769  0.047608  ...  0.101389  0.062210  0.144931\n",
              "chol      0.213678 -0.197912 -0.076904  ...  0.070511  0.098803  0.085239\n",
              "fbs       0.121308  0.045032  0.094444  ...  0.137979 -0.032019  0.028046\n",
              "restecg  -0.116211 -0.058196  0.044421  ... -0.072042 -0.011981 -0.137230\n",
              "thalach  -0.398522 -0.044020  0.295762  ... -0.213177 -0.096439 -0.421741\n",
              "exang     0.096801  0.141664 -0.394280  ...  0.115739  0.206754  0.436757\n",
              "oldpeak   0.210013  0.096093 -0.149230  ...  0.222682  0.210244  0.430696\n",
              "slope    -0.168814 -0.030711  0.119717  ... -0.080155 -0.104764 -0.345877\n",
              "ca        0.276326  0.118261 -0.181053  ...  1.000000  0.151832  0.391724\n",
              "thal      0.068001  0.210041 -0.161736  ...  0.151832  1.000000  0.344029\n",
              "sick      0.225439  0.280937 -0.433798  ...  0.391724  0.344029  1.000000\n",
              "\n",
              "[14 rows x 14 columns]"
            ]
          },
          "metadata": {
            "tags": []
          },
          "execution_count": 590
        }
      ]
    },
    {
      "cell_type": "code",
      "metadata": {
        "colab": {
          "base_uri": "https://localhost:8080/",
          "height": 324
        },
        "id": "s4tgpUFENEmW",
        "outputId": "728828a2-afa9-476e-a9b6-7a7b5919e5b7"
      },
      "source": [
        "import numpy as np; np.random.seed(0)\n",
        "import seaborn as sns; sns.set_theme()\n",
        "\n",
        "sns.heatmap(heartdisease.corr())"
      ],
      "execution_count": 591,
      "outputs": [
        {
          "output_type": "execute_result",
          "data": {
            "text/plain": [
              "<matplotlib.axes._subplots.AxesSubplot at 0x7f5ac0fcf450>"
            ]
          },
          "metadata": {
            "tags": []
          },
          "execution_count": 591
        },
        {
          "output_type": "display_data",
          "data": {
            "image/png": "[encoded data removed]",
            "text/plain": [
              "<Figure size 432x288 with 2 Axes>"
            ]
          },
          "metadata": {
            "tags": []
          }
        }
      ]
    },
    {
      "cell_type": "markdown",
      "metadata": {
        "id": "yuv-i68Rzwk1"
      },
      "source": [
        "[Discuss correlations here] \n",
        "\n",
        "From the heatmap, we can easily see which columns are correlated to each other lightly or strongly. For example, we can tell thalach and slop column are strongly correlated. \n",
        "\n",
        "For the target, sick columnm, we find that exang and oldpeak ca, thal are strongly correlated to the target. Cp and thalach column is not very correlated to sick coloumn. \n"
      ]
    },
    {
      "cell_type": "markdown",
      "metadata": {
        "id": "cuqZd6b1zwk2"
      },
      "source": [
        "## Part 2. Prepare the Data and run a KNN Model"
      ]
    },
    {
      "cell_type": "markdown",
      "metadata": {
        "id": "m7JSVUs3zwk2"
      },
      "source": [
        "Before running our various learning methods, we need to do some additional prep to finalize our data. Specifically you'll have to cut the classification target from the data that will be used to classify, and then you'll have to divide the dataset into training and testing cohorts.\n",
        "\n",
        "Specifically, we're going to ask you to prepare 2 batches of data: 1. Will simply be the raw numeric data that hasn't gone through any additional pre-processing. The other, will be data that you pipeline using your own selected methods. We will then feed both of these datasets into a classifier to showcase just how important this step can be!"
      ]
    },
    {
      "cell_type": "markdown",
      "metadata": {
        "id": "39hfSlVEzwk2"
      },
      "source": [
        "### Save the label column as a separate array and then drop it from the dataframe. "
      ]
    },
    {
      "cell_type": "code",
      "metadata": {
        "id": "-KrlMADZzwk3"
      },
      "source": [
        "y = heartdisease['sick']\n",
        "X = heartdisease.drop(columns=['sick'])"
      ],
      "execution_count": 592,
      "outputs": []
    },
    {
      "cell_type": "markdown",
      "metadata": {
        "id": "9iHH439kzwk3"
      },
      "source": [
        "### First Create your 'Raw' unprocessed training data by dividing your dataframe into training and testing cohorts, with your training cohort consisting of 80% of your total dataframe (hint: use the train_test_split method) Output the resulting shapes of your training and testing samples to confirm that your split was successful."
      ]
    },
    {
      "cell_type": "code",
      "metadata": {
        "id": "9VSIBA4hzwk3"
      },
      "source": [
        "X_train, X_test, y_train, y_test = train_test_split(X, y, test_size=0.2, random_state=42)"
      ],
      "execution_count": 593,
      "outputs": []
    },
    {
      "cell_type": "code",
      "metadata": {
        "colab": {
          "base_uri": "https://localhost:8080/"
        },
        "id": "NLdnQWANQlMv",
        "outputId": "b5a87bca-6980-4d2f-bdc3-386f821aa98c"
      },
      "source": [
        "print(X_train.shape)\n",
        "print(y_train.shape)\n",
        "print(X_test.shape)\n",
        "print(y_test.shape)"
      ],
      "execution_count": 594,
      "outputs": [
        {
          "output_type": "stream",
          "text": [
            "(242, 13)\n",
            "(242,)\n",
            "(61, 13)\n",
            "(61,)\n"
          ],
          "name": "stdout"
        }
      ]
    },
    {
      "cell_type": "markdown",
      "metadata": {
        "id": "3p1LJr4izwk3"
      },
      "source": [
        "### In lecture we learned about K-Nearest Neighbor. One thing we noted was because KNN's rely on Euclidean distance, they are highly sensitive to the relative magnitude of different features. Let's see that in action! Implement a K-Nearest Neighbor algorithm on our data and report the results. For this initial implementation simply use the default settings. Refer to the [KNN Documentation](https://scikit-learn.org/stable/modules/generated/sklearn.neighbors.KNeighborsClassifier.html) for details on implementation. Report on the accuracy of the resulting model."
      ]
    },
    {
      "cell_type": "code",
      "metadata": {
        "id": "bP60ZM6Mzwk3",
        "colab": {
          "base_uri": "https://localhost:8080/"
        },
        "outputId": "b1be7d8a-7f3b-403b-9a3f-44a9673c8f07"
      },
      "source": [
        "# k-Nearest Neighbors algorithm\n",
        "from sklearn.neighbors import KNeighborsClassifier\n",
        "\n",
        "knn_model = KNeighborsClassifier()\n",
        "knn_model.fit(X_train, y_train)\n",
        "\n",
        "\n",
        "accuracy = knn_model.score(X_test, y_test)\n",
        "\n",
        "print(knn_model.predict(X_test))\n",
        "print(y_test.to_numpy())\n",
        "print(\"Accuracy: \", accuracy)"
      ],
      "execution_count": 595,
      "outputs": [
        {
          "output_type": "stream",
          "text": [
            "[1 0 0 0 1 0 0 1 1 0 1 1 0 0 0 0 0 0 0 1 1 1 1 0 0 0 1 0 1 0 1 1 1 0 1 1 0\n",
            " 0 0 0 0 0 1 0 0 1 0 0 1 0 0 1 1 0 0 1 1 0 1 0 1]\n",
            "[1 1 0 1 0 0 0 1 1 0 0 0 0 1 0 0 0 1 1 1 0 1 1 0 0 1 1 0 1 0 0 1 1 0 0 1 0\n",
            " 0 0 0 0 0 0 0 0 1 1 0 1 1 1 1 0 0 1 1 1 0 1 1 1]\n",
            "Accuracy:  0.6885245901639344\n"
          ],
          "name": "stdout"
        }
      ]
    },
    {
      "cell_type": "markdown",
      "metadata": {
        "id": "lgpk7p7qzwk4"
      },
      "source": [
        "### Now implement a pipeline of your choice. You can opt to handle categoricals however you wish, however please scale your numeric features using standard scaler"
      ]
    },
    {
      "cell_type": "markdown",
      "metadata": {
        "id": "FWEdiQW9zwk4"
      },
      "source": [
        "### Pipeline:"
      ]
    },
    {
      "cell_type": "markdown",
      "metadata": {
        "id": "kdWahPZ0T6rJ"
      },
      "source": [
        "There are several categorial featuream, but the weight of the categorial feature matters, so i don't need to use hot vector. I would like to use standardScaler to prepare the data"
      ]
    },
    {
      "cell_type": "code",
      "metadata": {
        "id": "2kuktIHCzwk4",
        "colab": {
          "base_uri": "https://localhost:8080/"
        },
        "outputId": "ef6e9672-566b-4850-e48e-b8535f936f8f"
      },
      "source": [
        "from sklearn.svm import SVC\n",
        "from sklearn.preprocessing import StandardScaler\n",
        "from sklearn.datasets import make_classification\n",
        "from sklearn.model_selection import train_test_split\n",
        "from sklearn.pipeline import Pipeline\n",
        "\n",
        "pipe = Pipeline([('scaler', StandardScaler())])\n",
        "X_prepared = pipe.fit_transform(X)\n",
        "y_prepared = y\n",
        "\n",
        "print(X_prepared.shape) \n",
        "print(y_prepared.shape) "
      ],
      "execution_count": 596,
      "outputs": [
        {
          "output_type": "stream",
          "text": [
            "(303, 13)\n",
            "(303,)\n"
          ],
          "name": "stdout"
        }
      ]
    },
    {
      "cell_type": "code",
      "metadata": {
        "colab": {
          "base_uri": "https://localhost:8080/",
          "height": 388
        },
        "id": "g20nHGOaVO8Z",
        "outputId": "060db18d-9d3f-4e98-d5b1-f6ab9b5669d2"
      },
      "source": [
        "pd.DataFrame(X_prepared).describe()"
      ],
      "execution_count": 597,
      "outputs": [
        {
          "output_type": "execute_result",
          "data": {
            "text/html": [
              "<div>\n",
              "<style scoped>\n",
              "    .dataframe tbody tr th:only-of-type {\n",
              "        vertical-align: middle;\n",
              "    }\n",
              "\n",
              "    .dataframe tbody tr th {\n",
              "        vertical-align: top;\n",
              "    }\n",
              "\n",
              "    .dataframe thead th {\n",
              "        text-align: right;\n",
              "    }\n",
              "</style>\n",
              "<table border=\"1\" class=\"dataframe\">\n",
              "  <thead>\n",
              "    <tr style=\"text-align: right;\">\n",
              "      <th></th>\n",
              "      <th>0</th>\n",
              "      <th>1</th>\n",
              "      <th>2</th>\n",
              "      <th>3</th>\n",
              "      <th>4</th>\n",
              "      <th>5</th>\n",
              "      <th>6</th>\n",
              "      <th>7</th>\n",
              "      <th>8</th>\n",
              "      <th>9</th>\n",
              "      <th>10</th>\n",
              "      <th>11</th>\n",
              "      <th>12</th>\n",
              "    </tr>\n",
              "  </thead>\n",
              "  <tbody>\n",
              "    <tr>\n",
              "      <th>count</th>\n",
              "      <td>3.030000e+02</td>\n",
              "      <td>3.030000e+02</td>\n",
              "      <td>3.030000e+02</td>\n",
              "      <td>3.030000e+02</td>\n",
              "      <td>3.030000e+02</td>\n",
              "      <td>3.030000e+02</td>\n",
              "      <td>3.030000e+02</td>\n",
              "      <td>3.030000e+02</td>\n",
              "      <td>3.030000e+02</td>\n",
              "      <td>3.030000e+02</td>\n",
              "      <td>3.030000e+02</td>\n",
              "      <td>3.030000e+02</td>\n",
              "      <td>3.030000e+02</td>\n",
              "    </tr>\n",
              "    <tr>\n",
              "      <th>mean</th>\n",
              "      <td>5.825923e-17</td>\n",
              "      <td>-1.319077e-17</td>\n",
              "      <td>-5.562565e-17</td>\n",
              "      <td>-7.146832e-16</td>\n",
              "      <td>-9.828955e-17</td>\n",
              "      <td>-3.664102e-19</td>\n",
              "      <td>2.652810e-16</td>\n",
              "      <td>-5.203025e-16</td>\n",
              "      <td>-5.203025e-16</td>\n",
              "      <td>-3.140136e-16</td>\n",
              "      <td>1.355718e-16</td>\n",
              "      <td>4.752341e-16</td>\n",
              "      <td>3.484561e-16</td>\n",
              "    </tr>\n",
              "    <tr>\n",
              "      <th>std</th>\n",
              "      <td>1.001654e+00</td>\n",
              "      <td>1.001654e+00</td>\n",
              "      <td>1.001654e+00</td>\n",
              "      <td>1.001654e+00</td>\n",
              "      <td>1.001654e+00</td>\n",
              "      <td>1.001654e+00</td>\n",
              "      <td>1.001654e+00</td>\n",
              "      <td>1.001654e+00</td>\n",
              "      <td>1.001654e+00</td>\n",
              "      <td>1.001654e+00</td>\n",
              "      <td>1.001654e+00</td>\n",
              "      <td>1.001654e+00</td>\n",
              "      <td>1.001654e+00</td>\n",
              "    </tr>\n",
              "    <tr>\n",
              "      <th>min</th>\n",
              "      <td>-2.797624e+00</td>\n",
              "      <td>-1.468418e+00</td>\n",
              "      <td>-9.385146e-01</td>\n",
              "      <td>-2.148802e+00</td>\n",
              "      <td>-2.324160e+00</td>\n",
              "      <td>-4.176345e-01</td>\n",
              "      <td>-1.005832e+00</td>\n",
              "      <td>-3.439267e+00</td>\n",
              "      <td>-6.966305e-01</td>\n",
              "      <td>-8.968617e-01</td>\n",
              "      <td>-2.274579e+00</td>\n",
              "      <td>-7.144289e-01</td>\n",
              "      <td>-3.784824e+00</td>\n",
              "    </tr>\n",
              "    <tr>\n",
              "      <th>25%</th>\n",
              "      <td>-7.572802e-01</td>\n",
              "      <td>-1.468418e+00</td>\n",
              "      <td>-9.385146e-01</td>\n",
              "      <td>-6.638668e-01</td>\n",
              "      <td>-6.814943e-01</td>\n",
              "      <td>-4.176345e-01</td>\n",
              "      <td>-1.005832e+00</td>\n",
              "      <td>-7.061105e-01</td>\n",
              "      <td>-6.966305e-01</td>\n",
              "      <td>-8.968617e-01</td>\n",
              "      <td>-6.491132e-01</td>\n",
              "      <td>-7.144289e-01</td>\n",
              "      <td>-5.129219e-01</td>\n",
              "    </tr>\n",
              "    <tr>\n",
              "      <th>50%</th>\n",
              "      <td>6.988599e-02</td>\n",
              "      <td>6.810052e-01</td>\n",
              "      <td>3.203122e-02</td>\n",
              "      <td>-9.273778e-02</td>\n",
              "      <td>-1.210553e-01</td>\n",
              "      <td>-4.176345e-01</td>\n",
              "      <td>8.989622e-01</td>\n",
              "      <td>1.466343e-01</td>\n",
              "      <td>-6.966305e-01</td>\n",
              "      <td>-2.067053e-01</td>\n",
              "      <td>-6.491132e-01</td>\n",
              "      <td>-7.144289e-01</td>\n",
              "      <td>-5.129219e-01</td>\n",
              "    </tr>\n",
              "    <tr>\n",
              "      <th>75%</th>\n",
              "      <td>7.316189e-01</td>\n",
              "      <td>6.810052e-01</td>\n",
              "      <td>1.002577e+00</td>\n",
              "      <td>4.783913e-01</td>\n",
              "      <td>5.456738e-01</td>\n",
              "      <td>-4.176345e-01</td>\n",
              "      <td>8.989622e-01</td>\n",
              "      <td>7.151309e-01</td>\n",
              "      <td>1.435481e+00</td>\n",
              "      <td>4.834512e-01</td>\n",
              "      <td>9.763521e-01</td>\n",
              "      <td>2.650822e-01</td>\n",
              "      <td>1.123029e+00</td>\n",
              "    </tr>\n",
              "    <tr>\n",
              "      <th>max</th>\n",
              "      <td>2.496240e+00</td>\n",
              "      <td>6.810052e-01</td>\n",
              "      <td>1.973123e+00</td>\n",
              "      <td>3.905165e+00</td>\n",
              "      <td>6.140401e+00</td>\n",
              "      <td>2.394438e+00</td>\n",
              "      <td>2.803756e+00</td>\n",
              "      <td>2.289429e+00</td>\n",
              "      <td>1.435481e+00</td>\n",
              "      <td>4.451851e+00</td>\n",
              "      <td>9.763521e-01</td>\n",
              "      <td>3.203615e+00</td>\n",
              "      <td>1.123029e+00</td>\n",
              "    </tr>\n",
              "  </tbody>\n",
              "</table>\n",
              "</div>"
            ],
            "text/plain": [
              "                 0             1   ...            11            12\n",
              "count  3.030000e+02  3.030000e+02  ...  3.030000e+02  3.030000e+02\n",
              "mean   5.825923e-17 -1.319077e-17  ...  4.752341e-16  3.484561e-16\n",
              "std    1.001654e+00  1.001654e+00  ...  1.001654e+00  1.001654e+00\n",
              "min   -2.797624e+00 -1.468418e+00  ... -7.144289e-01 -3.784824e+00\n",
              "25%   -7.572802e-01 -1.468418e+00  ... -7.144289e-01 -5.129219e-01\n",
              "50%    6.988599e-02  6.810052e-01  ... -7.144289e-01 -5.129219e-01\n",
              "75%    7.316189e-01  6.810052e-01  ...  2.650822e-01  1.123029e+00\n",
              "max    2.496240e+00  6.810052e-01  ...  3.203615e+00  1.123029e+00\n",
              "\n",
              "[8 rows x 13 columns]"
            ]
          },
          "metadata": {
            "tags": []
          },
          "execution_count": 597
        }
      ]
    },
    {
      "cell_type": "markdown",
      "metadata": {
        "id": "M3m39aqdzwk4"
      },
      "source": [
        "### Now split your pipelined data into an 80/20 split and again run the same KNN, and report out on it's accuracy. Discuss the implications of the different results you are obtaining."
      ]
    },
    {
      "cell_type": "code",
      "metadata": {
        "id": "QcLSt8BHzwk5"
      },
      "source": [
        "# k-Nearest Neighbors algorithm\n",
        "X_train, X_test, y_train, y_test = train_test_split(X_prepared, y_prepared, test_size=0.2, random_state=42)\n"
      ],
      "execution_count": 598,
      "outputs": []
    },
    {
      "cell_type": "code",
      "metadata": {
        "id": "FkT5-SFSzwk5",
        "colab": {
          "base_uri": "https://localhost:8080/"
        },
        "outputId": "3b0b56b7-b82c-449c-a258-6d7a153b5726"
      },
      "source": [
        "# Accuracy\n",
        "# k-Nearest Neighbors algorithm\n",
        "from sklearn.neighbors import KNeighborsClassifier\n",
        "knn_model = KNeighborsClassifier()\n",
        "knn_model.fit(X_train, y_train)\n",
        "\n",
        "print(\"Prediction: \", neigh.predict(X_test))\n",
        "print(\"Real labels: \",  y_test.to_numpy())\n",
        "\n",
        "accuracy = knn_model.score(X_test, y_test)\n",
        "print(\"Accuracy: \", accuracy)\n"
      ],
      "execution_count": 599,
      "outputs": [
        {
          "output_type": "stream",
          "text": [
            "Prediction:  [1 0 0 1 0 0 0 1 1 0 0 1 0 1 0 0 0 1 1 1 0 1 1 0 0 0 0 0 1 0 1 1 1 1 0 1 0\n",
            " 0 0 0 0 0 0 0 0 1 0 0 1 1 1 1 0 0 1 1 1 0 1 1 1]\n",
            "Real labels:  [1 1 0 1 0 0 0 1 1 0 0 0 0 1 0 0 0 1 1 1 0 1 1 0 0 1 1 0 1 0 0 1 1 0 0 1 0\n",
            " 0 0 0 0 0 0 0 0 1 1 0 1 1 1 1 0 0 1 1 1 0 1 1 1]\n",
            "Accuracy:  0.9180327868852459\n"
          ],
          "name": "stdout"
        }
      ]
    },
    {
      "cell_type": "markdown",
      "metadata": {
        "id": "dwKgGYqQzwk5"
      },
      "source": [
        "[Discuss Results here]\n",
        "\n",
        "\n",
        "The accuracy is 0.9180327868852459"
      ]
    },
    {
      "cell_type": "markdown",
      "metadata": {
        "id": "89yc0hn5zwk5"
      },
      "source": [
        "### Parameter Optimization.  As we saw in lecture, the KNN Algorithm includes an n_neighbors attribute that specifies how many neighbors to use when developing the cluster. (The default value is 5, which is what your previous model used.) Lets now try n values of: 1, 2, 3, 5, 7, 9, 10, 20, and 50. Run your model for each value and report the accuracy for each. (HINT leverage python's ability to loop to run through the array and generate results without needing to manually code each iteration)."
      ]
    },
    {
      "cell_type": "code",
      "metadata": {
        "id": "Ihd2XTrazwk6",
        "colab": {
          "base_uri": "https://localhost:8080/"
        },
        "outputId": "b83ee67b-0ffa-46fe-d6a8-ec68cd2853c4"
      },
      "source": [
        "for n in [1, 2, 3, 5, 7, 9, 10, 20, 50]:\n",
        "  knn_model = KNeighborsClassifier(n_neighbors=n)\n",
        "  knn_model.fit(X_train, y_train)\n",
        "\n",
        "  accuracy = knn_model.score(X_test, y_test)\n",
        "  print(n, \": \", accuracy)\n",
        "  \n",
        "  # The accuracy is the highest when n_neighbor equals to 5 or 7"
      ],
      "execution_count": 600,
      "outputs": [
        {
          "output_type": "stream",
          "text": [
            "1 :  0.8524590163934426\n",
            "2 :  0.8524590163934426\n",
            "3 :  0.8688524590163934\n",
            "5 :  0.9180327868852459\n",
            "7 :  0.9180327868852459\n",
            "9 :  0.8852459016393442\n",
            "10 :  0.9016393442622951\n",
            "20 :  0.8852459016393442\n",
            "50 :  0.8852459016393442\n"
          ],
          "name": "stdout"
        }
      ]
    },
    {
      "cell_type": "markdown",
      "metadata": {
        "id": "cZh_uuVtzwk6"
      },
      "source": [
        "## Part 3. Additional Learning Methods "
      ]
    },
    {
      "cell_type": "markdown",
      "metadata": {
        "id": "vGntRY3Wzwk6"
      },
      "source": [
        "So we have a model that seems to work well. But let's see if we can do better! To do so we'll employ multiple learning methods and compare result."
      ]
    },
    {
      "cell_type": "markdown",
      "metadata": {
        "id": "O7dN2VUpzwk6"
      },
      "source": [
        "### Linear Decision Boundary Methods "
      ]
    },
    {
      "cell_type": "markdown",
      "metadata": {
        "id": "DkMlZgCwzwk6"
      },
      "source": [
        "### Logistic Regression"
      ]
    },
    {
      "cell_type": "markdown",
      "metadata": {
        "id": "CvXXlaFwzwk7"
      },
      "source": [
        "Let's now try another classifier, we introduced in lecture, one that's well known for handling linear models: Logistic Regression. Logistic regression is a statistical model that in its basic form uses a logistic function to model a binary dependent variable."
      ]
    },
    {
      "cell_type": "markdown",
      "metadata": {
        "id": "SNZ1kaKNzwk7"
      },
      "source": [
        "### Implement a Logistical Regression Classifier. Review the [Logistical Regression Documentation](https://scikit-learn.org/stable/modules/generated/sklearn.linear_model.LogisticRegression.html) for how to implement the model. "
      ]
    },
    {
      "cell_type": "code",
      "metadata": {
        "id": "pjYlmUyBzwk7",
        "colab": {
          "base_uri": "https://localhost:8080/"
        },
        "outputId": "f7ed9c20-d2e4-477a-a714-579a82e4c8a5"
      },
      "source": [
        "# Logistic Regression\n",
        "from sklearn.datasets import make_classification\n",
        "from sklearn.pipeline import make_pipeline\n",
        "from sklearn.linear_model import LogisticRegression\n",
        "\n",
        "\n",
        "X_train, X_test, y_train, y_test = train_test_split(X_prepared, y_prepared, test_size=0.2, random_state=42)\n",
        "\n",
        "# logistic_pipe = make_pipeline(StandardScaler(), LogisticRegression())\n",
        "# logistic_pipe.fit(X_train, y_train)\n",
        "\n",
        "logistic_clf =  LogisticRegression()\n",
        "logistic_clf.fit(X_train, y_train)\n",
        "logistic_clf.score(X_test, y_test)\n",
        "\n",
        "# from sklearn.metrics import accuracy_score\n",
        "# accuracy_score(y_test, pipe.predict(X_test))\n",
        "\n",
        "\n"
      ],
      "execution_count": 601,
      "outputs": [
        {
          "output_type": "execute_result",
          "data": {
            "text/plain": [
              "0.8524590163934426"
            ]
          },
          "metadata": {
            "tags": []
          },
          "execution_count": 601
        }
      ]
    },
    {
      "cell_type": "markdown",
      "metadata": {
        "id": "UsD6YyyXzwk7"
      },
      "source": [
        "### This time report four metrics: Accuracy, Precision, Recall, and F1 Score, and plot a Confusion Matrix. "
      ]
    },
    {
      "cell_type": "code",
      "metadata": {
        "id": "-A0NmPSAzwk7",
        "colab": {
          "base_uri": "https://localhost:8080/",
          "height": 394
        },
        "outputId": "2f030d1b-02a4-4899-f7cf-bed319ef9f48"
      },
      "source": [
        "draw_results(X_test, y_test, logistic_clf)"
      ],
      "execution_count": 602,
      "outputs": [
        {
          "output_type": "stream",
          "text": [
            "accuracy:  0.8524590163934426\n",
            "precision:  0.8333333333333334\n",
            "recall:  0.8620689655172413\n",
            "f1_score:  0.847457627118644\n",
            "confusion matrix:  [[27  5]\n",
            " [ 4 25]]\n"
          ],
          "name": "stdout"
        },
        {
          "output_type": "display_data",
          "data": {
            "image/png": "[encoded data removed]",
            "text/plain": [
              "<Figure size 432x288 with 2 Axes>"
            ]
          },
          "metadata": {
            "tags": []
          }
        }
      ]
    },
    {
      "cell_type": "markdown",
      "metadata": {
        "id": "efSeAI36zwk8"
      },
      "source": [
        "### Discuss what each measure is reporting, why they are different, and why are each of these measures is significant. Explore why we might choose to evaluate the performance of differing models differently based on these factors. Try to give some specific examples of scenarios in which you might value one of these measures over the others."
      ]
    },
    {
      "cell_type": "markdown",
      "metadata": {
        "id": "1cTAT84Zzwk8"
      },
      "source": [
        "[Provide explanation for each measure here] \n",
        "\n",
        "TODO "
      ]
    },
    {
      "cell_type": "markdown",
      "metadata": {
        "id": "Api-V_Rzzwk8"
      },
      "source": [
        "### Graph the resulting ROC curve of the model"
      ]
    },
    {
      "cell_type": "code",
      "metadata": {
        "colab": {
          "base_uri": "https://localhost:8080/"
        },
        "id": "_4wWkYb3jHAE",
        "outputId": "c7c27d3c-8c99-4f64-8b06-6dbc6fddc6a7"
      },
      "source": [
        "!pip install scikit-plot"
      ],
      "execution_count": 603,
      "outputs": [
        {
          "output_type": "stream",
          "text": [
            "Requirement already satisfied: scikit-plot in /usr/local/lib/python3.7/dist-packages (0.3.7)\n",
            "Requirement already satisfied: matplotlib>=1.4.0 in /usr/local/lib/python3.7/dist-packages (from scikit-plot) (3.2.2)\n",
            "Requirement already satisfied: joblib>=0.10 in /usr/local/lib/python3.7/dist-packages (from scikit-plot) (1.0.1)\n",
            "Requirement already satisfied: scipy>=0.9 in /usr/local/lib/python3.7/dist-packages (from scikit-plot) (1.4.1)\n",
            "Requirement already satisfied: scikit-learn>=0.18 in /usr/local/lib/python3.7/dist-packages (from scikit-plot) (0.22.2.post1)\n",
            "Requirement already satisfied: python-dateutil>=2.1 in /usr/local/lib/python3.7/dist-packages (from matplotlib>=1.4.0->scikit-plot) (2.8.1)\n",
            "Requirement already satisfied: kiwisolver>=1.0.1 in /usr/local/lib/python3.7/dist-packages (from matplotlib>=1.4.0->scikit-plot) (1.3.1)\n",
            "Requirement already satisfied: cycler>=0.10 in /usr/local/lib/python3.7/dist-packages (from matplotlib>=1.4.0->scikit-plot) (0.10.0)\n",
            "Requirement already satisfied: numpy>=1.11 in /usr/local/lib/python3.7/dist-packages (from matplotlib>=1.4.0->scikit-plot) (1.19.5)\n",
            "Requirement already satisfied: pyparsing!=2.0.4,!=2.1.2,!=2.1.6,>=2.0.1 in /usr/local/lib/python3.7/dist-packages (from matplotlib>=1.4.0->scikit-plot) (2.4.7)\n",
            "Requirement already satisfied: six>=1.5 in /usr/local/lib/python3.7/dist-packages (from python-dateutil>=2.1->matplotlib>=1.4.0->scikit-plot) (1.15.0)\n"
          ],
          "name": "stdout"
        }
      ]
    },
    {
      "cell_type": "code",
      "metadata": {
        "id": "8yUIdqokzwk8",
        "colab": {
          "base_uri": "https://localhost:8080/",
          "height": 358
        },
        "outputId": "955eca2a-cd6d-4878-9c72-d5048ab36c79"
      },
      "source": [
        "# pipe.predict_proba(X_test).shape\n",
        "\n",
        "\n",
        "\n",
        "import scikitplot as skplt\n",
        "import matplotlib.pyplot as plt\n",
        "\n",
        "# ground truth labels\n",
        "y_true = y_test\n",
        "# predicted probabilities generated by sklearn classifier\n",
        "y_probas = logistic_clf.predict_proba(X_test)\n",
        "\n",
        "\n",
        "skplt.metrics.plot_roc_curve(y_true, y_probas)\n",
        "plt.show()"
      ],
      "execution_count": 604,
      "outputs": [
        {
          "output_type": "stream",
          "text": [
            "/usr/local/lib/python3.7/dist-packages/sklearn/utils/deprecation.py:87: FutureWarning: Function plot_roc_curve is deprecated; This will be removed in v0.5.0. Please use scikitplot.metrics.plot_roc instead.\n",
            "  warnings.warn(msg, category=FutureWarning)\n"
          ],
          "name": "stderr"
        },
        {
          "output_type": "display_data",
          "data": {
            "image/png": "[encoded data removed]",
            "text/plain": [
              "<Figure size 432x288 with 1 Axes>"
            ]
          },
          "metadata": {
            "tags": []
          }
        }
      ]
    },
    {
      "cell_type": "markdown",
      "metadata": {
        "id": "qbO-CU_qzwk8"
      },
      "source": [
        "### Describe what an ROC curve is and what the results of this graph seem to be indicating"
      ]
    },
    {
      "cell_type": "markdown",
      "metadata": {
        "id": "9scZ6Nm-jciF"
      },
      "source": [
        ""
      ]
    },
    {
      "cell_type": "markdown",
      "metadata": {
        "id": "_lkFb9dxzwk8"
      },
      "source": [
        "[Discuss] \n",
        "\n",
        "The ROC curve shows the trade-off between sensitivity and specificity. Our Logistical Regression classifier gives a curve that is close to the top-left corner, indicating  a good performance. \n"
      ]
    },
    {
      "cell_type": "markdown",
      "metadata": {
        "id": "lLRmMIL9zwk9"
      },
      "source": [
        "### Let's tweak a few settings. First let's set your solver to 'sag', your max_iter= 10, and set penalty = 'none' and rerun your model. Report out the same metrics. Let's see how your results change!"
      ]
    },
    {
      "cell_type": "code",
      "metadata": {
        "id": "aVz11lPQzwk9",
        "colab": {
          "base_uri": "https://localhost:8080/",
          "height": 447
        },
        "outputId": "6aa0b80e-0a02-4307-d8ee-e5a0b5fa6d92"
      },
      "source": [
        "# Logistic Regression\n",
        "from sklearn.datasets import make_classification\n",
        "from sklearn.pipeline import make_pipeline\n",
        "from sklearn.linear_model import LogisticRegression\n",
        "\n",
        "\n",
        "\n",
        "X_train, X_test, y_train, y_test = train_test_split(X_prepared, y_prepared, test_size=0.2, random_state=42)\n",
        "\n",
        "logistic_clf =  LogisticRegression(solver='sag', max_iter=10, penalty='none')\n",
        "logistic_clf.fit(X_train, y_train)\n",
        "# logistic_clf.score(X_test, y_test)\n",
        "\n",
        "draw_results(X_test, y_test, logistic_clf)"
      ],
      "execution_count": 605,
      "outputs": [
        {
          "output_type": "stream",
          "text": [
            "/usr/local/lib/python3.7/dist-packages/sklearn/linear_model/_sag.py:330: ConvergenceWarning: The max_iter was reached which means the coef_ did not converge\n",
            "  \"the coef_ did not converge\", ConvergenceWarning)\n"
          ],
          "name": "stderr"
        },
        {
          "output_type": "stream",
          "text": [
            "accuracy:  0.8524590163934426\n",
            "precision:  0.8333333333333334\n",
            "recall:  0.8620689655172413\n",
            "f1_score:  0.847457627118644\n",
            "confusion matrix:  [[27  5]\n",
            " [ 4 25]]\n"
          ],
          "name": "stdout"
        },
        {
          "output_type": "display_data",
          "data": {
            "image/png": "[encoded data removed]",
            "text/plain": [
              "<Figure size 432x288 with 2 Axes>"
            ]
          },
          "metadata": {
            "tags": []
          }
        }
      ]
    },
    {
      "cell_type": "markdown",
      "metadata": {
        "id": "tO0hEAoDrawv"
      },
      "source": [
        ""
      ]
    },
    {
      "cell_type": "markdown",
      "metadata": {
        "id": "ZTQiYckqzwk9"
      },
      "source": [
        "### Did you notice that when you ran the previous model you got the following warning: \"ConvergenceWarning: The max_iter was reached which means the coef_ did not converge\". Check the documentation and see if you can implement a fix for this problem, and again report your results."
      ]
    },
    {
      "cell_type": "code",
      "metadata": {
        "id": "ui6GwrWtzwk9",
        "colab": {
          "base_uri": "https://localhost:8080/",
          "height": 394
        },
        "outputId": "45bbb572-34f8-49a2-b0a3-f9f346229aa4"
      },
      "source": [
        "# Logistic Regression\n",
        "# yes, it can be fixed when we set a higher max_iter\n",
        "from sklearn.datasets import make_classification\n",
        "from sklearn.pipeline import make_pipeline\n",
        "from sklearn.linear_model import LogisticRegression\n",
        "\n",
        "\n",
        "\n",
        "X_train, X_test, y_train, y_test = train_test_split(X_prepared, y_prepared, test_size=0.2, random_state=42)\n",
        "\n",
        "logistic_clf =  LogisticRegression(solver='sag', max_iter=100, penalty='none')\n",
        "logistic_clf.fit(X_train, y_train)\n",
        "# logistic_clf.score(X_test, y_test)\n",
        "\n",
        "# y_true = y_test;\n",
        "# y_pred = logistic_clf.predict(X_test)\n",
        "\n",
        "\n",
        "# scores = precision_recall_fscore_support(y_true, y_pred, average='binary')\n",
        "# f1 = f1_score(y_true, y_pred, average='binary')\n",
        "\n",
        "\n",
        "# print(\"precision: \", scores[0])\n",
        "# print(\"recall: \", scores[1])\n",
        "# print(\"f1_score: \", f1)\n",
        "# print(\"confusion matrix: \", confusion_matrix(y_true, y_pred))\n",
        "# draw_confusion_matrix(y_true, y_pred, ['positive', 'negative'])\n",
        "draw_results(X_test, y_test, logistic_clf)\n"
      ],
      "execution_count": 606,
      "outputs": [
        {
          "output_type": "stream",
          "text": [
            "accuracy:  0.8524590163934426\n",
            "precision:  0.8333333333333334\n",
            "recall:  0.8620689655172413\n",
            "f1_score:  0.847457627118644\n",
            "confusion matrix:  [[27  5]\n",
            " [ 4 25]]\n"
          ],
          "name": "stdout"
        },
        {
          "output_type": "display_data",
          "data": {
            "image/png": "[encoded data removed]",
            "text/plain": [
              "<Figure size 432x288 with 2 Axes>"
            ]
          },
          "metadata": {
            "tags": []
          }
        }
      ]
    },
    {
      "cell_type": "markdown",
      "metadata": {
        "id": "R0f9fWR-zwk-"
      },
      "source": [
        "### Explain what you changed, and why do you think, even though you 'fixed' the problem, that you may have harmed the outcome. What other Parameters you set may have impacted this result?"
      ]
    },
    {
      "cell_type": "markdown",
      "metadata": {
        "id": "LM7EscbFzwk-"
      },
      "source": [
        "[Provide explanation here] "
      ]
    },
    {
      "cell_type": "markdown",
      "metadata": {
        "id": "wYkRUjn7zwk-"
      },
      "source": [
        "### Rerun your logistic classifier, but modify the penalty = 'l1', solver='liblinear' and again report the results."
      ]
    },
    {
      "cell_type": "code",
      "metadata": {
        "id": "PhJVE4yVzwk-",
        "colab": {
          "base_uri": "https://localhost:8080/",
          "height": 394
        },
        "outputId": "d4c4ab1e-d3a9-4303-873d-1e865cdbb349"
      },
      "source": [
        "# Logistic Regression\n",
        "from sklearn.linear_model import LogisticRegression\n",
        "y = heartdisease['sick']\n",
        "X = heartdisease.drop(columns=['sick'])\n",
        "\n",
        "clf = LogisticRegression(random_state=0, penalty = 'l1', solver='liblinear').fit(X, y)\n",
        "\n",
        "draw_results(X_test, y_test, clf)\n",
        "\n",
        "# y_true = y_test;\n",
        "# y_pred = clf.predict(X_test)\n",
        "\n",
        "\n",
        "# scores = precision_recall_fscore_support(y_true, y_pred, average='binary')\n",
        "# f1 = f1_score(y_true, y_pred, average='binary')\n",
        "\n",
        "\n",
        "# clf.score(X,y)\n",
        "\n",
        "# print(\"precision: \", scores[0])\n",
        "# print(\"recall: \", scores[1])\n",
        "# print(\"f1_score: \", f1)\n",
        "# print(\"confusion matrix: \", confusion_matrix(y_true, y_pred))\n",
        "# draw_confusion_matrix(y_true, y_pred, ['positive', 'negative'])\n",
        "\n"
      ],
      "execution_count": 607,
      "outputs": [
        {
          "output_type": "stream",
          "text": [
            "accuracy:  0.819672131147541\n",
            "precision:  0.7647058823529411\n",
            "recall:  0.896551724137931\n",
            "f1_score:  0.8253968253968255\n",
            "confusion matrix:  [[24  8]\n",
            " [ 3 26]]\n"
          ],
          "name": "stdout"
        },
        {
          "output_type": "display_data",
          "data": {
            "image/png": "[encoded data removed]",
            "text/plain": [
              "<Figure size 432x288 with 2 Axes>"
            ]
          },
          "metadata": {
            "tags": []
          }
        }
      ]
    },
    {
      "cell_type": "markdown",
      "metadata": {
        "id": "GJ-IQLFCzwk_"
      },
      "source": [
        "### Explain what what the two solver approaches are, and why the liblinear likely produced the optimal outcome. "
      ]
    },
    {
      "cell_type": "markdown",
      "metadata": {
        "id": "44Yd8l9hzwk_"
      },
      "source": [
        "[Provide explanation here] "
      ]
    },
    {
      "cell_type": "markdown",
      "metadata": {
        "id": "F026RmB6zwk_"
      },
      "source": [
        "### We also played around with different penalty terms (none, L1 etc.) Describe what the purpose of a penalty term is and how an L1 penalty works."
      ]
    },
    {
      "cell_type": "markdown",
      "metadata": {
        "id": "Qh16kztjzwk_"
      },
      "source": [
        "[Discuss prompt here]"
      ]
    },
    {
      "cell_type": "markdown",
      "metadata": {
        "id": "e2HGVvkazwlA"
      },
      "source": [
        "### SVM (Support Vector Machine)"
      ]
    },
    {
      "cell_type": "markdown",
      "metadata": {
        "id": "1hikuJSpzwlA"
      },
      "source": [
        "A Support Vector Machine (SVM) is a discriminative classifier formally defined by a separating hyperplane. In other words, given labeled training data (supervised learning), the algorithm outputs an optimal hyperplane which categorizes new examples. In two dimentional space this hyperplane is a line dividing a plane in two parts where in each class lay in either side."
      ]
    },
    {
      "cell_type": "markdown",
      "metadata": {
        "id": "fzz7JgJNzwlA"
      },
      "source": [
        "### Implement a Support Vector Machine classifier on your pipelined data. Review the [SVM Documentation](https://scikit-learn.org/stable/modules/generated/sklearn.svm.SVC.html) for how to implement a model. For this implementation you can simply use the default settings, but set probability = True."
      ]
    },
    {
      "cell_type": "code",
      "metadata": {
        "id": "F8Dj0WygzwlA",
        "colab": {
          "base_uri": "https://localhost:8080/"
        },
        "outputId": "c7a2cd1f-5b5c-479b-d13c-c910bb8888e9"
      },
      "source": [
        "# SVM\n",
        "from sklearn.svm import SVC\n",
        "svc_pipe = Pipeline([('scaler', StandardScaler()), ('svc', SVC(probability=True))])\n",
        "svc_pipe.fit(X_train, y_train)\n",
        "\n",
        "svc_pipe.score(X_test, y_test)\n",
        "\n",
        "\n"
      ],
      "execution_count": 608,
      "outputs": [
        {
          "output_type": "execute_result",
          "data": {
            "text/plain": [
              "0.8688524590163934"
            ]
          },
          "metadata": {
            "tags": []
          },
          "execution_count": 608
        }
      ]
    },
    {
      "cell_type": "markdown",
      "metadata": {
        "id": "k4zRH-TPzwlA"
      },
      "source": [
        "### Report the accuracy, precision, recall, F1 Score, and confusion matrix and ROC Curve of the resulting model."
      ]
    },
    {
      "cell_type": "code",
      "metadata": {
        "id": "9-pmee2OzwlB",
        "colab": {
          "base_uri": "https://localhost:8080/",
          "height": 394
        },
        "outputId": "76641707-255f-4819-ce28-beebd5aefadf"
      },
      "source": [
        "from sklearn.metrics import accuracy_score\n",
        "from sklearn.metrics import confusion_matrix\n",
        "from sklearn.metrics import precision_recall_fscore_support\n",
        "\n",
        "# y_true = y_test;\n",
        "# y_pred = svc_pipe.predict(X_test)\n",
        "\n",
        "# accuracy = accuracy_score(y_test, svc_pipe.predict(X_test))\n",
        "# confusion_matrix = confusion_matrix(y_true, y_pred)\n",
        "# scores = precision_recall_fscore_support(y_true, y_pred, average='binary')\n",
        "\n",
        "# print(\"precision: \", scores[0])\n",
        "# print(\"recall: \", scores[1])\n",
        "# print(\"f1_score: \", scores[2])\n",
        "# print(\"confusion_matrix: \", confusion_matrix)\n",
        "\n",
        "# draw_confusion_matrix(y_true, y_pred, ['positive', 'negative'])\n",
        "\n",
        "draw_results(X_test, y_test, svc_pipe)\n",
        "# svc_pipe.predict_proba(X_test)"
      ],
      "execution_count": 609,
      "outputs": [
        {
          "output_type": "stream",
          "text": [
            "accuracy:  0.8688524590163934\n",
            "precision:  0.8387096774193549\n",
            "recall:  0.896551724137931\n",
            "f1_score:  0.8666666666666666\n",
            "confusion matrix:  [[27  5]\n",
            " [ 3 26]]\n"
          ],
          "name": "stdout"
        },
        {
          "output_type": "display_data",
          "data": {
            "image/png": "[encoded data removed]",
            "text/plain": [
              "<Figure size 432x288 with 2 Axes>"
            ]
          },
          "metadata": {
            "tags": []
          }
        }
      ]
    },
    {
      "cell_type": "code",
      "metadata": {
        "colab": {
          "base_uri": "https://localhost:8080/",
          "height": 358
        },
        "id": "2-eBZlzWlN5I",
        "outputId": "2b470f62-1683-4dad-9e8d-994c053d9718"
      },
      "source": [
        "import scikitplot as skplt\n",
        "import matplotlib.pyplot as plt\n",
        "\n",
        "# ground truth labels\n",
        "y_true = y_test\n",
        "# predicted probabilities generated by sklearn classifier\n",
        "y_probas = svc_pipe.predict_proba(X_test)\n",
        "\n",
        "\n",
        "skplt.metrics.plot_roc_curve(y_true, y_probas)\n",
        "plt.show()"
      ],
      "execution_count": 610,
      "outputs": [
        {
          "output_type": "stream",
          "text": [
            "/usr/local/lib/python3.7/dist-packages/sklearn/utils/deprecation.py:87: FutureWarning: Function plot_roc_curve is deprecated; This will be removed in v0.5.0. Please use scikitplot.metrics.plot_roc instead.\n",
            "  warnings.warn(msg, category=FutureWarning)\n"
          ],
          "name": "stderr"
        },
        {
          "output_type": "display_data",
          "data": {
            "image/png": "[encoded data removed]",
            "text/plain": [
              "<Figure size 432x288 with 1 Axes>"
            ]
          },
          "metadata": {
            "tags": []
          }
        }
      ]
    },
    {
      "cell_type": "markdown",
      "metadata": {
        "id": "kicfs0ovzwlB"
      },
      "source": [
        "### Rerun your SVM, but now modify your model parameter kernel to equal 'linear'. Again report your Accuracy, Precision, Recall, F1 scores, and Confusion matrix and plot the new ROC curve.  "
      ]
    },
    {
      "cell_type": "code",
      "metadata": {
        "id": "aTxtkBwnzwlB",
        "colab": {
          "base_uri": "https://localhost:8080/",
          "height": 394
        },
        "outputId": "3ae4cbc2-9aeb-4a0e-e7bf-3c5552be9850"
      },
      "source": [
        "# SVM\n",
        "from sklearn.svm import SVC\n",
        "from sklearn.metrics import accuracy_score\n",
        "from sklearn.metrics import confusion_matrix\n",
        "from sklearn.metrics import precision_recall_fscore_support\n",
        "\n",
        "\n",
        "svc_pipe = Pipeline([('scaler', StandardScaler()), ('svc', SVC(kernel='linear'))])\n",
        "svc_pipe.fit(X_train, y_train)\n",
        "svc_pipe.score(X_test, y_test)\n",
        "\n",
        "# y_true = y_test;\n",
        "# y_pred = svc_pipe.predict(X_test)\n",
        "\n",
        "# accuracy = accuracy_score(y_test, svc_pipe.predict(X_test))\n",
        "# confusion_matrix = confusion_matrix(y_true, y_pred)\n",
        "# scores = precision_recall_fscore_support(y_true, y_pred, average='binary')\n",
        "\n",
        "# print(\"precision: \", scores[0])\n",
        "# print(\"recall: \", scores[1])\n",
        "# print(\"f1_score: \", scores[2])\n",
        "# print(\"confusion_matrix: \", confusion_matrix)\n",
        "\n",
        "draw_results(X_test, y_test, svc_pipe)\n",
        "# y_pred\n",
        "# y_true\n"
      ],
      "execution_count": 611,
      "outputs": [
        {
          "output_type": "stream",
          "text": [
            "accuracy:  0.8688524590163934\n",
            "precision:  0.8620689655172413\n",
            "recall:  0.8620689655172413\n",
            "f1_score:  0.8620689655172413\n",
            "confusion matrix:  [[28  4]\n",
            " [ 4 25]]\n"
          ],
          "name": "stdout"
        },
        {
          "output_type": "display_data",
          "data": {
            "image/png": "[encoded data removed]",
            "text/plain": [
              "<Figure size 432x288 with 2 Axes>"
            ]
          },
          "metadata": {
            "tags": []
          }
        }
      ]
    },
    {
      "cell_type": "markdown",
      "metadata": {
        "id": "u1y7j-t1zwlC"
      },
      "source": [
        "### Explain the what the new results you've achieved mean. Read the documentation to understand what you've changed about your model and explain why changing that input parameter might impact the results in the manner you've observed."
      ]
    },
    {
      "cell_type": "markdown",
      "metadata": {
        "id": "h6OTeWifzwlC"
      },
      "source": [
        "[Discuss Prompt here]"
      ]
    },
    {
      "cell_type": "markdown",
      "metadata": {
        "id": "T9u_iGb9zwlC"
      },
      "source": [
        "### Both logistic regression and linear SVM are trying to classify data points using a linear decision boundary, then what’s the difference between their ways to find this boundary?"
      ]
    },
    {
      "cell_type": "markdown",
      "metadata": {
        "id": "hrwWBgK6zwlC"
      },
      "source": [
        "[Provide Answer here:] "
      ]
    },
    {
      "cell_type": "markdown",
      "metadata": {
        "id": "KXtc2yQhhsPv"
      },
      "source": [
        ""
      ]
    },
    {
      "cell_type": "markdown",
      "metadata": {
        "id": "gxalGNf-zwlC"
      },
      "source": [
        "## Baysian (Statistical) Classification"
      ]
    },
    {
      "cell_type": "markdown",
      "metadata": {
        "id": "2ySDycckzwlD"
      },
      "source": [
        "In class we will be learning about Naive Bayes, and statistical classification.\n",
        "\n",
        "Naive Bayes methods are a set of supervised learning algorithms based on applying Bayes’ theorem with the “naive” assumption of conditional independence between every pair of features given the value of the class variable. Bayes’ theorem states the following relationship, given class variable Y  and dependent feature vector X1 through Xn. "
      ]
    },
    {
      "cell_type": "markdown",
      "metadata": {
        "id": "HpWlRlYzzwlD"
      },
      "source": [
        "### Please implement a Naive Bayes Classifier on the pipelined data. For this model simply use the default parameters. Report out the number of mislabeled points that result (i.e., both the false positives and false negatives), along with the accuracy, precision, recall, F1 Score and Confusion Matrix. Refer to documentation on implementing a NB Classifier [here](https://scikit-learn.org/stable/modules/naive_bayes.html)"
      ]
    },
    {
      "cell_type": "code",
      "metadata": {
        "id": "b9YBB_1WzwlD",
        "colab": {
          "base_uri": "https://localhost:8080/",
          "height": 410
        },
        "outputId": "f13beede-0c20-4dd8-ab63-b92e4ddaeca1"
      },
      "source": [
        "from sklearn.naive_bayes import GaussianNB\n",
        "from sklearn.metrics import confusion_matrix\n",
        "\n",
        "X_train, X_test, y_train, y_test = train_test_split(X, y, test_size=0.2, random_state=0)\n",
        "gnb_pipe =  Pipeline([('scaler', StandardScaler()), ('gnb', GaussianNB())])\n",
        "gnb_pipe.fit(X_train, y_train)\n",
        "y_pred = gnb.predict(X_test)\n",
        "\n",
        "print(\"Number of mislabeled points out of a total %d points : %d\"\n",
        "       % (X_test.shape[0], (y_test != y_pred).sum()))\n",
        "\n",
        "\n",
        "\n",
        "# y_true = y_test;\n",
        "# y_pred = gnb_pipe.predict(X_test)\n",
        "\n",
        "# y_true\n",
        "# y_pred\n",
        "\n",
        "# accuracy = accuracy_score(y_test, gnb_pipe.predict(X_test))\n",
        "# confusion_matrix = confusion_matrix(y_true, y_pred)\n",
        "# scores = precision_recall_fscore_support(y_true, y_pred, average='binary')\n",
        "\n",
        "# print(\"precision: \", scores[0])\n",
        "# print(\"recall: \", scores[1])\n",
        "# print(\"f1_score: \", scores[2])\n",
        "# print(\"confusion_matrix: \", confusion_matrix)\n",
        "\n",
        "draw_results(X_test, y_test, gnb_pipe)"
      ],
      "execution_count": 612,
      "outputs": [
        {
          "output_type": "stream",
          "text": [
            "Number of mislabeled points out of a total 61 points : 9\n",
            "accuracy:  0.8524590163934426\n",
            "precision:  0.875\n",
            "recall:  0.7777777777777778\n",
            "f1_score:  0.823529411764706\n",
            "confusion matrix:  [[31  3]\n",
            " [ 6 21]]\n"
          ],
          "name": "stdout"
        },
        {
          "output_type": "display_data",
          "data": {
            "image/png": "[encoded data removed]",
            "text/plain": [
              "<Figure size 432x288 with 2 Axes>"
            ]
          },
          "metadata": {
            "tags": []
          }
        }
      ]
    },
    {
      "cell_type": "code",
      "metadata": {
        "id": "AtaIwsqxzwlD"
      },
      "source": [
        "# from sklearn.svm import SVC\n",
        "# from sklearn.metrics import accuracy_score\n",
        "# from sklearn.metrics import confusion_matrix\n",
        "# from sklearn.metrics import precision_recall_fscore_support\n",
        "\n",
        "\n",
        "# gnb_pipe = Pipeline([('scaler', StandardScaler()), ('gnb',GaussianNB())])\n",
        "# gnb_pipe.fit(X_train, y_train)\n",
        "# gnb_pipe.score(X_test, y_test)\n",
        "\n",
        "# y_true = y_test;\n",
        "# y_pred = gnb_pipe.predict(X_test)\n",
        "\n",
        "# accuracy = accuracy_score(y_test, svc_pipe.predict(X_test))\n",
        "# confusion_matrix = confusion_matrix(y_true, y_pred)\n",
        "# scores = precision_recall_fscore_support(y_true, y_pred, average='binary')\n",
        "\n",
        "# print(\"precision: \", scores[0])\n",
        "# print(\"recall: \", scores[1])\n",
        "# print(\"f1_score: \", scores[2])\n",
        "# print(\"confusion_matrix: \", confusion_matrix)"
      ],
      "execution_count": 613,
      "outputs": []
    },
    {
      "cell_type": "markdown",
      "metadata": {
        "id": "E-GXP7HVzwlD"
      },
      "source": [
        "### Discuss the observed results. What assumptions about our data are we making here and why might those be inacurate?"
      ]
    },
    {
      "cell_type": "markdown",
      "metadata": {
        "id": "4F83N0zjzwlD"
      },
      "source": [
        "[Discuss here]\n",
        "We assume the target has correlation with every feature, we also assume the 13 feature determines the value of the target. But this is not necessary true, there might be more featere/reasons/factors that we have not included and affects the target value. "
      ]
    },
    {
      "cell_type": "markdown",
      "metadata": {
        "id": "qJKqWka1zwlE"
      },
      "source": [
        "## Cross Validation and Model Selection"
      ]
    },
    {
      "cell_type": "markdown",
      "metadata": {
        "id": "yj-DBLdnzwlE"
      },
      "source": [
        "You've sampled a number of different classification techniques, leveraging clusters, linear classifiers, and Statistical Classifiers, as well as experimented with tweak different parameters to optimize perfiormance. Based on these experiments you should have settled on a particular model that performs most optimally on the chosen dataset. \n",
        "\n",
        "Before our work is done though, we want to ensure that our results are not the result of the random sampling of our data we did with the Train-Test-Split. To ensure otherwise we will conduct a K-Fold Cross-Validation of our top two performing models, assess their cumulative performance across folds, and determine the best model for our particular data. "
      ]
    },
    {
      "cell_type": "markdown",
      "metadata": {
        "id": "wAqzUocJzwlE"
      },
      "source": [
        "## Select your top 2 performing models and run a K-Fold Cross Validation on both (use 10 folds). Report your best performing model."
      ]
    },
    {
      "cell_type": "code",
      "metadata": {
        "id": "OFZlRuyMzwlE"
      },
      "source": [
        "#  The top 2 performing models are: \n",
        "#   1. StandardScaler + KNN(K=5 OR 7) --> ACCURACY = 0.9180327868852459\n",
        "#   2. StandardScaler + SVC --> ACCURACY = 0.8688524590163934"
      ],
      "execution_count": 614,
      "outputs": []
    },
    {
      "cell_type": "code",
      "metadata": {
        "id": "zgOAZiT9zwlE"
      },
      "source": [
        "from sklearn.model_selection import KFold"
      ],
      "execution_count": 615,
      "outputs": []
    },
    {
      "cell_type": "markdown",
      "metadata": {
        "id": "bWcn83wwzwlE"
      },
      "source": [
        "[Discuss]"
      ]
    }
  ]
}